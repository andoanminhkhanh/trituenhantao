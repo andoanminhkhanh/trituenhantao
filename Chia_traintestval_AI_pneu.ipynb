{
  "nbformat": 4,
  "nbformat_minor": 0,
  "metadata": {
    "colab": {
      "provenance": [],
      "gpuType": "T4",
      "authorship_tag": "ABX9TyNL0J7ls2GFODfW7VLaQQKc",
      "include_colab_link": true
    },
    "kernelspec": {
      "name": "python3",
      "display_name": "Python 3"
    },
    "language_info": {
      "name": "python"
    },
    "accelerator": "GPU"
  },
  "cells": [
    {
      "cell_type": "markdown",
      "metadata": {
        "id": "view-in-github",
        "colab_type": "text"
      },
      "source": [
        "<a href=\"https://colab.research.google.com/github/andoanminhkhanh/trituenhantao/blob/main/Chia_traintestval_AI_pneu.ipynb\" target=\"_parent\"><img src=\"https://colab.research.google.com/assets/colab-badge.svg\" alt=\"Open In Colab\"/></a>"
      ]
    },
    {
      "cell_type": "code",
      "source": [
        "!pip install scikit-learn"
      ],
      "metadata": {
        "colab": {
          "base_uri": "https://localhost:8080/"
        },
        "id": "Y0HG2rgD9qUC",
        "outputId": "ef4aa6d2-d0f8-437d-fb0d-f72d406aa8e4"
      },
      "execution_count": 1,
      "outputs": [
        {
          "output_type": "stream",
          "name": "stdout",
          "text": [
            "Requirement already satisfied: scikit-learn in /usr/local/lib/python3.10/dist-packages (1.2.2)\n",
            "Requirement already satisfied: numpy>=1.17.3 in /usr/local/lib/python3.10/dist-packages (from scikit-learn) (1.25.2)\n",
            "Requirement already satisfied: scipy>=1.3.2 in /usr/local/lib/python3.10/dist-packages (from scikit-learn) (1.11.4)\n",
            "Requirement already satisfied: joblib>=1.1.1 in /usr/local/lib/python3.10/dist-packages (from scikit-learn) (1.4.2)\n",
            "Requirement already satisfied: threadpoolctl>=2.0.0 in /usr/local/lib/python3.10/dist-packages (from scikit-learn) (3.5.0)\n"
          ]
        }
      ]
    },
    {
      "cell_type": "code",
      "source": [
        "from google.colab import drive\n",
        "drive.mount('/content/drive')"
      ],
      "metadata": {
        "colab": {
          "base_uri": "https://localhost:8080/"
        },
        "id": "HAP2da0e9-WR",
        "outputId": "46d72df9-9454-4ea7-c887-528319d5aef1"
      },
      "execution_count": 2,
      "outputs": [
        {
          "output_type": "stream",
          "name": "stdout",
          "text": [
            "Mounted at /content/drive\n"
          ]
        }
      ]
    },
    {
      "cell_type": "code",
      "source": [
        "import os\n",
        "import shutil\n",
        "from sklearn.model_selection import train_test_split\n",
        "\n",
        "# Đường dẫn đến thư mục chứa tập dữ liệu hình ảnh trên Google Drive\n",
        "data_dir = \"/content/drive/MyDrive/AI/PNEUMONIA\"\n",
        "\n",
        "# Danh sách các đuôi file hình ảnh\n",
        "image_extensions = [\".jpeg\", \".jpg\", \".png\"]\n",
        "\n",
        "# Danh sách tất cả các file hình ảnh trong thư mục data_dir\n",
        "image_files = [os.path.join(data_dir, f) for f in os.listdir(data_dir) if f.endswith(tuple(image_extensions))]\n",
        "\n",
        "# Chia tập dữ liệu thành train, test và validation với tỉ lệ 70%, 15%, 15%\n",
        "train_images, test_val_images = train_test_split(image_files, test_size=0.3, random_state=42)\n",
        "test_images, val_images = train_test_split(test_val_images, test_size=0.5, random_state=42)\n",
        "\n",
        "# Đường dẫn đến thư mục mới cho các tập train, test và validation\n",
        "new_data_dir = \"/content/drive/MyDrive/AI/PNEUMONIA_chia\"\n",
        "new_train_dir = os.path.join(new_data_dir, \"train\")\n",
        "new_test_dir = os.path.join(new_data_dir, \"test\")\n",
        "new_val_dir = os.path.join(new_data_dir, \"val\")\n",
        "for dir_path in [new_train_dir, new_test_dir, new_val_dir]:\n",
        "    if not os.path.exists(dir_path):\n",
        "        os.makedirs(dir_path)\n",
        "\n",
        "# Sao chép các tệp từ các tập train, test và validation vào các thư mục mới\n",
        "def copy_to_new_directory(images, destination_dir):\n",
        "    for img in images:\n",
        "        shutil.copy(img, destination_dir)  # Sao chép tệp vào thư mục đích\n",
        "\n",
        "copy_to_new_directory(train_images, new_train_dir)\n",
        "copy_to_new_directory(test_images, new_test_dir)\n",
        "copy_to_new_directory(val_images, new_val_dir)\n",
        "\n",
        "print(\"Đã sao chép thành công các tệp train, test và validation vào thư mục mới trên Google Drive.\")\n"
      ],
      "metadata": {
        "colab": {
          "base_uri": "https://localhost:8080/"
        },
        "id": "THVBH6KCxoHy",
        "outputId": "73427482-a85c-4155-8e83-a1dd74c3bc8d"
      },
      "execution_count": 3,
      "outputs": [
        {
          "output_type": "stream",
          "name": "stdout",
          "text": [
            "Đã sao chép thành công các tệp train, test và validation vào thư mục mới trên Google Drive.\n"
          ]
        }
      ]
    }
  ]
}