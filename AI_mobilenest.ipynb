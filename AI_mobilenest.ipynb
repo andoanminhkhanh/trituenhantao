{
  "nbformat": 4,
  "nbformat_minor": 0,
  "metadata": {
    "colab": {
      "provenance": []
    },
    "kernelspec": {
      "name": "python3",
      "display_name": "Python 3"
    },
    "language_info": {
      "name": "python"
    }
  },
  "cells": [
    {
      "cell_type": "code",
      "execution_count": 1,
      "metadata": {
        "colab": {
          "base_uri": "https://localhost:8080/"
        },
        "id": "6O3q28exG61W",
        "outputId": "19d7b971-8c0e-4774-fd69-138ba787a09e"
      },
      "outputs": [
        {
          "output_type": "stream",
          "name": "stdout",
          "text": [
            "Mounted at /content/drive\n"
          ]
        }
      ],
      "source": [
        "from google.colab import drive\n",
        "drive.mount('/content/drive')"
      ]
    },
    {
      "cell_type": "code",
      "source": [
        "from keras.preprocessing.image import ImageDataGenerator\n",
        "from tensorflow.keras.layers import AveragePooling2D\n",
        "from keras.applications import MobileNet\n",
        "from tensorflow.keras.layers import Flatten,Dense,Dropout\n",
        "from keras.layers import Input\n",
        "from keras.models import Model\n",
        "from keras.optimizers import SGD\n",
        "from sklearn.preprocessing import LabelBinarizer\n",
        "from sklearn.model_selection import train_test_split\n",
        "from sklearn.metrics import classification_report\n",
        "from imutils import paths\n",
        "import matplotlib.pyplot as plt\n",
        "import numpy as np\n",
        "import argparse\n",
        "import pickle\n",
        "import cv2\n",
        "import os"
      ],
      "metadata": {
        "id": "-CBL3mlpHvyP"
      },
      "execution_count": 2,
      "outputs": []
    },
    {
      "cell_type": "markdown",
      "source": [
        "Xác định kích thước đầu vào"
      ],
      "metadata": {
        "id": "H_w9E2HhIUpd"
      }
    },
    {
      "cell_type": "code",
      "source": [
        "batch_size = 32 # sử dụng 32 mẫu trong mỗi lần huấn luyện\n",
        "img_height = 150 # chiều cao ảnh\n",
        "img_width = 150 # chiều rộng ảnh"
      ],
      "metadata": {
        "id": "qbRbAUcEISfO"
      },
      "execution_count": 3,
      "outputs": []
    },
    {
      "cell_type": "markdown",
      "source": [
        "Tiền xử lý dữ liệu"
      ],
      "metadata": {
        "id": "7eeuSQ8BIybS"
      }
    },
    {
      "cell_type": "code",
      "source": [
        "from imutils import paths\n",
        "imgTrain = list(paths.list_images(\"/content/drive/MyDrive/AI/Train\"))\n",
        "imgTest = list(paths.list_images(\"/content/drive/MyDrive/AI/Test\"))"
      ],
      "metadata": {
        "id": "fboA-xZ3I0on"
      },
      "execution_count": 14,
      "outputs": []
    },
    {
      "cell_type": "code",
      "source": [
        "X_train = []\n",
        "y_train = []"
      ],
      "metadata": {
        "id": "ttI7CY6MJHpl"
      },
      "execution_count": 15,
      "outputs": []
    },
    {
      "cell_type": "code",
      "source": [
        "for path_train in imgTrain:\n",
        "\n",
        "\tY_train = path_train.split(os.path.sep)[-2]\n",
        "\n",
        "\t# Xu ly anh\n",
        "\timg = cv2.imread(path_train)\n",
        "\timg = cv2.cvtColor(img, cv2.COLOR_BGR2RGB)\n",
        "\timg = cv2.resize(img, (150, 150))\n",
        "\n",
        "\t# Them vao du lieu data va label\n",
        "\tX_train.append(img)\n",
        "\ty_train.append(Y_train)"
      ],
      "metadata": {
        "id": "sBAUWn6iJJEc"
      },
      "execution_count": 16,
      "outputs": []
    },
    {
      "cell_type": "code",
      "source": [
        "# Check if any labels were extracted\n",
        "print(\"Number of labels:\", len(y_train))\n",
        "if len(y_train) == 0:\n",
        "    print(\"Warning: No labels were extracted. Check your image paths and label extraction logic.\")"
      ],
      "metadata": {
        "colab": {
          "base_uri": "https://localhost:8080/"
        },
        "id": "EWKhzOR4Ap2q",
        "outputId": "400896d8-28f9-43e8-f9e4-7f8efec7d524"
      },
      "execution_count": 17,
      "outputs": [
        {
          "output_type": "stream",
          "name": "stdout",
          "text": [
            "Number of labels: 4900\n"
          ]
        }
      ]
    },
    {
      "cell_type": "code",
      "source": [
        "from sklearn.preprocessing import LabelBinarizer\n",
        "\n",
        "X_train = np.array(X_train)\n",
        "y_train = np.array(y_train)\n",
        "lb = LabelBinarizer()\n",
        "y_train = lb.fit_transform(y_train)\n",
        "X_train = X_train.astype('float32') / 255"
      ],
      "metadata": {
        "id": "gplFIq7tJMxA"
      },
      "execution_count": 18,
      "outputs": []
    },
    {
      "cell_type": "markdown",
      "source": [
        "TEST"
      ],
      "metadata": {
        "id": "JCGhOb0kJSor"
      }
    },
    {
      "cell_type": "code",
      "source": [
        "X_test = []\n",
        "y_test = []"
      ],
      "metadata": {
        "id": "hYhitgWpJQJj"
      },
      "execution_count": 19,
      "outputs": []
    },
    {
      "cell_type": "code",
      "source": [
        "for path_test in imgTest:\n",
        "\n",
        "\tY_test = path_test.split(os.path.sep)[-2]\n",
        "\n",
        "\t# Xu ly anh\n",
        "\timg1 = cv2.imread(path_test)\n",
        "\timg1 = cv2.cvtColor(img1, cv2.COLOR_BGR2RGB)\n",
        "\timg1 = cv2.resize(img1, (150, 150))\n",
        "\n",
        "\t# Them vao du lieu data va label\n",
        "\tX_test.append(img1)\n",
        "\ty_test.append(Y_test)"
      ],
      "metadata": {
        "id": "6Jh8wL9CJXKH"
      },
      "execution_count": 20,
      "outputs": []
    },
    {
      "cell_type": "code",
      "source": [
        "X_test = np.array(X_test)\n",
        "y_test = np.array(y_test)\n",
        "y_test = lb.fit_transform(y_test)\n",
        "X_test = X_test.astype('float32') / 255"
      ],
      "metadata": {
        "id": "0q8S8w9MJZt6"
      },
      "execution_count": 21,
      "outputs": []
    },
    {
      "cell_type": "markdown",
      "source": [
        "Xây dựng mô hình"
      ],
      "metadata": {
        "id": "4jmnXIVsJrOn"
      }
    },
    {
      "cell_type": "code",
      "source": [
        "baseModel = MobileNet(weights=\"imagenet\", include_top=False, input_tensor=Input(shape=(150, 150, 3)))\n",
        "headModel = baseModel.output\n",
        "headModel = AveragePooling2D(pool_size=(2, 2))(headModel)\n",
        "headModel = Flatten(name=\"flatten\")(headModel)\n",
        "headModel = Dense(512, activation=\"relu\")(headModel)\n",
        "headModel = Dropout(0.5)(headModel)\n",
        "headModel = Dense(len(lb.classes_), activation=\"softmax\")(headModel)\n",
        "model = Model(inputs=baseModel.input, outputs=headModel)"
      ],
      "metadata": {
        "colab": {
          "base_uri": "https://localhost:8080/"
        },
        "id": "GBlbNfVwJc66",
        "outputId": "a527c92a-70d1-4183-8582-8c6a4750807c"
      },
      "execution_count": 22,
      "outputs": [
        {
          "output_type": "stream",
          "name": "stderr",
          "text": [
            "WARNING:tensorflow:`input_shape` is undefined or non-square, or `rows` is not in [128, 160, 192, 224]. Weights for input shape (224, 224) will be loaded as the default.\n"
          ]
        },
        {
          "output_type": "stream",
          "name": "stdout",
          "text": [
            "Downloading data from https://storage.googleapis.com/tensorflow/keras-applications/mobilenet/mobilenet_1_0_224_tf_no_top.h5\n",
            "17225924/17225924 [==============================] - 0s 0us/step\n"
          ]
        }
      ]
    },
    {
      "cell_type": "code",
      "source": [
        "for layer in baseModel.layers:\n",
        "\tlayer.trainable = False"
      ],
      "metadata": {
        "id": "ZFlefSJvJwXj"
      },
      "execution_count": 23,
      "outputs": []
    },
    {
      "cell_type": "code",
      "source": [
        "model.compile(optimizer = 'adam', # phương pháp tối ưu hóa Adam\n",
        "                     loss = 'sparse_categorical_crossentropy', # hàm mất mát đo sự khác biệt giữa đầu ra dự đoán và nhãn thực tế;\n",
        "                     # sparse categorical cross-entropy thích hợp khi nhãn đầu vào không được mã hóa theo one-hot encoding, mà là các giá trị số nguyên\n",
        "                     metrics = ['accuracy']) # các độ đo để đánh giá hiệu suất của mô hình. Độ chính xác ('accuracy') là tỷ lệ giữa số dự đoán đúng và tổng số mẫu"
      ],
      "metadata": {
        "id": "EkV0UCkOJy9X"
      },
      "execution_count": 24,
      "outputs": []
    },
    {
      "cell_type": "code",
      "source": [
        "# Kiến trúc mô hình\n",
        "model.summary()"
      ],
      "metadata": {
        "colab": {
          "base_uri": "https://localhost:8080/"
        },
        "id": "fmpxseooJ2x7",
        "outputId": "054077ae-fbe5-43c3-e110-52104546250b"
      },
      "execution_count": 25,
      "outputs": [
        {
          "output_type": "stream",
          "name": "stdout",
          "text": [
            "Model: \"model\"\n",
            "_________________________________________________________________\n",
            " Layer (type)                Output Shape              Param #   \n",
            "=================================================================\n",
            " input_1 (InputLayer)        [(None, 150, 150, 3)]     0         \n",
            "                                                                 \n",
            " conv1 (Conv2D)              (None, 75, 75, 32)        864       \n",
            "                                                                 \n",
            " conv1_bn (BatchNormalizati  (None, 75, 75, 32)        128       \n",
            " on)                                                             \n",
            "                                                                 \n",
            " conv1_relu (ReLU)           (None, 75, 75, 32)        0         \n",
            "                                                                 \n",
            " conv_dw_1 (DepthwiseConv2D  (None, 75, 75, 32)        288       \n",
            " )                                                               \n",
            "                                                                 \n",
            " conv_dw_1_bn (BatchNormali  (None, 75, 75, 32)        128       \n",
            " zation)                                                         \n",
            "                                                                 \n",
            " conv_dw_1_relu (ReLU)       (None, 75, 75, 32)        0         \n",
            "                                                                 \n",
            " conv_pw_1 (Conv2D)          (None, 75, 75, 64)        2048      \n",
            "                                                                 \n",
            " conv_pw_1_bn (BatchNormali  (None, 75, 75, 64)        256       \n",
            " zation)                                                         \n",
            "                                                                 \n",
            " conv_pw_1_relu (ReLU)       (None, 75, 75, 64)        0         \n",
            "                                                                 \n",
            " conv_pad_2 (ZeroPadding2D)  (None, 76, 76, 64)        0         \n",
            "                                                                 \n",
            " conv_dw_2 (DepthwiseConv2D  (None, 37, 37, 64)        576       \n",
            " )                                                               \n",
            "                                                                 \n",
            " conv_dw_2_bn (BatchNormali  (None, 37, 37, 64)        256       \n",
            " zation)                                                         \n",
            "                                                                 \n",
            " conv_dw_2_relu (ReLU)       (None, 37, 37, 64)        0         \n",
            "                                                                 \n",
            " conv_pw_2 (Conv2D)          (None, 37, 37, 128)       8192      \n",
            "                                                                 \n",
            " conv_pw_2_bn (BatchNormali  (None, 37, 37, 128)       512       \n",
            " zation)                                                         \n",
            "                                                                 \n",
            " conv_pw_2_relu (ReLU)       (None, 37, 37, 128)       0         \n",
            "                                                                 \n",
            " conv_dw_3 (DepthwiseConv2D  (None, 37, 37, 128)       1152      \n",
            " )                                                               \n",
            "                                                                 \n",
            " conv_dw_3_bn (BatchNormali  (None, 37, 37, 128)       512       \n",
            " zation)                                                         \n",
            "                                                                 \n",
            " conv_dw_3_relu (ReLU)       (None, 37, 37, 128)       0         \n",
            "                                                                 \n",
            " conv_pw_3 (Conv2D)          (None, 37, 37, 128)       16384     \n",
            "                                                                 \n",
            " conv_pw_3_bn (BatchNormali  (None, 37, 37, 128)       512       \n",
            " zation)                                                         \n",
            "                                                                 \n",
            " conv_pw_3_relu (ReLU)       (None, 37, 37, 128)       0         \n",
            "                                                                 \n",
            " conv_pad_4 (ZeroPadding2D)  (None, 38, 38, 128)       0         \n",
            "                                                                 \n",
            " conv_dw_4 (DepthwiseConv2D  (None, 18, 18, 128)       1152      \n",
            " )                                                               \n",
            "                                                                 \n",
            " conv_dw_4_bn (BatchNormali  (None, 18, 18, 128)       512       \n",
            " zation)                                                         \n",
            "                                                                 \n",
            " conv_dw_4_relu (ReLU)       (None, 18, 18, 128)       0         \n",
            "                                                                 \n",
            " conv_pw_4 (Conv2D)          (None, 18, 18, 256)       32768     \n",
            "                                                                 \n",
            " conv_pw_4_bn (BatchNormali  (None, 18, 18, 256)       1024      \n",
            " zation)                                                         \n",
            "                                                                 \n",
            " conv_pw_4_relu (ReLU)       (None, 18, 18, 256)       0         \n",
            "                                                                 \n",
            " conv_dw_5 (DepthwiseConv2D  (None, 18, 18, 256)       2304      \n",
            " )                                                               \n",
            "                                                                 \n",
            " conv_dw_5_bn (BatchNormali  (None, 18, 18, 256)       1024      \n",
            " zation)                                                         \n",
            "                                                                 \n",
            " conv_dw_5_relu (ReLU)       (None, 18, 18, 256)       0         \n",
            "                                                                 \n",
            " conv_pw_5 (Conv2D)          (None, 18, 18, 256)       65536     \n",
            "                                                                 \n",
            " conv_pw_5_bn (BatchNormali  (None, 18, 18, 256)       1024      \n",
            " zation)                                                         \n",
            "                                                                 \n",
            " conv_pw_5_relu (ReLU)       (None, 18, 18, 256)       0         \n",
            "                                                                 \n",
            " conv_pad_6 (ZeroPadding2D)  (None, 19, 19, 256)       0         \n",
            "                                                                 \n",
            " conv_dw_6 (DepthwiseConv2D  (None, 9, 9, 256)         2304      \n",
            " )                                                               \n",
            "                                                                 \n",
            " conv_dw_6_bn (BatchNormali  (None, 9, 9, 256)         1024      \n",
            " zation)                                                         \n",
            "                                                                 \n",
            " conv_dw_6_relu (ReLU)       (None, 9, 9, 256)         0         \n",
            "                                                                 \n",
            " conv_pw_6 (Conv2D)          (None, 9, 9, 512)         131072    \n",
            "                                                                 \n",
            " conv_pw_6_bn (BatchNormali  (None, 9, 9, 512)         2048      \n",
            " zation)                                                         \n",
            "                                                                 \n",
            " conv_pw_6_relu (ReLU)       (None, 9, 9, 512)         0         \n",
            "                                                                 \n",
            " conv_dw_7 (DepthwiseConv2D  (None, 9, 9, 512)         4608      \n",
            " )                                                               \n",
            "                                                                 \n",
            " conv_dw_7_bn (BatchNormali  (None, 9, 9, 512)         2048      \n",
            " zation)                                                         \n",
            "                                                                 \n",
            " conv_dw_7_relu (ReLU)       (None, 9, 9, 512)         0         \n",
            "                                                                 \n",
            " conv_pw_7 (Conv2D)          (None, 9, 9, 512)         262144    \n",
            "                                                                 \n",
            " conv_pw_7_bn (BatchNormali  (None, 9, 9, 512)         2048      \n",
            " zation)                                                         \n",
            "                                                                 \n",
            " conv_pw_7_relu (ReLU)       (None, 9, 9, 512)         0         \n",
            "                                                                 \n",
            " conv_dw_8 (DepthwiseConv2D  (None, 9, 9, 512)         4608      \n",
            " )                                                               \n",
            "                                                                 \n",
            " conv_dw_8_bn (BatchNormali  (None, 9, 9, 512)         2048      \n",
            " zation)                                                         \n",
            "                                                                 \n",
            " conv_dw_8_relu (ReLU)       (None, 9, 9, 512)         0         \n",
            "                                                                 \n",
            " conv_pw_8 (Conv2D)          (None, 9, 9, 512)         262144    \n",
            "                                                                 \n",
            " conv_pw_8_bn (BatchNormali  (None, 9, 9, 512)         2048      \n",
            " zation)                                                         \n",
            "                                                                 \n",
            " conv_pw_8_relu (ReLU)       (None, 9, 9, 512)         0         \n",
            "                                                                 \n",
            " conv_dw_9 (DepthwiseConv2D  (None, 9, 9, 512)         4608      \n",
            " )                                                               \n",
            "                                                                 \n",
            " conv_dw_9_bn (BatchNormali  (None, 9, 9, 512)         2048      \n",
            " zation)                                                         \n",
            "                                                                 \n",
            " conv_dw_9_relu (ReLU)       (None, 9, 9, 512)         0         \n",
            "                                                                 \n",
            " conv_pw_9 (Conv2D)          (None, 9, 9, 512)         262144    \n",
            "                                                                 \n",
            " conv_pw_9_bn (BatchNormali  (None, 9, 9, 512)         2048      \n",
            " zation)                                                         \n",
            "                                                                 \n",
            " conv_pw_9_relu (ReLU)       (None, 9, 9, 512)         0         \n",
            "                                                                 \n",
            " conv_dw_10 (DepthwiseConv2  (None, 9, 9, 512)         4608      \n",
            " D)                                                              \n",
            "                                                                 \n",
            " conv_dw_10_bn (BatchNormal  (None, 9, 9, 512)         2048      \n",
            " ization)                                                        \n",
            "                                                                 \n",
            " conv_dw_10_relu (ReLU)      (None, 9, 9, 512)         0         \n",
            "                                                                 \n",
            " conv_pw_10 (Conv2D)         (None, 9, 9, 512)         262144    \n",
            "                                                                 \n",
            " conv_pw_10_bn (BatchNormal  (None, 9, 9, 512)         2048      \n",
            " ization)                                                        \n",
            "                                                                 \n",
            " conv_pw_10_relu (ReLU)      (None, 9, 9, 512)         0         \n",
            "                                                                 \n",
            " conv_dw_11 (DepthwiseConv2  (None, 9, 9, 512)         4608      \n",
            " D)                                                              \n",
            "                                                                 \n",
            " conv_dw_11_bn (BatchNormal  (None, 9, 9, 512)         2048      \n",
            " ization)                                                        \n",
            "                                                                 \n",
            " conv_dw_11_relu (ReLU)      (None, 9, 9, 512)         0         \n",
            "                                                                 \n",
            " conv_pw_11 (Conv2D)         (None, 9, 9, 512)         262144    \n",
            "                                                                 \n",
            " conv_pw_11_bn (BatchNormal  (None, 9, 9, 512)         2048      \n",
            " ization)                                                        \n",
            "                                                                 \n",
            " conv_pw_11_relu (ReLU)      (None, 9, 9, 512)         0         \n",
            "                                                                 \n",
            " conv_pad_12 (ZeroPadding2D  (None, 10, 10, 512)       0         \n",
            " )                                                               \n",
            "                                                                 \n",
            " conv_dw_12 (DepthwiseConv2  (None, 4, 4, 512)         4608      \n",
            " D)                                                              \n",
            "                                                                 \n",
            " conv_dw_12_bn (BatchNormal  (None, 4, 4, 512)         2048      \n",
            " ization)                                                        \n",
            "                                                                 \n",
            " conv_dw_12_relu (ReLU)      (None, 4, 4, 512)         0         \n",
            "                                                                 \n",
            " conv_pw_12 (Conv2D)         (None, 4, 4, 1024)        524288    \n",
            "                                                                 \n",
            " conv_pw_12_bn (BatchNormal  (None, 4, 4, 1024)        4096      \n",
            " ization)                                                        \n",
            "                                                                 \n",
            " conv_pw_12_relu (ReLU)      (None, 4, 4, 1024)        0         \n",
            "                                                                 \n",
            " conv_dw_13 (DepthwiseConv2  (None, 4, 4, 1024)        9216      \n",
            " D)                                                              \n",
            "                                                                 \n",
            " conv_dw_13_bn (BatchNormal  (None, 4, 4, 1024)        4096      \n",
            " ization)                                                        \n",
            "                                                                 \n",
            " conv_dw_13_relu (ReLU)      (None, 4, 4, 1024)        0         \n",
            "                                                                 \n",
            " conv_pw_13 (Conv2D)         (None, 4, 4, 1024)        1048576   \n",
            "                                                                 \n",
            " conv_pw_13_bn (BatchNormal  (None, 4, 4, 1024)        4096      \n",
            " ization)                                                        \n",
            "                                                                 \n",
            " conv_pw_13_relu (ReLU)      (None, 4, 4, 1024)        0         \n",
            "                                                                 \n",
            " average_pooling2d (Average  (None, 2, 2, 1024)        0         \n",
            " Pooling2D)                                                      \n",
            "                                                                 \n",
            " flatten (Flatten)           (None, 4096)              0         \n",
            "                                                                 \n",
            " dense (Dense)               (None, 512)               2097664   \n",
            "                                                                 \n",
            " dropout (Dropout)           (None, 512)               0         \n",
            "                                                                 \n",
            " dense_1 (Dense)             (None, 2)                 1026      \n",
            "                                                                 \n",
            "=================================================================\n",
            "Total params: 5327554 (20.32 MB)\n",
            "Trainable params: 2098690 (8.01 MB)\n",
            "Non-trainable params: 3228864 (12.32 MB)\n",
            "_________________________________________________________________\n"
          ]
        }
      ]
    },
    {
      "cell_type": "code",
      "source": [
        "# Huấn luyện mô hình\n",
        "epochs3 = 15\n",
        "history3 = model.fit(\n",
        "  X_train, y_train,\n",
        "  validation_data = (X_test, y_test),\n",
        "  epochs = epochs3,\n",
        "  batch_size = 32)"
      ],
      "metadata": {
        "colab": {
          "base_uri": "https://localhost:8080/"
        },
        "id": "K7WPg5LTJ8P3",
        "outputId": "269ae8e1-1f94-40e2-e079-e65a6626a784"
      },
      "execution_count": 26,
      "outputs": [
        {
          "output_type": "stream",
          "name": "stdout",
          "text": [
            "Epoch 1/15\n",
            "154/154 [==============================] - 96s 608ms/step - loss: 0.5163 - accuracy: 0.9261 - val_loss: 0.6361 - val_accuracy: 0.7788\n",
            "Epoch 2/15\n",
            "154/154 [==============================] - 103s 672ms/step - loss: 0.0964 - accuracy: 0.9669 - val_loss: 0.6679 - val_accuracy: 0.8221\n",
            "Epoch 3/15\n",
            "154/154 [==============================] - 104s 673ms/step - loss: 0.0924 - accuracy: 0.9627 - val_loss: 0.9211 - val_accuracy: 0.7917\n",
            "Epoch 4/15\n",
            "154/154 [==============================] - 105s 686ms/step - loss: 0.0755 - accuracy: 0.9731 - val_loss: 0.7637 - val_accuracy: 0.8221\n",
            "Epoch 5/15\n",
            "154/154 [==============================] - 92s 600ms/step - loss: 0.0745 - accuracy: 0.9708 - val_loss: 0.5911 - val_accuracy: 0.8590\n",
            "Epoch 6/15\n",
            "154/154 [==============================] - 94s 611ms/step - loss: 0.0523 - accuracy: 0.9800 - val_loss: 1.4659 - val_accuracy: 0.7115\n",
            "Epoch 7/15\n",
            "154/154 [==============================] - 101s 659ms/step - loss: 0.0509 - accuracy: 0.9816 - val_loss: 0.5733 - val_accuracy: 0.8622\n",
            "Epoch 8/15\n",
            "154/154 [==============================] - 94s 610ms/step - loss: 0.0452 - accuracy: 0.9833 - val_loss: 1.0670 - val_accuracy: 0.7997\n",
            "Epoch 9/15\n",
            "154/154 [==============================] - 103s 670ms/step - loss: 0.0478 - accuracy: 0.9806 - val_loss: 0.7498 - val_accuracy: 0.8462\n",
            "Epoch 10/15\n",
            "154/154 [==============================] - 91s 589ms/step - loss: 0.0453 - accuracy: 0.9835 - val_loss: 0.6154 - val_accuracy: 0.8429\n",
            "Epoch 11/15\n",
            "154/154 [==============================] - 92s 599ms/step - loss: 0.0375 - accuracy: 0.9861 - val_loss: 1.1209 - val_accuracy: 0.8061\n",
            "Epoch 12/15\n",
            "154/154 [==============================] - 93s 603ms/step - loss: 0.0424 - accuracy: 0.9835 - val_loss: 0.7309 - val_accuracy: 0.8381\n",
            "Epoch 13/15\n",
            "154/154 [==============================] - 100s 650ms/step - loss: 0.0375 - accuracy: 0.9865 - val_loss: 1.1538 - val_accuracy: 0.8013\n",
            "Epoch 14/15\n",
            "154/154 [==============================] - 90s 588ms/step - loss: 0.0297 - accuracy: 0.9886 - val_loss: 1.0022 - val_accuracy: 0.8093\n",
            "Epoch 15/15\n",
            "154/154 [==============================] - 94s 609ms/step - loss: 0.0262 - accuracy: 0.9902 - val_loss: 0.9162 - val_accuracy: 0.8462\n"
          ]
        }
      ]
    },
    {
      "cell_type": "code",
      "source": [
        "# Đồ thị hàm mất mát\n",
        "loss3 = history3.history['loss']\n",
        "val_loss3 = history3.history['val_loss']\n",
        "epochs = range(1, len(loss3)+1)\n",
        "plt.plot(epochs, loss3, 'b', label = 'Độ mất mát trên tập huấn luyện')\n",
        "plt.plot(epochs, val_loss3, 'r', label = 'Độ mất mát trên tập kiểm thử')\n",
        "plt.title('Đồ thị độ mất mát - Mô hình MobileNet')\n",
        "plt.xlabel('Vòng huấn luyện')\n",
        "plt.ylabel('Độ mất mát')\n",
        "plt.legend()\n",
        "plt.show()"
      ],
      "metadata": {
        "colab": {
          "base_uri": "https://localhost:8080/",
          "height": 473
        },
        "id": "Vm508OzrJ_UW",
        "outputId": "78b7d20c-9bb9-457a-f103-da39b53a6050"
      },
      "execution_count": 27,
      "outputs": [
        {
          "output_type": "display_data",
          "data": {
            "text/plain": [
              "<Figure size 640x480 with 1 Axes>"
            ],
            "image/png": "[encoded data removed]"
          },
          "metadata": {}
        }
      ]
    },
    {
      "cell_type": "code",
      "source": [
        "# Đồ thị độ chính xác của mô hình\n",
        "acc3 = history3.history['accuracy']\n",
        "val_acc3 = history3.history['val_accuracy']\n",
        "plt.plot(epochs, acc3, 'b', label = 'Độ chính xác tập huấn luyện')\n",
        "plt.plot(epochs, val_acc3, 'r', label = 'Độ chính xác trên tập kiểm thử')\n",
        "plt.title('Đồ thị độ chính xác - Mô hình MobileNet')\n",
        "plt.xlabel('Vòng huấn luyện')\n",
        "plt.ylabel('Độ chính xác')\n",
        "plt.legend()\n",
        "plt.show()"
      ],
      "metadata": {
        "colab": {
          "base_uri": "https://localhost:8080/",
          "height": 473
        },
        "id": "jfhKkfKBKAFf",
        "outputId": "1e83a574-0ceb-437e-ad26-94080ecab321"
      },
      "execution_count": 28,
      "outputs": [
        {
          "output_type": "display_data",
          "data": {
            "text/plain": [
              "<Figure size 640x480 with 1 Axes>"
            ],
            "image/png": "[encoded data removed]"
          },
          "metadata": {}
        }
      ]
    },
    {
      "cell_type": "code",
      "source": [
        "model.save('/content/drive/MyDrive/AI/Mô hình/Moblienet')"
      ],
      "metadata": {
        "id": "-QcATwu7KFgQ"
      },
      "execution_count": 29,
      "outputs": []
    }
  ]
}