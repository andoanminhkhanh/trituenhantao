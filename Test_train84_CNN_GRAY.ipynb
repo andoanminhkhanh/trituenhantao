{
  "cells": [
    {
      "cell_type": "markdown",
      "metadata": {
        "id": "view-in-github",
        "colab_type": "text"
      },
      "source": [
        "<a href=\"https://colab.research.google.com/github/andoanminhkhanh/trituenhantao/blob/main/Test_train84_CNN_GRAY.ipynb\" target=\"_parent\"><img src=\"https://colab.research.google.com/assets/colab-badge.svg\" alt=\"Open In Colab\"/></a>"
      ]
    },
    {
      "cell_type": "code",
      "execution_count": 52,
      "metadata": {
        "colab": {
          "base_uri": "https://localhost:8080/"
        },
        "id": "0kUKVUKu5KXf",
        "outputId": "2b51ed05-5eb4-4018-9141-309fad58f201"
      },
      "outputs": [
        {
          "output_type": "stream",
          "name": "stdout",
          "text": [
            "Drive already mounted at /content/drive; to attempt to forcibly remount, call drive.mount(\"/content/drive\", force_remount=True).\n"
          ]
        }
      ],
      "source": [
        "from google.colab import drive\n",
        "drive.mount('/content/drive')"
      ]
    },
    {
      "cell_type": "code",
      "execution_count": 53,
      "metadata": {
        "id": "aYkf2t_B4-nS"
      },
      "outputs": [],
      "source": [
        "import tensorflow as tf\n",
        "import os\n",
        "import cv2\n",
        "from sklearn.preprocessing import LabelBinarizer\n",
        "import numpy as np"
      ]
    },
    {
      "cell_type": "code",
      "execution_count": 54,
      "metadata": {
        "id": "cCbrMHLFJCFO"
      },
      "outputs": [],
      "source": [
        "from imutils import paths\n",
        "imgTest = list(paths.list_images(\"/content/drive/MyDrive/AI FINAL/test\"))"
      ]
    },
    {
      "cell_type": "code",
      "execution_count": 55,
      "metadata": {
        "id": "TRY4acQ05vcI"
      },
      "outputs": [],
      "source": [
        "X_test = []\n",
        "y_test = []"
      ]
    },
    {
      "cell_type": "code",
      "source": [
        "for path_test in imgTest:\n",
        "    Y_test = path_test.split(os.path.sep)[-2]\n",
        "\n",
        "    # Xu ly anh\n",
        "    img1 = cv2.imread(path_test, cv2.IMREAD_GRAYSCALE)  # Đọc ảnh ở định dạng xám\n",
        "\n",
        "    if img1 is None:\n",
        "        print(\"Lỗi: Không thể đọc hình ảnh từ đường dẫn:\", path_test)\n",
        "        continue\n",
        "\n",
        "    img1 = cv2.resize(img1, (150, 150))  # Resize ảnh xám\n",
        "\n",
        "    # Thêm vào dữ liệu data và label\n",
        "    X_test.append(img1)\n",
        "    y_test.append(Y_test)"
      ],
      "metadata": {
        "id": "AVoAnlxXTkrR"
      },
      "execution_count": 56,
      "outputs": []
    },
    {
      "cell_type": "code",
      "execution_count": 57,
      "metadata": {
        "id": "9oDRpuq463uS"
      },
      "outputs": [],
      "source": [
        "lb = LabelBinarizer()\n",
        "X_test = np.array(X_test)\n",
        "y_test = np.array(y_test)\n",
        "y_test = lb.fit_transform(y_test)\n",
        "X_test = X_test.astype('float32') / 255"
      ]
    },
    {
      "cell_type": "code",
      "execution_count": 58,
      "metadata": {
        "id": "Ezisd6mL7PnK"
      },
      "outputs": [],
      "source": [
        "loaded_model = tf.keras.models.load_model('/content/drive/MyDrive/AI FINAL/CNN_GRAY.h5')"
      ]
    },
    {
      "cell_type": "code",
      "execution_count": 59,
      "metadata": {
        "colab": {
          "base_uri": "https://localhost:8080/"
        },
        "id": "ZSuBrGUO7_TV",
        "outputId": "1ec5d2fb-f934-450e-8624-aea821ee1f26"
      },
      "outputs": [
        {
          "output_type": "stream",
          "name": "stdout",
          "text": [
            "28/28 [==============================] - 7s 250ms/step\n"
          ]
        }
      ],
      "source": [
        "y_pred = loaded_model.predict(X_test)"
      ]
    },
    {
      "cell_type": "code",
      "execution_count": 60,
      "metadata": {
        "colab": {
          "base_uri": "https://localhost:8080/"
        },
        "id": "R98z2y9P9Iom",
        "outputId": "d5d08e50-52dc-42a3-f06c-b4799d22b992"
      },
      "outputs": [
        {
          "output_type": "execute_result",
          "data": {
            "text/plain": [
              "array([[3.0119520e-06, 9.9999696e-01],\n",
              "       [5.6642169e-23, 9.9999994e-01],\n",
              "       [1.2025760e-10, 9.9999994e-01],\n",
              "       ...,\n",
              "       [9.9971789e-01, 2.8208786e-04],\n",
              "       [9.9942398e-01, 5.7609106e-04],\n",
              "       [9.9999309e-01, 6.9595749e-06]], dtype=float32)"
            ]
          },
          "metadata": {},
          "execution_count": 60
        }
      ],
      "source": [
        "y_pred"
      ]
    },
    {
      "cell_type": "code",
      "execution_count": 61,
      "metadata": {
        "id": "5gf2szcrxBBb"
      },
      "outputs": [],
      "source": [
        "max_indices = np.argmax(y_pred, axis=1)"
      ]
    },
    {
      "cell_type": "code",
      "execution_count": 62,
      "metadata": {
        "id": "YN158RFj5rAx"
      },
      "outputs": [],
      "source": [
        "y_pred_new = np.zeros_like(max_indices)\n",
        "y_pred_new[max_indices == 1] = 1\n",
        "y_pred_new[max_indices == 2] = 2"
      ]
    },
    {
      "cell_type": "code",
      "execution_count": 63,
      "metadata": {
        "colab": {
          "base_uri": "https://localhost:8080/"
        },
        "id": "AYrsBedj5utJ",
        "outputId": "a6117b78-51c6-491e-afbb-1f3965dfb00a"
      },
      "outputs": [
        {
          "output_type": "execute_result",
          "data": {
            "text/plain": [
              "array([1, 1, 1, 1, 1, 1, 1, 1, 1, 1, 1, 1, 1, 1, 1, 0, 1, 1, 1, 1, 1, 1,\n",
              "       1, 1, 1, 1, 1, 1, 1, 1, 1, 1, 1, 1, 1, 1, 1, 1, 1, 1, 1, 1, 1, 1,\n",
              "       1, 1, 1, 1, 1, 1, 1, 1, 1, 1, 1, 1, 1, 1, 1, 0, 1, 1, 1, 0, 1, 1,\n",
              "       1, 1, 1, 1, 1, 1, 1, 1, 1, 1, 1, 1, 1, 1, 1, 1, 1, 1, 1, 1, 1, 1,\n",
              "       1, 1, 1, 1, 1, 1, 1, 1, 1, 1, 1, 1, 1, 1, 1, 1, 1, 1, 1, 1, 1, 1,\n",
              "       1, 1, 1, 1, 1, 1, 1, 1, 1, 1, 0, 1, 1, 1, 1, 1, 1, 1, 1, 1, 1, 1,\n",
              "       1, 1, 1, 1, 1, 1, 1, 1, 1, 1, 1, 1, 1, 1, 1, 1, 1, 1, 1, 1, 1, 1,\n",
              "       1, 1, 1, 1, 1, 1, 1, 1, 1, 1, 1, 1, 1, 1, 1, 1, 1, 1, 1, 1, 1, 1,\n",
              "       1, 1, 1, 1, 1, 1, 1, 1, 1, 1, 1, 1, 1, 1, 1, 1, 1, 1, 1, 1, 1, 1,\n",
              "       1, 1, 1, 1, 1, 1, 1, 1, 1, 1, 1, 1, 1, 1, 1, 1, 1, 1, 1, 1, 1, 1,\n",
              "       1, 1, 1, 1, 1, 1, 1, 1, 0, 1, 1, 1, 1, 1, 1, 1, 1, 1, 1, 1, 1, 1,\n",
              "       1, 1, 1, 1, 1, 1, 1, 1, 1, 1, 1, 1, 0, 1, 0, 1, 1, 1, 1, 1, 1, 1,\n",
              "       1, 1, 1, 1, 1, 1, 1, 1, 1, 1, 1, 1, 1, 1, 1, 1, 1, 1, 1, 1, 1, 1,\n",
              "       1, 1, 1, 1, 1, 0, 1, 1, 1, 1, 1, 1, 1, 1, 1, 0, 1, 1, 1, 1, 1, 1,\n",
              "       1, 1, 1, 0, 1, 1, 1, 1, 1, 1, 1, 1, 1, 1, 1, 1, 1, 1, 1, 1, 1, 1,\n",
              "       1, 1, 1, 1, 1, 1, 1, 1, 1, 1, 1, 1, 1, 1, 0, 1, 1, 1, 1, 1, 1, 0,\n",
              "       1, 1, 1, 1, 0, 1, 1, 1, 1, 1, 1, 1, 1, 0, 1, 1, 1, 1, 1, 1, 1, 1,\n",
              "       1, 1, 1, 1, 1, 1, 1, 1, 1, 1, 1, 1, 1, 1, 1, 1, 1, 1, 1, 1, 1, 1,\n",
              "       1, 1, 1, 1, 1, 1, 1, 0, 1, 1, 1, 1, 1, 1, 1, 1, 1, 1, 1, 1, 1, 1,\n",
              "       0, 1, 1, 1, 1, 1, 1, 1, 0, 1, 1, 1, 1, 1, 1, 1, 1, 1, 1, 1, 1, 1,\n",
              "       1, 1, 1, 1, 1, 1, 1, 1, 1, 1, 1, 1, 1, 1, 1, 1, 1, 1, 1, 1, 1, 1,\n",
              "       1, 1, 1, 1, 1, 1, 1, 1, 1, 1, 1, 1, 1, 1, 1, 1, 1, 1, 1, 1, 1, 1,\n",
              "       1, 1, 0, 1, 1, 1, 1, 1, 1, 1, 1, 1, 1, 1, 1, 1, 1, 1, 1, 1, 1, 1,\n",
              "       1, 1, 1, 1, 1, 1, 1, 1, 1, 1, 1, 0, 1, 1, 1, 1, 1, 1, 1, 1, 1, 1,\n",
              "       1, 1, 1, 1, 1, 1, 1, 1, 1, 1, 1, 1, 1, 1, 1, 1, 1, 1, 0, 1, 1, 1,\n",
              "       1, 1, 1, 1, 1, 1, 1, 1, 1, 1, 1, 1, 1, 1, 1, 1, 1, 1, 1, 1, 1, 1,\n",
              "       1, 0, 1, 1, 1, 1, 1, 1, 1, 1, 1, 1, 1, 1, 0, 1, 1, 1, 1, 1, 1, 1,\n",
              "       1, 0, 1, 1, 1, 1, 1, 1, 1, 1, 1, 1, 1, 1, 1, 1, 1, 1, 1, 1, 1, 1,\n",
              "       1, 1, 1, 1, 1, 1, 1, 1, 1, 1, 1, 1, 1, 1, 1, 1, 1, 1, 1, 1, 1, 1,\n",
              "       1, 1, 1, 0, 0, 1, 0, 0, 1, 0, 0, 1, 1, 0, 0, 0, 0, 0, 0, 0, 0, 0,\n",
              "       0, 0, 0, 0, 0, 0, 0, 0, 0, 0, 0, 0, 0, 0, 0, 0, 1, 0, 0, 0, 0, 0,\n",
              "       0, 0, 0, 0, 0, 0, 0, 1, 1, 0, 0, 0, 0, 0, 0, 0, 0, 0, 0, 0, 1, 0,\n",
              "       0, 1, 0, 0, 0, 0, 0, 0, 0, 0, 1, 1, 0, 0, 0, 0, 0, 1, 0, 0, 0, 0,\n",
              "       1, 0, 0, 0, 0, 0, 0, 0, 0, 0, 0, 0, 0, 0, 0, 0, 0, 0, 0, 0, 0, 0,\n",
              "       0, 0, 0, 0, 0, 0, 0, 0, 0, 0, 1, 0, 0, 0, 0, 0, 0, 0, 0, 0, 0, 0,\n",
              "       0, 0, 0, 0, 0, 0, 0, 0, 0, 0, 0, 0, 0, 0, 0, 1, 0, 0, 0, 0, 0, 0,\n",
              "       0, 0, 0, 0, 0, 0, 0, 0, 0, 0, 0, 0, 0, 0, 0, 1, 0, 0, 0, 0, 0, 0,\n",
              "       0, 0, 0, 0, 0, 0, 0, 0, 0, 0, 0, 0, 0, 0, 0, 0, 0, 0, 0, 0, 0, 1,\n",
              "       0, 0, 0, 0, 0, 0, 0, 1, 0, 0, 0, 0, 0, 0, 0, 0, 0, 0, 0, 0, 0, 0,\n",
              "       0, 0, 0, 0, 0, 0, 0, 0, 0, 1, 0, 0, 0, 0, 0, 0, 0, 0, 0, 1, 0, 0,\n",
              "       0, 0, 0, 0])"
            ]
          },
          "metadata": {},
          "execution_count": 63
        }
      ],
      "source": [
        "y_pred_new"
      ]
    },
    {
      "cell_type": "code",
      "execution_count": 64,
      "metadata": {
        "colab": {
          "base_uri": "https://localhost:8080/"
        },
        "id": "GQCvuDdn2snZ",
        "outputId": "132b3b6d-7189-4ee5-eb7b-ad1cc1d3fb08"
      },
      "outputs": [
        {
          "output_type": "stream",
          "name": "stdout",
          "text": [
            "[1 1 1 1 1 1 1 1 1 1 1 1 1 1 1 1 1 1 1 1 1 1 1 1 1 1 1 1 1 1 1 1 1 1 1 1 1\n",
            " 1 1 1 1 1 1 1 1 1 1 1 1 1 1 1 1 1 1 1 1 1 1 1 1 1 1 1 1 1 1 1 1 1 1 1 1 1\n",
            " 1 1 1 1 1 1 1 1 1 1 1 1 1 1 1 1 1 1 1 1 1 1 1 1 1 1 1 1 1 1 1 1 1 1 1 1 1\n",
            " 1 1 1 1 1 1 1 1 1 1 1 1 1 1 1 1 1 1 1 1 1 1 1 1 1 1 1 1 1 1 1 1 1 1 1 1 1\n",
            " 1 1 1 1 1 1 1 1 1 1 1 1 1 1 1 1 1 1 1 1 1 1 1 1 1 1 1 1 1 1 1 1 1 1 1 1 1\n",
            " 1 1 1 1 1 1 1 1 1 1 1 1 1 1 1 1 1 1 1 1 1 1 1 1 1 1 1 1 1 1 1 1 1 1 1 1 1\n",
            " 1 1 1 1 1 1 1 1 1 1 1 1 1 1 1 1 1 1 1 1 1 1 1 1 1 1 1 1 1 1 1 1 1 1 1 1 1\n",
            " 1 1 1 1 1 1 1 1 1 1 1 1 1 1 1 1 1 1 1 1 1 1 1 1 1 1 1 1 1 1 1 1 1 1 1 1 1\n",
            " 1 1 1 1 1 1 1 1 1 1 1 1 1 1 1 1 1 1 1 1 1 1 1 1 1 1 1 1 1 1 1 1 1 1 1 1 1\n",
            " 1 1 1 1 1 1 1 1 1 1 1 1 1 1 1 1 1 1 1 1 1 1 1 1 1 1 1 1 1 1 1 1 1 1 1 1 1\n",
            " 1 1 1 1 1 1 1 1 1 1 1 1 1 1 1 1 1 1 1 1 1 1 1 1 1 1 1 1 1 1 1 1 1 1 1 1 1\n",
            " 1 1 1 1 1 1 1 1 1 1 1 1 1 1 1 1 1 1 1 1 1 1 1 1 1 1 1 1 1 1 1 1 1 1 1 1 1\n",
            " 1 1 1 1 1 1 1 1 1 1 1 1 1 1 1 1 1 1 1 1 1 1 1 1 1 1 1 1 1 1 1 1 1 1 1 1 1\n",
            " 1 1 1 1 1 1 1 1 1 1 1 1 1 1 1 1 1 1 1 1 1 1 1 1 1 1 1 1 1 1 1 1 1 1 1 1 1\n",
            " 1 1 1 1 1 1 1 1 1 1 1 1 1 1 1 1 1 1 1 1 1 1 1 1 1 1 1 1 1 1 1 1 1 1 1 1 1\n",
            " 1 1 1 1 1 1 1 1 1 1 1 1 1 1 1 1 1 1 1 1 1 1 1 1 1 1 1 1 1 1 1 1 1 1 1 1 1\n",
            " 1 1 1 1 1 1 1 1 1 1 1 1 1 1 1 1 1 1 1 1 1 1 1 1 1 1 1 1 1 1 1 1 1 1 1 1 1\n",
            " 1 1 1 1 1 1 1 1 1 1 1 1 0 0 0 0 0 0 0 0 0 0 0 0 0 0 0 0 0 0 0 0 0 0 0 0 0\n",
            " 0 0 0 0 0 0 0 0 0 0 0 0 0 0 0 0 0 0 0 0 0 0 0 0 0 0 0 0 0 0 0 0 0 0 0 0 0\n",
            " 0 0 0 0 0 0 0 0 0 0 0 0 0 0 0 0 0 0 0 0 0 0 0 0 0 0 0 0 0 0 0 0 0 0 0 0 0\n",
            " 0 0 0 0 0 0 0 0 0 0 0 0 0 0 0 0 0 0 0 0 0 0 0 0 0 0 0 0 0 0 0 0 0 0 0 0 0\n",
            " 0 0 0 0 0 0 0 0 0 0 0 0 0 0 0 0 0 0 0 0 0 0 0 0 0 0 0 0 0 0 0 0 0 0 0 0 0\n",
            " 0 0 0 0 0 0 0 0 0 0 0 0 0 0 0 0 0 0 0 0 0 0 0 0 0 0 0 0 0 0 0 0 0 0 0 0 0\n",
            " 0 0 0 0 0 0 0 0 0 0 0 0 0 0 0 0 0 0 0 0 0 0 0 0 0 0 0 0 0 0 0 0 0]\n"
          ]
        }
      ],
      "source": [
        "y_test_new = np.array(y_test).reshape(-1)\n",
        "\n",
        "# In kết quả\n",
        "print(y_test_new)"
      ]
    },
    {
      "cell_type": "markdown",
      "metadata": {
        "id": "PdoxjvRecH_O"
      },
      "source": [
        "##**KIỂM THỬ HÌNH ẢNH CỤ THỂ**"
      ]
    },
    {
      "cell_type": "code",
      "execution_count": 65,
      "metadata": {
        "id": "UDybaRXXqYz5"
      },
      "outputs": [],
      "source": [
        "labels = ['Bình thường', 'Viêm phổi']"
      ]
    },
    {
      "cell_type": "code",
      "execution_count": 66,
      "metadata": {
        "id": "Di_zOI-DmU4e"
      },
      "outputs": [],
      "source": [
        "import matplotlib.pyplot as plt"
      ]
    },
    {
      "cell_type": "code",
      "source": [
        "import cv2\n",
        "import numpy as np\n",
        "import tensorflow as tf\n",
        "import matplotlib.pyplot as plt\n",
        "\n",
        "# Đọc ảnh và chuyển sang ảnh xám\n",
        "img = cv2.imread('/content/drive/MyDrive/AI FINAL/test/PNEUMONIA/person1019_bacteria_2950.jpeg')\n",
        "img_gray = cv2.cvtColor(img, cv2.COLOR_BGR2GRAY)\n",
        "\n",
        "# Đổi kích thước ảnh xám về 150x150\n",
        "img_resize = cv2.resize(img_gray, (150, 150))\n",
        "\n",
        "# Thêm một chiều để khớp với đầu vào của mô hình và chuẩn hóa giá trị pixel về khoảng [0, 1]\n",
        "img_resize = img_resize / 255.0\n",
        "img_resize = np.expand_dims(img_resize, axis=-1)  # Thêm chiều kênh\n",
        "img_resize = np.expand_dims(img_resize, axis=0)  # Thêm chiều batch\n",
        "\n",
        "# Tải mô hình đã huấn luyện (thay 'loaded_model' bằng tên mô hình của bạn)\n",
        "model_path = \"/content/drive/MyDrive/AI FINAL/CNN_GRAY.h5\"\n",
        "loaded_model = tf.keras.models.load_model(model_path)\n",
        "\n",
        "# Dự đoán\n",
        "yhat = loaded_model.predict(img_resize)\n",
        "max_index = np.argmax(yhat)\n",
        "labels = ['Bình thường', 'Viêm phổi']  # Đảm bảo rằng các nhãn được định nghĩa trước\n",
        "\n",
        "# In kết quả\n",
        "print(yhat)\n",
        "print('- Bình thường: ', round(yhat[0][0]*100,2), \"%\")\n",
        "print('- Viêm phổi: ', round(yhat[0][1]*100,2), \"%\")\n",
        "print(\"--> Nhãn dự đoán: \", labels[max_index])\n",
        "\n",
        "# Hiển thị hình ảnh xám\n",
        "plt.imshow(img_gray, cmap='gray')\n",
        "plt.title(\"Hình ảnh xám\")\n",
        "plt.axis('off')\n",
        "plt.show()"
      ],
      "metadata": {
        "colab": {
          "base_uri": "https://localhost:8080/",
          "height": 488
        },
        "id": "KO6KYqzXa3wC",
        "outputId": "1802e3e2-e47f-49d1-afc7-55effd8346a3"
      },
      "execution_count": 67,
      "outputs": [
        {
          "output_type": "stream",
          "name": "stdout",
          "text": [
            "1/1 [==============================] - 0s 458ms/step\n",
            "[[3.028794e-10 1.000000e+00]]\n",
            "- Bình thường:  0.0 %\n",
            "- Viêm phổi:  100.0 %\n",
            "--> Nhãn dự đoán:  Viêm phổi\n"
          ]
        },
        {
          "output_type": "display_data",
          "data": {
            "text/plain": [
              "<Figure size 640x480 with 1 Axes>"
            ],
            "image/png": "[encoded data removed]"
          },
          "metadata": {}
        }
      ]
    },
    {
      "cell_type": "markdown",
      "metadata": {
        "id": "afyG_NT6voWT"
      },
      "source": [
        "##**MA TRẬN NHẦM LẪN**"
      ]
    },
    {
      "cell_type": "code",
      "execution_count": 68,
      "metadata": {
        "colab": {
          "base_uri": "https://localhost:8080/",
          "height": 451
        },
        "id": "nnIIwtjSuMtr",
        "outputId": "b0690103-c8a2-4586-be55-c5072fb34302"
      },
      "outputs": [
        {
          "output_type": "display_data",
          "data": {
            "text/plain": [
              "<Figure size 640x480 with 2 Axes>"
            ],
            "image/png": "[encoded data removed]"
          },
          "metadata": {}
        }
      ],
      "source": [
        "# Ma trận nhầm lẫn dạng đồ thị\n",
        "import matplotlib.pyplot as plt\n",
        "from sklearn import metrics\n",
        "from sklearn.metrics import confusion_matrix\n",
        "matran = metrics.ConfusionMatrixDisplay(confusion_matrix = confusion_matrix(y_test_new, y_pred_new), display_labels = ['Bình thường', 'Viêm phổi'])\n",
        "matran.plot()\n",
        "plt.xlabel('Giá trị được dự đoán bởi mô hình')\n",
        "plt.ylabel('Giá trị thực tế')\n",
        "plt.show()"
      ]
    },
    {
      "cell_type": "code",
      "source": [
        "import numpy as np\n",
        "import matplotlib.pyplot as plt\n",
        "from sklearn import metrics\n",
        "from sklearn.metrics import confusion_matrix, classification_report, f1_score\n",
        "\n",
        "# Giả sử y_test_new và y_pred_new đã được định nghĩa ở đâu đó\n",
        "# y_test_new = ...\n",
        "# y_pred_new = ...\n",
        "\n",
        "# Tính và hiển thị classification report\n",
        "report = classification_report(y_test_new, y_pred_new, target_names=['Bình thường', 'Viêm phổi'], output_dict=True)\n",
        "print(\"Classification Report:\\n\", classification_report(y_test_new, y_pred_new, target_names=['Bình thường', 'Viêm phổi']))\n",
        "\n",
        "# Lấy macro-averaged F1-score\n",
        "macro_f1 = report['macro avg']['f1-score']\n",
        "print(\"Macro-averaged F1-score:\", macro_f1)\n",
        "\n",
        "# Tính micro-averaged F1-score\n",
        "micro_f1 = f1_score(y_test_new, y_pred_new, average='micro')\n",
        "print(\"Micro-averaged F1-score:\", micro_f1)\n",
        "\n",
        "# Tính weighted-averaged F1-score\n",
        "weighted_f1 = f1_score(y_test_new, y_pred_new, average='weighted')\n",
        "print(\"Weighted-averaged F1-score:\", weighted_f1)"
      ],
      "metadata": {
        "id": "giWiLRXo_FM3",
        "outputId": "47547eec-3e03-45e6-cf46-324bf6bf2f50",
        "colab": {
          "base_uri": "https://localhost:8080/"
        }
      },
      "execution_count": 69,
      "outputs": [
        {
          "output_type": "stream",
          "name": "stdout",
          "text": [
            "Classification Report:\n",
            "               precision    recall  f1-score   support\n",
            "\n",
            " Bình thường       0.91      0.92      0.91       243\n",
            "   Viêm phổi       0.97      0.96      0.97       641\n",
            "\n",
            "    accuracy                           0.95       884\n",
            "   macro avg       0.94      0.94      0.94       884\n",
            "weighted avg       0.95      0.95      0.95       884\n",
            "\n",
            "Macro-averaged F1-score: 0.9392227120177925\n",
            "Micro-averaged F1-score: 0.9513574660633484\n",
            "Weighted-averaged F1-score: 0.951449628752302\n"
          ]
        }
      ]
    },
    {
      "cell_type": "code",
      "source": [
        "# Lấy các chỉ số Precision, Recall, và F1-score cho từng lớp\n",
        "precision_normal = report['Bình thường']['precision']\n",
        "recall_normal = report['Bình thường']['recall']\n",
        "f1_normal = report['Bình thường']['f1-score']\n",
        "\n",
        "precision_pneumonia = report['Viêm phổi']['precision']\n",
        "recall_pneumonia = report['Viêm phổi']['recall']\n",
        "f1_pneumonia = report['Viêm phổi']['f1-score']\n",
        "\n",
        "# Lấy macro-averaged Precision, Recall, và F1-score\n",
        "macro_precision = report['macro avg']['precision']\n",
        "macro_recall = report['macro avg']['recall']\n",
        "macro_f1 = report['macro avg']['f1-score']\n",
        "\n",
        "# In ra các chỉ số\n",
        "print(\"Chỉ số Precision, Recall, và F1-score cho từng lớp:\")\n",
        "print(f\"Bình thường: Precision={precision_normal}, Recall={recall_normal}, F1-score={f1_normal}\")\n",
        "print(f\"Viêm phổi: Precision={precision_pneumonia}, Recall={recall_pneumonia}, F1-score={f1_pneumonia}\")\n",
        "\n",
        "print(\"\\nChỉ số macro-averaged Precision, Recall, và F1-score:\")\n",
        "print(f\"Macro-averaged Precision={macro_precision}\")\n",
        "print(f\"Macro-averaged Recall={macro_recall}\")\n",
        "print(f\"Macro-averaged F1-score={macro_f1}\")"
      ],
      "metadata": {
        "id": "BktKw0FHcGjc",
        "outputId": "1b735385-1abd-4237-b22c-3601f9358829",
        "colab": {
          "base_uri": "https://localhost:8080/"
        }
      },
      "execution_count": 70,
      "outputs": [
        {
          "output_type": "stream",
          "name": "stdout",
          "text": [
            "Chỉ số Precision, Recall, và F1-score cho từng lớp:\n",
            "Bình thường: Precision=0.9065040650406504, Recall=0.9176954732510288, F1-score=0.9120654396728016\n",
            "Viêm phổi: Precision=0.9686520376175548, Recall=0.9641185647425897, F1-score=0.9663799843627835\n",
            "\n",
            "Chỉ số macro-averaged Precision, Recall, và F1-score:\n",
            "Macro-averaged Precision=0.9375780513291025\n",
            "Macro-averaged Recall=0.9409070189968093\n",
            "Macro-averaged F1-score=0.9392227120177925\n"
          ]
        }
      ]
    },
    {
      "cell_type": "code",
      "source": [
        "set(y_test_new)"
      ],
      "metadata": {
        "id": "TZY_95zI_JW3",
        "outputId": "2b29309e-0b8d-49ed-f073-d514b3f1a372",
        "colab": {
          "base_uri": "https://localhost:8080/"
        }
      },
      "execution_count": 71,
      "outputs": [
        {
          "output_type": "execute_result",
          "data": {
            "text/plain": [
              "{0, 1}"
            ]
          },
          "metadata": {},
          "execution_count": 71
        }
      ]
    },
    {
      "cell_type": "code",
      "source": [
        "set(y_pred_new)"
      ],
      "metadata": {
        "id": "UctKvkqh_ehE",
        "outputId": "a31787a8-8c84-4941-abe6-ef06515f7436",
        "colab": {
          "base_uri": "https://localhost:8080/"
        }
      },
      "execution_count": 72,
      "outputs": [
        {
          "output_type": "execute_result",
          "data": {
            "text/plain": [
              "{0, 1}"
            ]
          },
          "metadata": {},
          "execution_count": 72
        }
      ]
    },
    {
      "cell_type": "code",
      "source": [
        "max_indices1 = np.argmax(y_test, axis=1)\n",
        "y_test_new = np.zeros_like(max_indices1)\n",
        "y_test_new[max_indices1 == 1] = 1\n",
        "y_test_new[max_indices1 == 2] = 2"
      ],
      "metadata": {
        "id": "1hVcmjtr_hLn"
      },
      "execution_count": 73,
      "outputs": []
    },
    {
      "cell_type": "code",
      "source": [
        "y_test_new"
      ],
      "metadata": {
        "id": "kGluJbSr_jcj",
        "outputId": "e8352f2f-6fcf-4301-b0b3-4554b6d13381",
        "colab": {
          "base_uri": "https://localhost:8080/"
        }
      },
      "execution_count": 74,
      "outputs": [
        {
          "output_type": "execute_result",
          "data": {
            "text/plain": [
              "array([0, 0, 0, 0, 0, 0, 0, 0, 0, 0, 0, 0, 0, 0, 0, 0, 0, 0, 0, 0, 0, 0,\n",
              "       0, 0, 0, 0, 0, 0, 0, 0, 0, 0, 0, 0, 0, 0, 0, 0, 0, 0, 0, 0, 0, 0,\n",
              "       0, 0, 0, 0, 0, 0, 0, 0, 0, 0, 0, 0, 0, 0, 0, 0, 0, 0, 0, 0, 0, 0,\n",
              "       0, 0, 0, 0, 0, 0, 0, 0, 0, 0, 0, 0, 0, 0, 0, 0, 0, 0, 0, 0, 0, 0,\n",
              "       0, 0, 0, 0, 0, 0, 0, 0, 0, 0, 0, 0, 0, 0, 0, 0, 0, 0, 0, 0, 0, 0,\n",
              "       0, 0, 0, 0, 0, 0, 0, 0, 0, 0, 0, 0, 0, 0, 0, 0, 0, 0, 0, 0, 0, 0,\n",
              "       0, 0, 0, 0, 0, 0, 0, 0, 0, 0, 0, 0, 0, 0, 0, 0, 0, 0, 0, 0, 0, 0,\n",
              "       0, 0, 0, 0, 0, 0, 0, 0, 0, 0, 0, 0, 0, 0, 0, 0, 0, 0, 0, 0, 0, 0,\n",
              "       0, 0, 0, 0, 0, 0, 0, 0, 0, 0, 0, 0, 0, 0, 0, 0, 0, 0, 0, 0, 0, 0,\n",
              "       0, 0, 0, 0, 0, 0, 0, 0, 0, 0, 0, 0, 0, 0, 0, 0, 0, 0, 0, 0, 0, 0,\n",
              "       0, 0, 0, 0, 0, 0, 0, 0, 0, 0, 0, 0, 0, 0, 0, 0, 0, 0, 0, 0, 0, 0,\n",
              "       0, 0, 0, 0, 0, 0, 0, 0, 0, 0, 0, 0, 0, 0, 0, 0, 0, 0, 0, 0, 0, 0,\n",
              "       0, 0, 0, 0, 0, 0, 0, 0, 0, 0, 0, 0, 0, 0, 0, 0, 0, 0, 0, 0, 0, 0,\n",
              "       0, 0, 0, 0, 0, 0, 0, 0, 0, 0, 0, 0, 0, 0, 0, 0, 0, 0, 0, 0, 0, 0,\n",
              "       0, 0, 0, 0, 0, 0, 0, 0, 0, 0, 0, 0, 0, 0, 0, 0, 0, 0, 0, 0, 0, 0,\n",
              "       0, 0, 0, 0, 0, 0, 0, 0, 0, 0, 0, 0, 0, 0, 0, 0, 0, 0, 0, 0, 0, 0,\n",
              "       0, 0, 0, 0, 0, 0, 0, 0, 0, 0, 0, 0, 0, 0, 0, 0, 0, 0, 0, 0, 0, 0,\n",
              "       0, 0, 0, 0, 0, 0, 0, 0, 0, 0, 0, 0, 0, 0, 0, 0, 0, 0, 0, 0, 0, 0,\n",
              "       0, 0, 0, 0, 0, 0, 0, 0, 0, 0, 0, 0, 0, 0, 0, 0, 0, 0, 0, 0, 0, 0,\n",
              "       0, 0, 0, 0, 0, 0, 0, 0, 0, 0, 0, 0, 0, 0, 0, 0, 0, 0, 0, 0, 0, 0,\n",
              "       0, 0, 0, 0, 0, 0, 0, 0, 0, 0, 0, 0, 0, 0, 0, 0, 0, 0, 0, 0, 0, 0,\n",
              "       0, 0, 0, 0, 0, 0, 0, 0, 0, 0, 0, 0, 0, 0, 0, 0, 0, 0, 0, 0, 0, 0,\n",
              "       0, 0, 0, 0, 0, 0, 0, 0, 0, 0, 0, 0, 0, 0, 0, 0, 0, 0, 0, 0, 0, 0,\n",
              "       0, 0, 0, 0, 0, 0, 0, 0, 0, 0, 0, 0, 0, 0, 0, 0, 0, 0, 0, 0, 0, 0,\n",
              "       0, 0, 0, 0, 0, 0, 0, 0, 0, 0, 0, 0, 0, 0, 0, 0, 0, 0, 0, 0, 0, 0,\n",
              "       0, 0, 0, 0, 0, 0, 0, 0, 0, 0, 0, 0, 0, 0, 0, 0, 0, 0, 0, 0, 0, 0,\n",
              "       0, 0, 0, 0, 0, 0, 0, 0, 0, 0, 0, 0, 0, 0, 0, 0, 0, 0, 0, 0, 0, 0,\n",
              "       0, 0, 0, 0, 0, 0, 0, 0, 0, 0, 0, 0, 0, 0, 0, 0, 0, 0, 0, 0, 0, 0,\n",
              "       0, 0, 0, 0, 0, 0, 0, 0, 0, 0, 0, 0, 0, 0, 0, 0, 0, 0, 0, 0, 0, 0,\n",
              "       0, 0, 0, 0, 0, 0, 0, 0, 0, 0, 0, 0, 0, 0, 0, 0, 0, 0, 0, 0, 0, 0,\n",
              "       0, 0, 0, 0, 0, 0, 0, 0, 0, 0, 0, 0, 0, 0, 0, 0, 0, 0, 0, 0, 0, 0,\n",
              "       0, 0, 0, 0, 0, 0, 0, 0, 0, 0, 0, 0, 0, 0, 0, 0, 0, 0, 0, 0, 0, 0,\n",
              "       0, 0, 0, 0, 0, 0, 0, 0, 0, 0, 0, 0, 0, 0, 0, 0, 0, 0, 0, 0, 0, 0,\n",
              "       0, 0, 0, 0, 0, 0, 0, 0, 0, 0, 0, 0, 0, 0, 0, 0, 0, 0, 0, 0, 0, 0,\n",
              "       0, 0, 0, 0, 0, 0, 0, 0, 0, 0, 0, 0, 0, 0, 0, 0, 0, 0, 0, 0, 0, 0,\n",
              "       0, 0, 0, 0, 0, 0, 0, 0, 0, 0, 0, 0, 0, 0, 0, 0, 0, 0, 0, 0, 0, 0,\n",
              "       0, 0, 0, 0, 0, 0, 0, 0, 0, 0, 0, 0, 0, 0, 0, 0, 0, 0, 0, 0, 0, 0,\n",
              "       0, 0, 0, 0, 0, 0, 0, 0, 0, 0, 0, 0, 0, 0, 0, 0, 0, 0, 0, 0, 0, 0,\n",
              "       0, 0, 0, 0, 0, 0, 0, 0, 0, 0, 0, 0, 0, 0, 0, 0, 0, 0, 0, 0, 0, 0,\n",
              "       0, 0, 0, 0, 0, 0, 0, 0, 0, 0, 0, 0, 0, 0, 0, 0, 0, 0, 0, 0, 0, 0,\n",
              "       0, 0, 0, 0])"
            ]
          },
          "metadata": {},
          "execution_count": 74
        }
      ]
    },
    {
      "cell_type": "code",
      "source": [
        "# Giả sử y_test và y_pred là các mảng chứa nhãn thực tế và dự đoán\n",
        "# imgTest là danh sách các đường dẫn đến hình ảnh\n",
        "\n",
        "for i in range(len(imgTest)):\n",
        "    if y_test_new[i] == 0 and y_pred_new[i] == 1:\n",
        "        print(f\"Đường dẫn của hình ảnh thỏa mãn: {imgTest[i]}\")"
      ],
      "metadata": {
        "id": "XkLlupKr_yvB",
        "outputId": "4dc70ade-cdfa-41b4-bf6b-cbf6e1a63050",
        "colab": {
          "base_uri": "https://localhost:8080/"
        }
      },
      "execution_count": 75,
      "outputs": [
        {
          "output_type": "stream",
          "name": "stdout",
          "text": [
            "Đường dẫn của hình ảnh thỏa mãn: /content/drive/MyDrive/AI FINAL/test/PNEUMONIA/person282_virus_579.jpeg\n",
            "Đường dẫn của hình ảnh thỏa mãn: /content/drive/MyDrive/AI FINAL/test/PNEUMONIA/person1220_bacteria_3174.jpeg\n",
            "Đường dẫn của hình ảnh thỏa mãn: /content/drive/MyDrive/AI FINAL/test/PNEUMONIA/person371_bacteria_1701.jpeg\n",
            "Đường dẫn của hình ảnh thỏa mãn: /content/drive/MyDrive/AI FINAL/test/PNEUMONIA/person161_bacteria_759.jpeg\n",
            "Đường dẫn của hình ảnh thỏa mãn: /content/drive/MyDrive/AI FINAL/test/PNEUMONIA/person1273_bacteria_3233.jpeg\n",
            "Đường dẫn của hình ảnh thỏa mãn: /content/drive/MyDrive/AI FINAL/test/PNEUMONIA/person298_bacteria_1413.jpeg\n",
            "Đường dẫn của hình ảnh thỏa mãn: /content/drive/MyDrive/AI FINAL/test/PNEUMONIA/person530_bacteria_2233.jpeg\n",
            "Đường dẫn của hình ảnh thỏa mãn: /content/drive/MyDrive/AI FINAL/test/PNEUMONIA/person1678_bacteria_4446.jpeg\n",
            "Đường dẫn của hình ảnh thỏa mãn: /content/drive/MyDrive/AI FINAL/test/PNEUMONIA/person44_virus_93.jpeg\n",
            "Đường dẫn của hình ảnh thỏa mãn: /content/drive/MyDrive/AI FINAL/test/PNEUMONIA/person1430_virus_2444.jpeg\n",
            "Đường dẫn của hình ảnh thỏa mãn: /content/drive/MyDrive/AI FINAL/test/PNEUMONIA/person860_virus_1505.jpeg\n",
            "Đường dẫn của hình ảnh thỏa mãn: /content/drive/MyDrive/AI FINAL/test/PNEUMONIA/person945_virus_1616.jpeg\n",
            "Đường dẫn của hình ảnh thỏa mãn: /content/drive/MyDrive/AI FINAL/test/PNEUMONIA/person88_virus_163.jpeg\n",
            "Đường dẫn của hình ảnh thỏa mãn: /content/drive/MyDrive/AI FINAL/test/PNEUMONIA/person124_virus_238.jpeg\n",
            "Đường dẫn của hình ảnh thỏa mãn: /content/drive/MyDrive/AI FINAL/test/PNEUMONIA/person1060_virus_1760.jpeg\n",
            "Đường dẫn của hình ảnh thỏa mãn: /content/drive/MyDrive/AI FINAL/test/PNEUMONIA/person53_bacteria_254.jpeg\n",
            "Đường dẫn của hình ảnh thỏa mãn: /content/drive/MyDrive/AI FINAL/test/PNEUMONIA/person81_bacteria_398.jpeg\n",
            "Đường dẫn của hình ảnh thỏa mãn: /content/drive/MyDrive/AI FINAL/test/PNEUMONIA/person1041_virus_1736.jpeg\n",
            "Đường dẫn của hình ảnh thỏa mãn: /content/drive/MyDrive/AI FINAL/test/PNEUMONIA/person17_bacteria_56.jpeg\n",
            "Đường dẫn của hình ảnh thỏa mãn: /content/drive/MyDrive/AI FINAL/test/PNEUMONIA/person59_bacteria_279.jpeg\n",
            "Đường dẫn của hình ảnh thỏa mãn: /content/drive/MyDrive/AI FINAL/test/PNEUMONIA/person809_bacteria_2718.jpeg\n",
            "Đường dẫn của hình ảnh thỏa mãn: /content/drive/MyDrive/AI FINAL/test/PNEUMONIA/person535_bacteria_2256.jpeg\n",
            "Đường dẫn của hình ảnh thỏa mãn: /content/drive/MyDrive/AI FINAL/test/PNEUMONIA/person547_bacteria_2296.jpeg\n",
            "Đường dẫn của hình ảnh thỏa mãn: /content/drive/MyDrive/AI FINAL/test/PNEUMONIA/person1415_bacteria_3629.jpeg\n",
            "Đường dẫn của hình ảnh thỏa mãn: /content/drive/MyDrive/AI FINAL/test/PNEUMONIA/person23_bacteria_99.jpeg\n",
            "Đường dẫn của hình ảnh thỏa mãn: /content/drive/MyDrive/AI FINAL/test/PNEUMONIA/person605_bacteria_2464.jpeg\n",
            "Đường dẫn của hình ảnh thỏa mãn: /content/drive/MyDrive/AI FINAL/test/PNEUMONIA/person510_bacteria_2150.jpeg\n",
            "Đường dẫn của hình ảnh thỏa mãn: /content/drive/MyDrive/AI FINAL/test/PNEUMONIA/person1197_bacteria_3147.jpeg\n",
            "Đường dẫn của hình ảnh thỏa mãn: /content/drive/MyDrive/AI FINAL/test/PNEUMONIA/person536_bacteria_2257.jpeg\n",
            "Đường dẫn của hình ảnh thỏa mãn: /content/drive/MyDrive/AI FINAL/test/PNEUMONIA/person263_bacteria_1227.jpeg\n",
            "Đường dẫn của hình ảnh thỏa mãn: /content/drive/MyDrive/AI FINAL/test/PNEUMONIA/person770_virus_1398.jpeg\n",
            "Đường dẫn của hình ảnh thỏa mãn: /content/drive/MyDrive/AI FINAL/test/PNEUMONIA/person3_bacteria_11.jpeg\n",
            "Đường dẫn của hình ảnh thỏa mãn: /content/drive/MyDrive/AI FINAL/test/PNEUMONIA/person358_virus_737.jpeg\n",
            "Đường dẫn của hình ảnh thỏa mãn: /content/drive/MyDrive/AI FINAL/test/PNEUMONIA/person110_virus_205.jpeg\n",
            "Đường dẫn của hình ảnh thỏa mãn: /content/drive/MyDrive/AI FINAL/test/PNEUMONIA/person1212_bacteria_3164.jpeg\n",
            "Đường dẫn của hình ảnh thỏa mãn: /content/drive/MyDrive/AI FINAL/test/PNEUMONIA/person672_bacteria_2565.jpeg\n",
            "Đường dẫn của hình ảnh thỏa mãn: /content/drive/MyDrive/AI FINAL/test/PNEUMONIA/person1310_bacteria_3304.jpeg\n",
            "Đường dẫn của hình ảnh thỏa mãn: /content/drive/MyDrive/AI FINAL/test/PNEUMONIA/person1312_virus_2261.jpeg\n",
            "Đường dẫn của hình ảnh thỏa mãn: /content/drive/MyDrive/AI FINAL/test/PNEUMONIA/person157_bacteria_739.jpeg\n",
            "Đường dẫn của hình ảnh thỏa mãn: /content/drive/MyDrive/AI FINAL/test/PNEUMONIA/person1932_bacteria_4843.jpeg\n",
            "Đường dẫn của hình ảnh thỏa mãn: /content/drive/MyDrive/AI FINAL/test/PNEUMONIA/person760_virus_1388.jpeg\n",
            "Đường dẫn của hình ảnh thỏa mãn: /content/drive/MyDrive/AI FINAL/test/PNEUMONIA/person1268_bacteria_3228.jpeg\n",
            "Đường dẫn của hình ảnh thỏa mãn: /content/drive/MyDrive/AI FINAL/test/PNEUMONIA/person326_bacteria_1507.jpeg\n",
            "Đường dẫn của hình ảnh thỏa mãn: /content/drive/MyDrive/AI FINAL/test/PNEUMONIA/person1056_virus_1755.jpeg\n",
            "Đường dẫn của hình ảnh thỏa mãn: /content/drive/MyDrive/AI FINAL/test/PNEUMONIA/person142_virus_288.jpeg\n",
            "Đường dẫn của hình ảnh thỏa mãn: /content/drive/MyDrive/AI FINAL/test/PNEUMONIA/person621_virus_1194.jpeg\n",
            "Đường dẫn của hình ảnh thỏa mãn: /content/drive/MyDrive/AI FINAL/test/PNEUMONIA/person1168_virus_1965.jpeg\n",
            "Đường dẫn của hình ảnh thỏa mãn: /content/drive/MyDrive/AI FINAL/test/PNEUMONIA/person1463_bacteria_3808.jpeg\n",
            "Đường dẫn của hình ảnh thỏa mãn: /content/drive/MyDrive/AI FINAL/test/PNEUMONIA/person1227_virus_2078.jpeg\n",
            "Đường dẫn của hình ảnh thỏa mãn: /content/drive/MyDrive/AI FINAL/test/PNEUMONIA/person512_bacteria_2155.jpeg\n",
            "Đường dẫn của hình ảnh thỏa mãn: /content/drive/MyDrive/AI FINAL/test/PNEUMONIA/person1320_bacteria_3345.jpeg\n",
            "Đường dẫn của hình ảnh thỏa mãn: /content/drive/MyDrive/AI FINAL/test/PNEUMONIA/person1413_virus_2422.jpeg\n",
            "Đường dẫn của hình ảnh thỏa mãn: /content/drive/MyDrive/AI FINAL/test/PNEUMONIA/person26_bacteria_126.jpeg\n",
            "Đường dẫn của hình ảnh thỏa mãn: /content/drive/MyDrive/AI FINAL/test/PNEUMONIA/person1292_virus_2218.jpeg\n",
            "Đường dẫn của hình ảnh thỏa mãn: /content/drive/MyDrive/AI FINAL/test/PNEUMONIA/person1203_bacteria_3155.jpeg\n",
            "Đường dẫn của hình ảnh thỏa mãn: /content/drive/MyDrive/AI FINAL/test/PNEUMONIA/person1441_bacteria_3724.jpeg\n",
            "Đường dẫn của hình ảnh thỏa mãn: /content/drive/MyDrive/AI FINAL/test/PNEUMONIA/person140_virus_284.jpeg\n",
            "Đường dẫn của hình ảnh thỏa mãn: /content/drive/MyDrive/AI FINAL/test/PNEUMONIA/person415_virus_847.jpeg\n",
            "Đường dẫn của hình ảnh thỏa mãn: /content/drive/MyDrive/AI FINAL/test/PNEUMONIA/person58_bacteria_276.jpeg\n",
            "Đường dẫn của hình ảnh thỏa mãn: /content/drive/MyDrive/AI FINAL/test/PNEUMONIA/person816_bacteria_2727.jpeg\n",
            "Đường dẫn của hình ảnh thỏa mãn: /content/drive/MyDrive/AI FINAL/test/PNEUMONIA/person1449_virus_2474.jpeg\n",
            "Đường dẫn của hình ảnh thỏa mãn: /content/drive/MyDrive/AI FINAL/test/PNEUMONIA/person94_virus_176.jpeg\n",
            "Đường dẫn của hình ảnh thỏa mãn: /content/drive/MyDrive/AI FINAL/test/PNEUMONIA/person77_bacteria_375.jpeg\n",
            "Đường dẫn của hình ảnh thỏa mãn: /content/drive/MyDrive/AI FINAL/test/PNEUMONIA/person281_bacteria_1324.jpeg\n",
            "Đường dẫn của hình ảnh thỏa mãn: /content/drive/MyDrive/AI FINAL/test/PNEUMONIA/person1008_bacteria_2939.jpeg\n",
            "Đường dẫn của hình ảnh thỏa mãn: /content/drive/MyDrive/AI FINAL/test/PNEUMONIA/person1486_bacteria_3881.jpeg\n",
            "Đường dẫn của hình ảnh thỏa mãn: /content/drive/MyDrive/AI FINAL/test/PNEUMONIA/person1588_virus_2762.jpeg\n",
            "Đường dẫn của hình ảnh thỏa mãn: /content/drive/MyDrive/AI FINAL/test/PNEUMONIA/person518_bacteria_2198.jpeg\n",
            "Đường dẫn của hình ảnh thỏa mãn: /content/drive/MyDrive/AI FINAL/test/PNEUMONIA/person1669_bacteria_4424.jpeg\n",
            "Đường dẫn của hình ảnh thỏa mãn: /content/drive/MyDrive/AI FINAL/test/PNEUMONIA/person111_virus_210.jpeg\n",
            "Đường dẫn của hình ảnh thỏa mãn: /content/drive/MyDrive/AI FINAL/test/PNEUMONIA/person1530_bacteria_4000.jpeg\n",
            "Đường dẫn của hình ảnh thỏa mãn: /content/drive/MyDrive/AI FINAL/test/PNEUMONIA/person1407_virus_2410.jpeg\n",
            "Đường dẫn của hình ảnh thỏa mãn: /content/drive/MyDrive/AI FINAL/test/PNEUMONIA/person30_bacteria_157.jpeg\n",
            "Đường dẫn của hình ảnh thỏa mãn: /content/drive/MyDrive/AI FINAL/test/PNEUMONIA/person110_virus_208.jpeg\n",
            "Đường dẫn của hình ảnh thỏa mãn: /content/drive/MyDrive/AI FINAL/test/PNEUMONIA/person157_bacteria_735.jpeg\n",
            "Đường dẫn của hình ảnh thỏa mãn: /content/drive/MyDrive/AI FINAL/test/PNEUMONIA/person1735_bacteria_4570.jpeg\n",
            "Đường dẫn của hình ảnh thỏa mãn: /content/drive/MyDrive/AI FINAL/test/PNEUMONIA/person134_bacteria_640.jpeg\n",
            "Đường dẫn của hình ảnh thỏa mãn: /content/drive/MyDrive/AI FINAL/test/PNEUMONIA/person1216_bacteria_3168.jpeg\n",
            "Đường dẫn của hình ảnh thỏa mãn: /content/drive/MyDrive/AI FINAL/test/PNEUMONIA/person1199_bacteria_3149.jpeg\n",
            "Đường dẫn của hình ảnh thỏa mãn: /content/drive/MyDrive/AI FINAL/test/PNEUMONIA/person471_bacteria_2006.jpeg\n",
            "Đường dẫn của hình ảnh thỏa mãn: /content/drive/MyDrive/AI FINAL/test/PNEUMONIA/person508_virus_1020.jpeg\n",
            "Đường dẫn của hình ảnh thỏa mãn: /content/drive/MyDrive/AI FINAL/test/PNEUMONIA/person424_bacteria_1859.jpeg\n",
            "Đường dẫn của hình ảnh thỏa mãn: /content/drive/MyDrive/AI FINAL/test/PNEUMONIA/person1127_virus_1854.jpeg\n",
            "Đường dẫn của hình ảnh thỏa mãn: /content/drive/MyDrive/AI FINAL/test/PNEUMONIA/person1643_virus_2843.jpeg\n",
            "Đường dẫn của hình ảnh thỏa mãn: /content/drive/MyDrive/AI FINAL/test/PNEUMONIA/person577_bacteria_2378.jpeg\n",
            "Đường dẫn của hình ảnh thỏa mãn: /content/drive/MyDrive/AI FINAL/test/PNEUMONIA/person436_bacteria_1883.jpeg\n",
            "Đường dẫn của hình ảnh thỏa mãn: /content/drive/MyDrive/AI FINAL/test/PNEUMONIA/person1721_bacteria_4546.jpeg\n",
            "Đường dẫn của hình ảnh thỏa mãn: /content/drive/MyDrive/AI FINAL/test/PNEUMONIA/person9_bacteria_40.jpeg\n",
            "Đường dẫn của hình ảnh thỏa mãn: /content/drive/MyDrive/AI FINAL/test/PNEUMONIA/person1332_virus_2300.jpeg\n",
            "Đường dẫn của hình ảnh thỏa mãn: /content/drive/MyDrive/AI FINAL/test/PNEUMONIA/person126_bacteria_598.jpeg\n",
            "Đường dẫn của hình ảnh thỏa mãn: /content/drive/MyDrive/AI FINAL/test/PNEUMONIA/person1180_virus_2015.jpeg\n",
            "Đường dẫn của hình ảnh thỏa mãn: /content/drive/MyDrive/AI FINAL/test/PNEUMONIA/person533_virus_1055.jpeg\n",
            "Đường dẫn của hình ảnh thỏa mãn: /content/drive/MyDrive/AI FINAL/test/PNEUMONIA/person665_virus_1250.jpeg\n",
            "Đường dẫn của hình ảnh thỏa mãn: /content/drive/MyDrive/AI FINAL/test/PNEUMONIA/person70_bacteria_343.jpeg\n",
            "Đường dẫn của hình ảnh thỏa mãn: /content/drive/MyDrive/AI FINAL/test/PNEUMONIA/person3_virus_15.jpeg\n",
            "Đường dẫn của hình ảnh thỏa mãn: /content/drive/MyDrive/AI FINAL/test/PNEUMONIA/person440_bacteria_1897.jpeg\n",
            "Đường dẫn của hình ảnh thỏa mãn: /content/drive/MyDrive/AI FINAL/test/PNEUMONIA/person23_bacteria_79.jpeg\n",
            "Đường dẫn của hình ảnh thỏa mãn: /content/drive/MyDrive/AI FINAL/test/PNEUMONIA/person494_virus_1000.jpeg\n",
            "Đường dẫn của hình ảnh thỏa mãn: /content/drive/MyDrive/AI FINAL/test/PNEUMONIA/person938_virus_1600.jpeg\n",
            "Đường dẫn của hình ảnh thỏa mãn: /content/drive/MyDrive/AI FINAL/test/PNEUMONIA/person1076_bacteria_3016.jpeg\n",
            "Đường dẫn của hình ảnh thỏa mãn: /content/drive/MyDrive/AI FINAL/test/PNEUMONIA/person398_bacteria_1801.jpeg\n",
            "Đường dẫn của hình ảnh thỏa mãn: /content/drive/MyDrive/AI FINAL/test/PNEUMONIA/person1068_bacteria_3002.jpeg\n",
            "Đường dẫn của hình ảnh thỏa mãn: /content/drive/MyDrive/AI FINAL/test/PNEUMONIA/person576_bacteria_2376.jpeg\n",
            "Đường dẫn của hình ảnh thỏa mãn: /content/drive/MyDrive/AI FINAL/test/PNEUMONIA/person135_bacteria_646.jpeg\n",
            "Đường dẫn của hình ảnh thỏa mãn: /content/drive/MyDrive/AI FINAL/test/PNEUMONIA/person595_bacteria_2438.jpeg\n",
            "Đường dẫn của hình ảnh thỏa mãn: /content/drive/MyDrive/AI FINAL/test/PNEUMONIA/person1402_virus_2405.jpeg\n",
            "Đường dẫn của hình ảnh thỏa mãn: /content/drive/MyDrive/AI FINAL/test/PNEUMONIA/person1208_bacteria_3160.jpeg\n",
            "Đường dẫn của hình ảnh thỏa mãn: /content/drive/MyDrive/AI FINAL/test/PNEUMONIA/person383_virus_767.jpeg\n",
            "Đường dẫn của hình ảnh thỏa mãn: /content/drive/MyDrive/AI FINAL/test/PNEUMONIA/person23_bacteria_87.jpeg\n",
            "Đường dẫn của hình ảnh thỏa mãn: /content/drive/MyDrive/AI FINAL/test/PNEUMONIA/person1136_bacteria_3078.jpeg\n",
            "Đường dẫn của hình ảnh thỏa mãn: /content/drive/MyDrive/AI FINAL/test/PNEUMONIA/person727_virus_1347.jpeg\n",
            "Đường dẫn của hình ảnh thỏa mãn: /content/drive/MyDrive/AI FINAL/test/PNEUMONIA/person116_virus_221.jpeg\n",
            "Đường dẫn của hình ảnh thỏa mãn: /content/drive/MyDrive/AI FINAL/test/PNEUMONIA/person442_virus_904.jpeg\n",
            "Đường dẫn của hình ảnh thỏa mãn: /content/drive/MyDrive/AI FINAL/test/PNEUMONIA/person596_bacteria_2443.jpeg\n",
            "Đường dẫn của hình ảnh thỏa mãn: /content/drive/MyDrive/AI FINAL/test/PNEUMONIA/person835_bacteria_2750.jpeg\n",
            "Đường dẫn của hình ảnh thỏa mãn: /content/drive/MyDrive/AI FINAL/test/PNEUMONIA/person80_bacteria_390.jpeg\n",
            "Đường dẫn của hình ảnh thỏa mãn: /content/drive/MyDrive/AI FINAL/test/PNEUMONIA/person124_virus_246.jpeg\n",
            "Đường dẫn của hình ảnh thỏa mãn: /content/drive/MyDrive/AI FINAL/test/PNEUMONIA/person1507_bacteria_3943.jpeg\n",
            "Đường dẫn của hình ảnh thỏa mãn: /content/drive/MyDrive/AI FINAL/test/PNEUMONIA/person141_virus_287.jpeg\n",
            "Đường dẫn của hình ảnh thỏa mãn: /content/drive/MyDrive/AI FINAL/test/PNEUMONIA/person276_bacteria_1299.jpeg\n",
            "Đường dẫn của hình ảnh thỏa mãn: /content/drive/MyDrive/AI FINAL/test/PNEUMONIA/person357_bacteria_1639.jpeg\n",
            "Đường dẫn của hình ảnh thỏa mãn: /content/drive/MyDrive/AI FINAL/test/PNEUMONIA/person1463_bacteria_3811.jpeg\n",
            "Đường dẫn của hình ảnh thỏa mãn: /content/drive/MyDrive/AI FINAL/test/PNEUMONIA/person725_bacteria_2627.jpeg\n",
            "Đường dẫn của hình ảnh thỏa mãn: /content/drive/MyDrive/AI FINAL/test/PNEUMONIA/person920_virus_1577.jpeg\n",
            "Đường dẫn của hình ảnh thỏa mãn: /content/drive/MyDrive/AI FINAL/test/PNEUMONIA/person688_virus_1281.jpeg\n",
            "Đường dẫn của hình ảnh thỏa mãn: /content/drive/MyDrive/AI FINAL/test/PNEUMONIA/person139_bacteria_661.jpeg\n",
            "Đường dẫn của hình ảnh thỏa mãn: /content/drive/MyDrive/AI FINAL/test/PNEUMONIA/person509_virus_1024.jpeg\n",
            "Đường dẫn của hình ảnh thỏa mãn: /content/drive/MyDrive/AI FINAL/test/PNEUMONIA/person25_bacteria_114.jpeg\n",
            "Đường dẫn của hình ảnh thỏa mãn: /content/drive/MyDrive/AI FINAL/test/PNEUMONIA/person341_bacteria_1577.jpeg\n",
            "Đường dẫn của hình ảnh thỏa mãn: /content/drive/MyDrive/AI FINAL/test/PNEUMONIA/person1531_bacteria_4003.jpeg\n",
            "Đường dẫn của hình ảnh thỏa mãn: /content/drive/MyDrive/AI FINAL/test/PNEUMONIA/person1430_bacteria_3693.jpeg\n",
            "Đường dẫn của hình ảnh thỏa mãn: /content/drive/MyDrive/AI FINAL/test/PNEUMONIA/person1290_virus_2215.jpeg\n",
            "Đường dẫn của hình ảnh thỏa mãn: /content/drive/MyDrive/AI FINAL/test/PNEUMONIA/person354_bacteria_1634.jpeg\n",
            "Đường dẫn của hình ảnh thỏa mãn: /content/drive/MyDrive/AI FINAL/test/PNEUMONIA/person272_virus_559.jpeg\n",
            "Đường dẫn của hình ảnh thỏa mãn: /content/drive/MyDrive/AI FINAL/test/PNEUMONIA/person486_bacteria_2052.jpeg\n",
            "Đường dẫn của hình ảnh thỏa mãn: /content/drive/MyDrive/AI FINAL/test/PNEUMONIA/person966_virus_1639.jpeg\n",
            "Đường dẫn của hình ảnh thỏa mãn: /content/drive/MyDrive/AI FINAL/test/PNEUMONIA/person1011_bacteria_2942.jpeg\n",
            "Đường dẫn của hình ảnh thỏa mãn: /content/drive/MyDrive/AI FINAL/test/PNEUMONIA/person55_bacteria_264.jpeg\n",
            "Đường dẫn của hình ảnh thỏa mãn: /content/drive/MyDrive/AI FINAL/test/PNEUMONIA/person1449_virus_2476.jpeg\n",
            "Đường dẫn của hình ảnh thỏa mãn: /content/drive/MyDrive/AI FINAL/test/PNEUMONIA/person148_virus_298.jpeg\n",
            "Đường dẫn của hình ảnh thỏa mãn: /content/drive/MyDrive/AI FINAL/test/PNEUMONIA/person680_bacteria_2575.jpeg\n",
            "Đường dẫn của hình ảnh thỏa mãn: /content/drive/MyDrive/AI FINAL/test/PNEUMONIA/person644_virus_1225.jpeg\n",
            "Đường dẫn của hình ảnh thỏa mãn: /content/drive/MyDrive/AI FINAL/test/PNEUMONIA/person1080_bacteria_3020.jpeg\n",
            "Đường dẫn của hình ảnh thỏa mãn: /content/drive/MyDrive/AI FINAL/test/PNEUMONIA/person1196_bacteria_3146.jpeg\n",
            "Đường dẫn của hình ảnh thỏa mãn: /content/drive/MyDrive/AI FINAL/test/PNEUMONIA/person136_bacteria_649.jpeg\n",
            "Đường dẫn của hình ảnh thỏa mãn: /content/drive/MyDrive/AI FINAL/test/PNEUMONIA/person849_bacteria_2770.jpeg\n",
            "Đường dẫn của hình ảnh thỏa mãn: /content/drive/MyDrive/AI FINAL/test/PNEUMONIA/person339_bacteria_1574.jpeg\n",
            "Đường dẫn của hình ảnh thỏa mãn: /content/drive/MyDrive/AI FINAL/test/PNEUMONIA/person1316_bacteria_3326.jpeg\n",
            "Đường dẫn của hình ảnh thỏa mãn: /content/drive/MyDrive/AI FINAL/test/PNEUMONIA/person1049_bacteria_2983.jpeg\n",
            "Đường dẫn của hình ảnh thỏa mãn: /content/drive/MyDrive/AI FINAL/test/PNEUMONIA/person260_bacteria_1222.jpeg\n",
            "Đường dẫn của hình ảnh thỏa mãn: /content/drive/MyDrive/AI FINAL/test/PNEUMONIA/person759_bacteria_2663.jpeg\n",
            "Đường dẫn của hình ảnh thỏa mãn: /content/drive/MyDrive/AI FINAL/test/PNEUMONIA/person550_virus_1090.jpeg\n",
            "Đường dẫn của hình ảnh thỏa mãn: /content/drive/MyDrive/AI FINAL/test/PNEUMONIA/person326_virus_668.jpeg\n",
            "Đường dẫn của hình ảnh thỏa mãn: /content/drive/MyDrive/AI FINAL/test/PNEUMONIA/person981_virus_1657.jpeg\n",
            "Đường dẫn của hình ảnh thỏa mãn: /content/drive/MyDrive/AI FINAL/test/PNEUMONIA/person32_virus_71.jpeg\n",
            "Đường dẫn của hình ảnh thỏa mãn: /content/drive/MyDrive/AI FINAL/test/PNEUMONIA/person1519_virus_2646.jpeg\n",
            "Đường dẫn của hình ảnh thỏa mãn: /content/drive/MyDrive/AI FINAL/test/PNEUMONIA/person253_bacteria_1152.jpeg\n",
            "Đường dẫn của hình ảnh thỏa mãn: /content/drive/MyDrive/AI FINAL/test/PNEUMONIA/person1170_bacteria_3117.jpeg\n",
            "Đường dẫn của hình ảnh thỏa mãn: /content/drive/MyDrive/AI FINAL/test/PNEUMONIA/person1458_virus_2503.jpeg\n",
            "Đường dẫn của hình ảnh thỏa mãn: /content/drive/MyDrive/AI FINAL/test/PNEUMONIA/person687_bacteria_2583.jpeg\n",
            "Đường dẫn của hình ảnh thỏa mãn: /content/drive/MyDrive/AI FINAL/test/PNEUMONIA/person1411_bacteria_3598.jpeg\n",
            "Đường dẫn của hình ảnh thỏa mãn: /content/drive/MyDrive/AI FINAL/test/PNEUMONIA/person459_virus_947.jpeg\n",
            "Đường dẫn của hình ảnh thỏa mãn: /content/drive/MyDrive/AI FINAL/test/PNEUMONIA/person704_bacteria_2603.jpeg\n",
            "Đường dẫn của hình ảnh thỏa mãn: /content/drive/MyDrive/AI FINAL/test/PNEUMONIA/person257_bacteria_1200.jpeg\n",
            "Đường dẫn của hình ảnh thỏa mãn: /content/drive/MyDrive/AI FINAL/test/PNEUMONIA/person363_bacteria_1654.jpeg\n",
            "Đường dẫn của hình ảnh thỏa mãn: /content/drive/MyDrive/AI FINAL/test/PNEUMONIA/person407_virus_814.jpeg\n",
            "Đường dẫn của hình ảnh thỏa mãn: /content/drive/MyDrive/AI FINAL/test/PNEUMONIA/person663_virus_1247.jpeg\n",
            "Đường dẫn của hình ảnh thỏa mãn: /content/drive/MyDrive/AI FINAL/test/PNEUMONIA/person1668_bacteria_4420.jpeg\n",
            "Đường dẫn của hình ảnh thỏa mãn: /content/drive/MyDrive/AI FINAL/test/PNEUMONIA/person1590_bacteria_4174.jpeg\n",
            "Đường dẫn của hình ảnh thỏa mãn: /content/drive/MyDrive/AI FINAL/test/PNEUMONIA/person1492_bacteria_3894.jpeg\n",
            "Đường dẫn của hình ảnh thỏa mãn: /content/drive/MyDrive/AI FINAL/test/PNEUMONIA/person317_bacteria_1471.jpeg\n",
            "Đường dẫn của hình ảnh thỏa mãn: /content/drive/MyDrive/AI FINAL/test/PNEUMONIA/person373_bacteria_1709.jpeg\n",
            "Đường dẫn của hình ảnh thỏa mãn: /content/drive/MyDrive/AI FINAL/test/PNEUMONIA/person78_bacteria_385.jpeg\n",
            "Đường dẫn của hình ảnh thỏa mãn: /content/drive/MyDrive/AI FINAL/test/PNEUMONIA/person889_bacteria_2813.jpeg\n",
            "Đường dẫn của hình ảnh thỏa mãn: /content/drive/MyDrive/AI FINAL/test/PNEUMONIA/person587_bacteria_2421.jpeg\n",
            "Đường dẫn của hình ảnh thỏa mãn: /content/drive/MyDrive/AI FINAL/test/PNEUMONIA/person261_bacteria_1225.jpeg\n",
            "Đường dẫn của hình ảnh thỏa mãn: /content/drive/MyDrive/AI FINAL/test/PNEUMONIA/person340_virus_698.jpeg\n",
            "Đường dẫn của hình ảnh thỏa mãn: /content/drive/MyDrive/AI FINAL/test/PNEUMONIA/person49_bacteria_237.jpeg\n",
            "Đường dẫn của hình ảnh thỏa mãn: /content/drive/MyDrive/AI FINAL/test/PNEUMONIA/person281_bacteria_1330.jpeg\n",
            "Đường dẫn của hình ảnh thỏa mãn: /content/drive/MyDrive/AI FINAL/test/PNEUMONIA/person26_bacteria_129.jpeg\n",
            "Đường dẫn của hình ảnh thỏa mãn: /content/drive/MyDrive/AI FINAL/test/PNEUMONIA/person1081_bacteria_3021.jpeg\n",
            "Đường dẫn của hình ảnh thỏa mãn: /content/drive/MyDrive/AI FINAL/test/PNEUMONIA/person1700_bacteria_4500.jpeg\n",
            "Đường dẫn của hình ảnh thỏa mãn: /content/drive/MyDrive/AI FINAL/test/PNEUMONIA/person1231_bacteria_3186.jpeg\n",
            "Đường dẫn của hình ảnh thỏa mãn: /content/drive/MyDrive/AI FINAL/test/PNEUMONIA/person450_bacteria_1941.jpeg\n",
            "Đường dẫn của hình ảnh thỏa mãn: /content/drive/MyDrive/AI FINAL/test/PNEUMONIA/person1312_bacteria_3319.jpeg\n",
            "Đường dẫn của hình ảnh thỏa mãn: /content/drive/MyDrive/AI FINAL/test/PNEUMONIA/person1333_bacteria_3386.jpeg\n",
            "Đường dẫn của hình ảnh thỏa mãn: /content/drive/MyDrive/AI FINAL/test/PNEUMONIA/person1057_virus_1756.jpeg\n",
            "Đường dẫn của hình ảnh thỏa mãn: /content/drive/MyDrive/AI FINAL/test/PNEUMONIA/person31_virus_70.jpeg\n",
            "Đường dẫn của hình ảnh thỏa mãn: /content/drive/MyDrive/AI FINAL/test/PNEUMONIA/person1423_bacteria_3650.jpeg\n",
            "Đường dẫn của hình ảnh thỏa mãn: /content/drive/MyDrive/AI FINAL/test/PNEUMONIA/person357_virus_734.jpeg\n",
            "Đường dẫn của hình ảnh thỏa mãn: /content/drive/MyDrive/AI FINAL/test/PNEUMONIA/person548_bacteria_2298.jpeg\n",
            "Đường dẫn của hình ảnh thỏa mãn: /content/drive/MyDrive/AI FINAL/test/PNEUMONIA/person111_bacteria_536.jpeg\n",
            "Đường dẫn của hình ảnh thỏa mãn: /content/drive/MyDrive/AI FINAL/test/PNEUMONIA/person46_bacteria_224.jpeg\n",
            "Đường dẫn của hình ảnh thỏa mãn: /content/drive/MyDrive/AI FINAL/test/PNEUMONIA/person1411_bacteria_3602.jpeg\n",
            "Đường dẫn của hình ảnh thỏa mãn: /content/drive/MyDrive/AI FINAL/test/PNEUMONIA/person1484_bacteria_3878.jpeg\n",
            "Đường dẫn của hình ảnh thỏa mãn: /content/drive/MyDrive/AI FINAL/test/PNEUMONIA/person563_bacteria_2336.jpeg\n",
            "Đường dẫn của hình ảnh thỏa mãn: /content/drive/MyDrive/AI FINAL/test/PNEUMONIA/person976_bacteria_2901.jpeg\n",
            "Đường dẫn của hình ảnh thỏa mãn: /content/drive/MyDrive/AI FINAL/test/PNEUMONIA/person332_bacteria_1537.jpeg\n",
            "Đường dẫn của hình ảnh thỏa mãn: /content/drive/MyDrive/AI FINAL/test/PNEUMONIA/person1934_bacteria_4846.jpeg\n",
            "Đường dẫn của hình ảnh thỏa mãn: /content/drive/MyDrive/AI FINAL/test/PNEUMONIA/person556_bacteria_2326.jpeg\n",
            "Đường dẫn của hình ảnh thỏa mãn: /content/drive/MyDrive/AI FINAL/test/PNEUMONIA/person1034_bacteria_2968.jpeg\n",
            "Đường dẫn của hình ảnh thỏa mãn: /content/drive/MyDrive/AI FINAL/test/PNEUMONIA/person457_virus_944.jpeg\n",
            "Đường dẫn của hình ảnh thỏa mãn: /content/drive/MyDrive/AI FINAL/test/PNEUMONIA/person9_bacteria_39.jpeg\n",
            "Đường dẫn của hình ảnh thỏa mãn: /content/drive/MyDrive/AI FINAL/test/PNEUMONIA/person1941_bacteria_4863.jpeg\n",
            "Đường dẫn của hình ảnh thỏa mãn: /content/drive/MyDrive/AI FINAL/test/PNEUMONIA/person140_virus_285.jpeg\n",
            "Đường dẫn của hình ảnh thỏa mãn: /content/drive/MyDrive/AI FINAL/test/PNEUMONIA/person382_bacteria_1737.jpeg\n",
            "Đường dẫn của hình ảnh thỏa mãn: /content/drive/MyDrive/AI FINAL/test/PNEUMONIA/person502_virus_1012.jpeg\n",
            "Đường dẫn của hình ảnh thỏa mãn: /content/drive/MyDrive/AI FINAL/test/PNEUMONIA/person1550_virus_2691.jpeg\n",
            "Đường dẫn của hình ảnh thỏa mãn: /content/drive/MyDrive/AI FINAL/test/PNEUMONIA/person515_virus_1032.jpeg\n",
            "Đường dẫn của hình ảnh thỏa mãn: /content/drive/MyDrive/AI FINAL/test/PNEUMONIA/person1566_bacteria_4099.jpeg\n",
            "Đường dẫn của hình ảnh thỏa mãn: /content/drive/MyDrive/AI FINAL/test/PNEUMONIA/person441_bacteria_1911.jpeg\n",
            "Đường dẫn của hình ảnh thỏa mãn: /content/drive/MyDrive/AI FINAL/test/PNEUMONIA/person296_bacteria_1396.jpeg\n",
            "Đường dẫn của hình ảnh thỏa mãn: /content/drive/MyDrive/AI FINAL/test/PNEUMONIA/person1438_bacteria_3715.jpeg\n",
            "Đường dẫn của hình ảnh thỏa mãn: /content/drive/MyDrive/AI FINAL/test/PNEUMONIA/person81_bacteria_396.jpeg\n",
            "Đường dẫn của hình ảnh thỏa mãn: /content/drive/MyDrive/AI FINAL/test/PNEUMONIA/person1839_bacteria_4705.jpeg\n",
            "Đường dẫn của hình ảnh thỏa mãn: /content/drive/MyDrive/AI FINAL/test/PNEUMONIA/person1438_bacteria_3721.jpeg\n",
            "Đường dẫn của hình ảnh thỏa mãn: /content/drive/MyDrive/AI FINAL/test/PNEUMONIA/person1357_virus_2338.jpeg\n",
            "Đường dẫn của hình ảnh thỏa mãn: /content/drive/MyDrive/AI FINAL/test/PNEUMONIA/person269_virus_554.jpeg\n",
            "Đường dẫn của hình ảnh thỏa mãn: /content/drive/MyDrive/AI FINAL/test/PNEUMONIA/person25_bacteria_121.jpeg\n",
            "Đường dẫn của hình ảnh thỏa mãn: /content/drive/MyDrive/AI FINAL/test/PNEUMONIA/person336_bacteria_1551.jpeg\n",
            "Đường dẫn của hình ảnh thỏa mãn: /content/drive/MyDrive/AI FINAL/test/PNEUMONIA/person944_bacteria_2869.jpeg\n",
            "Đường dẫn của hình ảnh thỏa mãn: /content/drive/MyDrive/AI FINAL/test/PNEUMONIA/person142_bacteria_684.jpeg\n",
            "Đường dẫn của hình ảnh thỏa mãn: /content/drive/MyDrive/AI FINAL/test/PNEUMONIA/person531_bacteria_2236.jpeg\n",
            "Đường dẫn của hình ảnh thỏa mãn: /content/drive/MyDrive/AI FINAL/test/PNEUMONIA/person301_virus_622.jpeg\n",
            "Đường dẫn của hình ảnh thỏa mãn: /content/drive/MyDrive/AI FINAL/test/PNEUMONIA/person1072_bacteria_3006.jpeg\n",
            "Đường dẫn của hình ảnh thỏa mãn: /content/drive/MyDrive/AI FINAL/test/PNEUMONIA/person413_bacteria_1834.jpeg\n",
            "Đường dẫn của hình ảnh thỏa mãn: /content/drive/MyDrive/AI FINAL/test/PNEUMONIA/person355_bacteria_1637.jpeg\n",
            "Đường dẫn của hình ảnh thỏa mãn: /content/drive/MyDrive/AI FINAL/test/PNEUMONIA/person401_virus_798.jpeg\n",
            "Đường dẫn của hình ảnh thỏa mãn: /content/drive/MyDrive/AI FINAL/test/PNEUMONIA/person1562_bacteria_4087.jpeg\n",
            "Đường dẫn của hình ảnh thỏa mãn: /content/drive/MyDrive/AI FINAL/test/PNEUMONIA/person1474_virus_2557.jpeg\n",
            "Đường dẫn của hình ảnh thỏa mãn: /content/drive/MyDrive/AI FINAL/test/PNEUMONIA/person500_bacteria_2111.jpeg\n",
            "Đường dẫn của hình ảnh thỏa mãn: /content/drive/MyDrive/AI FINAL/test/PNEUMONIA/person745_virus_1368.jpeg\n",
            "Đường dẫn của hình ảnh thỏa mãn: /content/drive/MyDrive/AI FINAL/test/PNEUMONIA/person61_bacteria_296.jpeg\n",
            "Đường dẫn của hình ảnh thỏa mãn: /content/drive/MyDrive/AI FINAL/test/PNEUMONIA/person1660_bacteria_4404.jpeg\n",
            "Đường dẫn của hình ảnh thỏa mãn: /content/drive/MyDrive/AI FINAL/test/PNEUMONIA/person73_bacteria_360.jpeg\n",
            "Đường dẫn của hình ảnh thỏa mãn: /content/drive/MyDrive/AI FINAL/test/PNEUMONIA/person1248_virus_2117.jpeg\n",
            "Đường dẫn của hình ảnh thỏa mãn: /content/drive/MyDrive/AI FINAL/test/PNEUMONIA/person38_bacteria_193.jpeg\n",
            "Đường dẫn của hình ảnh thỏa mãn: /content/drive/MyDrive/AI FINAL/test/PNEUMONIA/person917_bacteria_2842.jpeg\n",
            "Đường dẫn của hình ảnh thỏa mãn: /content/drive/MyDrive/AI FINAL/test/PNEUMONIA/person1507_bacteria_3942.jpeg\n",
            "Đường dẫn của hình ảnh thỏa mãn: /content/drive/MyDrive/AI FINAL/test/PNEUMONIA/person402_virus_801.jpeg\n",
            "Đường dẫn của hình ảnh thỏa mãn: /content/drive/MyDrive/AI FINAL/test/PNEUMONIA/person124_virus_236.jpeg\n",
            "Đường dẫn của hình ảnh thỏa mãn: /content/drive/MyDrive/AI FINAL/test/PNEUMONIA/person1363_virus_2346.jpeg\n",
            "Đường dẫn của hình ảnh thỏa mãn: /content/drive/MyDrive/AI FINAL/test/PNEUMONIA/person1592_virus_2766.jpeg\n",
            "Đường dẫn của hình ảnh thỏa mãn: /content/drive/MyDrive/AI FINAL/test/PNEUMONIA/person696_bacteria_2594.jpeg\n",
            "Đường dẫn của hình ảnh thỏa mãn: /content/drive/MyDrive/AI FINAL/test/PNEUMONIA/person107_virus_197.jpeg\n",
            "Đường dẫn của hình ảnh thỏa mãn: /content/drive/MyDrive/AI FINAL/test/PNEUMONIA/person620_virus_1191.jpeg\n",
            "Đường dẫn của hình ảnh thỏa mãn: /content/drive/MyDrive/AI FINAL/test/PNEUMONIA/person971_bacteria_2896.jpeg\n",
            "Đường dẫn của hình ảnh thỏa mãn: /content/drive/MyDrive/AI FINAL/test/PNEUMONIA/person48_bacteria_231.jpeg\n",
            "Đường dẫn của hình ảnh thỏa mãn: /content/drive/MyDrive/AI FINAL/test/PNEUMONIA/person453_virus_935.jpeg\n",
            "Đường dẫn của hình ảnh thỏa mãn: /content/drive/MyDrive/AI FINAL/test/PNEUMONIA/person548_bacteria_2300.jpeg\n",
            "Đường dẫn của hình ảnh thỏa mãn: /content/drive/MyDrive/AI FINAL/test/PNEUMONIA/person940_bacteria_2865.jpeg\n",
            "Đường dẫn của hình ảnh thỏa mãn: /content/drive/MyDrive/AI FINAL/test/PNEUMONIA/person325_virus_660.jpeg\n",
            "Đường dẫn của hình ảnh thỏa mãn: /content/drive/MyDrive/AI FINAL/test/PNEUMONIA/person1725_bacteria_4551.jpeg\n",
            "Đường dẫn của hình ảnh thỏa mãn: /content/drive/MyDrive/AI FINAL/test/PNEUMONIA/person1526_bacteria_3986.jpeg\n",
            "Đường dẫn của hình ảnh thỏa mãn: /content/drive/MyDrive/AI FINAL/test/PNEUMONIA/person332_bacteria_1536.jpeg\n",
            "Đường dẫn của hình ảnh thỏa mãn: /content/drive/MyDrive/AI FINAL/test/PNEUMONIA/person600_bacteria_2457.jpeg\n",
            "Đường dẫn của hình ảnh thỏa mãn: /content/drive/MyDrive/AI FINAL/test/PNEUMONIA/person75_bacteria_365.jpeg\n",
            "Đường dẫn của hình ảnh thỏa mãn: /content/drive/MyDrive/AI FINAL/test/PNEUMONIA/person809_bacteria_2717.jpeg\n",
            "Đường dẫn của hình ảnh thỏa mãn: /content/drive/MyDrive/AI FINAL/test/PNEUMONIA/person1689_bacteria_4473.jpeg\n",
            "Đường dẫn của hình ảnh thỏa mãn: /content/drive/MyDrive/AI FINAL/test/PNEUMONIA/person1336_virus_2306.jpeg\n",
            "Đường dẫn của hình ảnh thỏa mãn: /content/drive/MyDrive/AI FINAL/test/PNEUMONIA/person376_virus_759.jpeg\n",
            "Đường dẫn của hình ảnh thỏa mãn: /content/drive/MyDrive/AI FINAL/test/PNEUMONIA/person1168_bacteria_3115.jpeg\n",
            "Đường dẫn của hình ảnh thỏa mãn: /content/drive/MyDrive/AI FINAL/test/PNEUMONIA/person109_bacteria_519.jpeg\n",
            "Đường dẫn của hình ảnh thỏa mãn: /content/drive/MyDrive/AI FINAL/test/PNEUMONIA/person905_bacteria_2830.jpeg\n",
            "Đường dẫn của hình ảnh thỏa mãn: /content/drive/MyDrive/AI FINAL/test/PNEUMONIA/person299_bacteria_1414.jpeg\n",
            "Đường dẫn của hình ảnh thỏa mãn: /content/drive/MyDrive/AI FINAL/test/PNEUMONIA/person447_bacteria_1932.jpeg\n",
            "Đường dẫn của hình ảnh thỏa mãn: /content/drive/MyDrive/AI FINAL/test/PNEUMONIA/person1277_bacteria_3240.jpeg\n",
            "Đường dẫn của hình ảnh thỏa mãn: /content/drive/MyDrive/AI FINAL/test/PNEUMONIA/person162_virus_321.jpeg\n",
            "Đường dẫn của hình ảnh thỏa mãn: /content/drive/MyDrive/AI FINAL/test/PNEUMONIA/person88_bacteria_439.jpeg\n",
            "Đường dẫn của hình ảnh thỏa mãn: /content/drive/MyDrive/AI FINAL/test/PNEUMONIA/person328_bacteria_1514.jpeg\n",
            "Đường dẫn của hình ảnh thỏa mãn: /content/drive/MyDrive/AI FINAL/test/PNEUMONIA/person813_bacteria_2723.jpeg\n",
            "Đường dẫn của hình ảnh thỏa mãn: /content/drive/MyDrive/AI FINAL/test/PNEUMONIA/person1629_virus_2823.jpeg\n",
            "Đường dẫn của hình ảnh thỏa mãn: /content/drive/MyDrive/AI FINAL/test/PNEUMONIA/person518_virus_1036.jpeg\n",
            "Đường dẫn của hình ảnh thỏa mãn: /content/drive/MyDrive/AI FINAL/test/PNEUMONIA/person501_bacteria_2116.jpeg\n",
            "Đường dẫn của hình ảnh thỏa mãn: /content/drive/MyDrive/AI FINAL/test/PNEUMONIA/person261_virus_543.jpeg\n",
            "Đường dẫn của hình ảnh thỏa mãn: /content/drive/MyDrive/AI FINAL/test/PNEUMONIA/person61_bacteria_292.jpeg\n",
            "Đường dẫn của hình ảnh thỏa mãn: /content/drive/MyDrive/AI FINAL/test/PNEUMONIA/person1333_virus_2301.jpeg\n",
            "Đường dẫn của hình ảnh thỏa mãn: /content/drive/MyDrive/AI FINAL/test/PNEUMONIA/person1174_virus_1980.jpeg\n",
            "Đường dẫn của hình ảnh thỏa mãn: /content/drive/MyDrive/AI FINAL/test/PNEUMONIA/person796_virus_1428.jpeg\n",
            "Đường dẫn của hình ảnh thỏa mãn: /content/drive/MyDrive/AI FINAL/test/PNEUMONIA/person785_bacteria_2689.jpeg\n",
            "Đường dẫn của hình ảnh thỏa mãn: /content/drive/MyDrive/AI FINAL/test/PNEUMONIA/person1095_virus_1815.jpeg\n",
            "Đường dẫn của hình ảnh thỏa mãn: /content/drive/MyDrive/AI FINAL/test/PNEUMONIA/person604_virus_1165.jpeg\n",
            "Đường dẫn của hình ảnh thỏa mãn: /content/drive/MyDrive/AI FINAL/test/PNEUMONIA/person1307_virus_2251.jpeg\n",
            "Đường dẫn của hình ảnh thỏa mãn: /content/drive/MyDrive/AI FINAL/test/PNEUMONIA/person1008_virus_1691.jpeg\n",
            "Đường dẫn của hình ảnh thỏa mãn: /content/drive/MyDrive/AI FINAL/test/PNEUMONIA/person386_virus_771.jpeg\n",
            "Đường dẫn của hình ảnh thỏa mãn: /content/drive/MyDrive/AI FINAL/test/PNEUMONIA/person454_bacteria_1945.jpeg\n",
            "Đường dẫn của hình ảnh thỏa mãn: /content/drive/MyDrive/AI FINAL/test/PNEUMONIA/person1481_bacteria_3867.jpeg\n",
            "Đường dẫn của hình ảnh thỏa mãn: /content/drive/MyDrive/AI FINAL/test/PNEUMONIA/person441_bacteria_1903.jpeg\n",
            "Đường dẫn của hình ảnh thỏa mãn: /content/drive/MyDrive/AI FINAL/test/PNEUMONIA/person98_virus_182.jpeg\n",
            "Đường dẫn của hình ảnh thỏa mãn: /content/drive/MyDrive/AI FINAL/test/PNEUMONIA/person1368_virus_2354.jpeg\n",
            "Đường dẫn của hình ảnh thỏa mãn: /content/drive/MyDrive/AI FINAL/test/PNEUMONIA/person113_bacteria_541.jpeg\n",
            "Đường dẫn của hình ảnh thỏa mãn: /content/drive/MyDrive/AI FINAL/test/PNEUMONIA/person1940_bacteria_4859.jpeg\n",
            "Đường dẫn của hình ảnh thỏa mãn: /content/drive/MyDrive/AI FINAL/test/PNEUMONIA/person598_virus_1151.jpeg\n",
            "Đường dẫn của hình ảnh thỏa mãn: /content/drive/MyDrive/AI FINAL/test/PNEUMONIA/person24_bacteria_112.jpeg\n",
            "Đường dẫn của hình ảnh thỏa mãn: /content/drive/MyDrive/AI FINAL/test/PNEUMONIA/person1155_bacteria_3100.jpeg\n",
            "Đường dẫn của hình ảnh thỏa mãn: /content/drive/MyDrive/AI FINAL/test/PNEUMONIA/person588_bacteria_2423.jpeg\n",
            "Đường dẫn của hình ảnh thỏa mãn: /content/drive/MyDrive/AI FINAL/test/PNEUMONIA/person91_bacteria_449.jpeg\n",
            "Đường dẫn của hình ảnh thỏa mãn: /content/drive/MyDrive/AI FINAL/test/PNEUMONIA/person46_bacteria_225.jpeg\n",
            "Đường dẫn của hình ảnh thỏa mãn: /content/drive/MyDrive/AI FINAL/test/PNEUMONIA/person1375_bacteria_3509.jpeg\n",
            "Đường dẫn của hình ảnh thỏa mãn: /content/drive/MyDrive/AI FINAL/test/PNEUMONIA/person1305_bacteria_3271.jpeg\n",
            "Đường dẫn của hình ảnh thỏa mãn: /content/drive/MyDrive/AI FINAL/test/PNEUMONIA/person276_bacteria_1295.jpeg\n",
            "Đường dẫn của hình ảnh thỏa mãn: /content/drive/MyDrive/AI FINAL/test/PNEUMONIA/person357_virus_735.jpeg\n",
            "Đường dẫn của hình ảnh thỏa mãn: /content/drive/MyDrive/AI FINAL/test/PNEUMONIA/person280_bacteria_1321.jpeg\n",
            "Đường dẫn của hình ảnh thỏa mãn: /content/drive/MyDrive/AI FINAL/test/PNEUMONIA/person371_virus_754.jpeg\n",
            "Đường dẫn của hình ảnh thỏa mãn: /content/drive/MyDrive/AI FINAL/test/PNEUMONIA/person1496_bacteria_3905.jpeg\n",
            "Đường dẫn của hình ảnh thỏa mãn: /content/drive/MyDrive/AI FINAL/test/PNEUMONIA/person640_bacteria_2532.jpeg\n",
            "Đường dẫn của hình ảnh thỏa mãn: /content/drive/MyDrive/AI FINAL/test/PNEUMONIA/person158_bacteria_742.jpeg\n",
            "Đường dẫn của hình ảnh thỏa mãn: /content/drive/MyDrive/AI FINAL/test/PNEUMONIA/person326_virus_666.jpeg\n",
            "Đường dẫn của hình ảnh thỏa mãn: /content/drive/MyDrive/AI FINAL/test/PNEUMONIA/person1484_virus_2577.jpeg\n",
            "Đường dẫn của hình ảnh thỏa mãn: /content/drive/MyDrive/AI FINAL/test/PNEUMONIA/person1283_virus_2206.jpeg\n",
            "Đường dẫn của hình ảnh thỏa mãn: /content/drive/MyDrive/AI FINAL/test/PNEUMONIA/person30_bacteria_150.jpeg\n",
            "Đường dẫn của hình ảnh thỏa mãn: /content/drive/MyDrive/AI FINAL/test/PNEUMONIA/person1720_bacteria_4545.jpeg\n",
            "Đường dẫn của hình ảnh thỏa mãn: /content/drive/MyDrive/AI FINAL/test/PNEUMONIA/person585_bacteria_2416.jpeg\n",
            "Đường dẫn của hình ảnh thỏa mãn: /content/drive/MyDrive/AI FINAL/test/PNEUMONIA/person276_bacteria_1298.jpeg\n",
            "Đường dẫn của hình ảnh thỏa mãn: /content/drive/MyDrive/AI FINAL/test/PNEUMONIA/person296_bacteria_1392.jpeg\n",
            "Đường dẫn của hình ảnh thỏa mãn: /content/drive/MyDrive/AI FINAL/test/PNEUMONIA/person1343_bacteria_3417.jpeg\n",
            "Đường dẫn của hình ảnh thỏa mãn: /content/drive/MyDrive/AI FINAL/test/PNEUMONIA/person159_bacteria_746.jpeg\n",
            "Đường dẫn của hình ảnh thỏa mãn: /content/drive/MyDrive/AI FINAL/test/PNEUMONIA/person124_virus_240.jpeg\n",
            "Đường dẫn của hình ảnh thỏa mãn: /content/drive/MyDrive/AI FINAL/test/PNEUMONIA/person54_virus_109.jpeg\n",
            "Đường dẫn của hình ảnh thỏa mãn: /content/drive/MyDrive/AI FINAL/test/PNEUMONIA/person313_bacteria_1457.jpeg\n",
            "Đường dẫn của hình ảnh thỏa mãn: /content/drive/MyDrive/AI FINAL/test/PNEUMONIA/person364_bacteria_1660.jpeg\n",
            "Đường dẫn của hình ảnh thỏa mãn: /content/drive/MyDrive/AI FINAL/test/PNEUMONIA/person152_bacteria_722.jpeg\n",
            "Đường dẫn của hình ảnh thỏa mãn: /content/drive/MyDrive/AI FINAL/test/PNEUMONIA/person1019_bacteria_2950.jpeg\n",
            "Đường dẫn của hình ảnh thỏa mãn: /content/drive/MyDrive/AI FINAL/test/PNEUMONIA/person471_bacteria_2005.jpeg\n",
            "Đường dẫn của hình ảnh thỏa mãn: /content/drive/MyDrive/AI FINAL/test/PNEUMONIA/person861_virus_1506.jpeg\n",
            "Đường dẫn của hình ảnh thỏa mãn: /content/drive/MyDrive/AI FINAL/test/PNEUMONIA/person376_bacteria_1716.jpeg\n",
            "Đường dẫn của hình ảnh thỏa mãn: /content/drive/MyDrive/AI FINAL/test/PNEUMONIA/person1863_bacteria_4735.jpeg\n",
            "Đường dẫn của hình ảnh thỏa mãn: /content/drive/MyDrive/AI FINAL/test/PNEUMONIA/person348_bacteria_1603.jpeg\n",
            "Đường dẫn của hình ảnh thỏa mãn: /content/drive/MyDrive/AI FINAL/test/PNEUMONIA/person580_bacteria_2387.jpeg\n",
            "Đường dẫn của hình ảnh thỏa mãn: /content/drive/MyDrive/AI FINAL/test/PNEUMONIA/person80_bacteria_389.jpeg\n",
            "Đường dẫn của hình ảnh thỏa mãn: /content/drive/MyDrive/AI FINAL/test/PNEUMONIA/person1310_bacteria_3302.jpeg\n",
            "Đường dẫn của hình ảnh thỏa mãn: /content/drive/MyDrive/AI FINAL/test/PNEUMONIA/person1449_bacteria_3743.jpeg\n",
            "Đường dẫn của hình ảnh thỏa mãn: /content/drive/MyDrive/AI FINAL/test/PNEUMONIA/person459_bacteria_1956.jpeg\n",
            "Đường dẫn của hình ảnh thỏa mãn: /content/drive/MyDrive/AI FINAL/test/PNEUMONIA/person391_virus_781.jpeg\n",
            "Đường dẫn của hình ảnh thỏa mãn: /content/drive/MyDrive/AI FINAL/test/PNEUMONIA/person1753_bacteria_4594.jpeg\n",
            "Đường dẫn của hình ảnh thỏa mãn: /content/drive/MyDrive/AI FINAL/test/PNEUMONIA/person487_bacteria_2056.jpeg\n",
            "Đường dẫn của hình ảnh thỏa mãn: /content/drive/MyDrive/AI FINAL/test/PNEUMONIA/person351_bacteria_1624.jpeg\n",
            "Đường dẫn của hình ảnh thỏa mãn: /content/drive/MyDrive/AI FINAL/test/PNEUMONIA/person563_virus_1103.jpeg\n",
            "Đường dẫn của hình ảnh thỏa mãn: /content/drive/MyDrive/AI FINAL/test/PNEUMONIA/person292_virus_599.jpeg\n",
            "Đường dẫn của hình ảnh thỏa mãn: /content/drive/MyDrive/AI FINAL/test/PNEUMONIA/person1696_bacteria_4495.jpeg\n",
            "Đường dẫn của hình ảnh thỏa mãn: /content/drive/MyDrive/AI FINAL/test/PNEUMONIA/person1814_bacteria_4669.jpeg\n",
            "Đường dẫn của hình ảnh thỏa mãn: /content/drive/MyDrive/AI FINAL/test/PNEUMONIA/person321_bacteria_1487.jpeg\n",
            "Đường dẫn của hình ảnh thỏa mãn: /content/drive/MyDrive/AI FINAL/test/PNEUMONIA/person1312_bacteria_3317.jpeg\n",
            "Đường dẫn của hình ảnh thỏa mãn: /content/drive/MyDrive/AI FINAL/test/PNEUMONIA/person481_virus_983.jpeg\n",
            "Đường dẫn của hình ảnh thỏa mãn: /content/drive/MyDrive/AI FINAL/test/PNEUMONIA/person575_virus_1119.jpeg\n",
            "Đường dẫn của hình ảnh thỏa mãn: /content/drive/MyDrive/AI FINAL/test/PNEUMONIA/person583_virus_1127.jpeg\n",
            "Đường dẫn của hình ảnh thỏa mãn: /content/drive/MyDrive/AI FINAL/test/PNEUMONIA/person1554_virus_2696.jpeg\n",
            "Đường dẫn của hình ảnh thỏa mãn: /content/drive/MyDrive/AI FINAL/test/PNEUMONIA/person1379_bacteria_3514.jpeg\n",
            "Đường dẫn của hình ảnh thỏa mãn: /content/drive/MyDrive/AI FINAL/test/PNEUMONIA/person89_virus_168.jpeg\n",
            "Đường dẫn của hình ảnh thỏa mãn: /content/drive/MyDrive/AI FINAL/test/PNEUMONIA/person941_virus_1610.jpeg\n",
            "Đường dẫn của hình ảnh thỏa mãn: /content/drive/MyDrive/AI FINAL/test/PNEUMONIA/person1300_bacteria_3264.jpeg\n",
            "Đường dẫn của hình ảnh thỏa mãn: /content/drive/MyDrive/AI FINAL/test/PNEUMONIA/person1687_bacteria_4468.jpeg\n",
            "Đường dẫn của hình ảnh thỏa mãn: /content/drive/MyDrive/AI FINAL/test/PNEUMONIA/person91_bacteria_445.jpeg\n",
            "Đường dẫn của hình ảnh thỏa mãn: /content/drive/MyDrive/AI FINAL/test/PNEUMONIA/person520_virus_1039.jpeg\n",
            "Đường dẫn của hình ảnh thỏa mãn: /content/drive/MyDrive/AI FINAL/test/PNEUMONIA/person299_bacteria_1419.jpeg\n",
            "Đường dẫn của hình ảnh thỏa mãn: /content/drive/MyDrive/AI FINAL/test/PNEUMONIA/person253_bacteria_1156.jpeg\n",
            "Đường dẫn của hình ảnh thỏa mãn: /content/drive/MyDrive/AI FINAL/test/PNEUMONIA/person118_bacteria_560.jpeg\n",
            "Đường dẫn của hình ảnh thỏa mãn: /content/drive/MyDrive/AI FINAL/test/PNEUMONIA/person1392_bacteria_3538.jpeg\n",
            "Đường dẫn của hình ảnh thỏa mãn: /content/drive/MyDrive/AI FINAL/test/PNEUMONIA/person1176_bacteria_3124.jpeg\n",
            "Đường dẫn của hình ảnh thỏa mãn: /content/drive/MyDrive/AI FINAL/test/PNEUMONIA/person1333_bacteria_3385.jpeg\n",
            "Đường dẫn của hình ảnh thỏa mãn: /content/drive/MyDrive/AI FINAL/test/PNEUMONIA/person614_bacteria_2481.jpeg\n",
            "Đường dẫn của hình ảnh thỏa mãn: /content/drive/MyDrive/AI FINAL/test/PNEUMONIA/person1412_bacteria_3612.jpeg\n",
            "Đường dẫn của hình ảnh thỏa mãn: /content/drive/MyDrive/AI FINAL/test/PNEUMONIA/person23_virus_56.jpeg\n",
            "Đường dẫn của hình ảnh thỏa mãn: /content/drive/MyDrive/AI FINAL/test/PNEUMONIA/person1080_virus_1791.jpeg\n",
            "Đường dẫn của hình ảnh thỏa mãn: /content/drive/MyDrive/AI FINAL/test/PNEUMONIA/person1496_virus_2606.jpeg\n",
            "Đường dẫn của hình ảnh thỏa mãn: /content/drive/MyDrive/AI FINAL/test/PNEUMONIA/person1639_bacteria_4347.jpeg\n",
            "Đường dẫn của hình ảnh thỏa mãn: /content/drive/MyDrive/AI FINAL/test/PNEUMONIA/person549_bacteria_2307.jpeg\n",
            "Đường dẫn của hình ảnh thỏa mãn: /content/drive/MyDrive/AI FINAL/test/PNEUMONIA/person704_virus_1301.jpeg\n",
            "Đường dẫn của hình ảnh thỏa mãn: /content/drive/MyDrive/AI FINAL/test/PNEUMONIA/person1253_bacteria_3211.jpeg\n",
            "Đường dẫn của hình ảnh thỏa mãn: /content/drive/MyDrive/AI FINAL/test/PNEUMONIA/person1180_bacteria_3128.jpeg\n",
            "Đường dẫn của hình ảnh thỏa mãn: /content/drive/MyDrive/AI FINAL/test/PNEUMONIA/person109_bacteria_517.jpeg\n",
            "Đường dẫn của hình ảnh thỏa mãn: /content/drive/MyDrive/AI FINAL/test/PNEUMONIA/person420_bacteria_1848.jpeg\n",
            "Đường dẫn của hình ảnh thỏa mãn: /content/drive/MyDrive/AI FINAL/test/PNEUMONIA/person470_bacteria_1998.jpeg\n",
            "Đường dẫn của hình ảnh thỏa mãn: /content/drive/MyDrive/AI FINAL/test/PNEUMONIA/person1077_virus_1787.jpeg\n",
            "Đường dẫn của hình ảnh thỏa mãn: /content/drive/MyDrive/AI FINAL/test/PNEUMONIA/person1372_bacteria_3500.jpeg\n",
            "Đường dẫn của hình ảnh thỏa mãn: /content/drive/MyDrive/AI FINAL/test/PNEUMONIA/person1175_bacteria_3122.jpeg\n",
            "Đường dẫn của hình ảnh thỏa mãn: /content/drive/MyDrive/AI FINAL/test/PNEUMONIA/person1641_virus_2840.jpeg\n",
            "Đường dẫn của hình ảnh thỏa mãn: /content/drive/MyDrive/AI FINAL/test/PNEUMONIA/person1122_bacteria_3063.jpeg\n",
            "Đường dẫn của hình ảnh thỏa mãn: /content/drive/MyDrive/AI FINAL/test/PNEUMONIA/person326_bacteria_1505.jpeg\n",
            "Đường dẫn của hình ảnh thỏa mãn: /content/drive/MyDrive/AI FINAL/test/PNEUMONIA/person521_virus_1040.jpeg\n",
            "Đường dẫn của hình ảnh thỏa mãn: /content/drive/MyDrive/AI FINAL/test/PNEUMONIA/person1099_virus_1819.jpeg\n",
            "Đường dẫn của hình ảnh thỏa mãn: /content/drive/MyDrive/AI FINAL/test/PNEUMONIA/person934_bacteria_2859.jpeg\n",
            "Đường dẫn của hình ảnh thỏa mãn: /content/drive/MyDrive/AI FINAL/test/PNEUMONIA/person1411_bacteria_3610.jpeg\n",
            "Đường dẫn của hình ảnh thỏa mãn: /content/drive/MyDrive/AI FINAL/test/PNEUMONIA/person303_virus_624.jpeg\n",
            "Đường dẫn của hình ảnh thỏa mãn: /content/drive/MyDrive/AI FINAL/test/PNEUMONIA/person78_bacteria_382.jpeg\n",
            "Đường dẫn của hình ảnh thỏa mãn: /content/drive/MyDrive/AI FINAL/test/PNEUMONIA/person716_virus_1314.jpeg\n",
            "Đường dẫn của hình ảnh thỏa mãn: /content/drive/MyDrive/AI FINAL/test/PNEUMONIA/person525_bacteria_2220.jpeg\n",
            "Đường dẫn của hình ảnh thỏa mãn: /content/drive/MyDrive/AI FINAL/test/PNEUMONIA/person1682_bacteria_4459.jpeg\n",
            "Đường dẫn của hình ảnh thỏa mãn: /content/drive/MyDrive/AI FINAL/test/PNEUMONIA/person419_virus_855.jpeg\n",
            "Đường dẫn của hình ảnh thỏa mãn: /content/drive/MyDrive/AI FINAL/test/PNEUMONIA/person1179_bacteria_3127.jpeg\n",
            "Đường dẫn của hình ảnh thỏa mãn: /content/drive/MyDrive/AI FINAL/test/PNEUMONIA/person567_virus_1107.jpeg\n",
            "Đường dẫn của hình ảnh thỏa mãn: /content/drive/MyDrive/AI FINAL/test/PNEUMONIA/person515_bacteria_2185.jpeg\n",
            "Đường dẫn của hình ảnh thỏa mãn: /content/drive/MyDrive/AI FINAL/test/PNEUMONIA/person1463_bacteria_3809.jpeg\n",
            "Đường dẫn của hình ảnh thỏa mãn: /content/drive/MyDrive/AI FINAL/test/PNEUMONIA/person1648_bacteria_4376.jpeg\n",
            "Đường dẫn của hình ảnh thỏa mãn: /content/drive/MyDrive/AI FINAL/test/PNEUMONIA/person1285_virus_2208.jpeg\n",
            "Đường dẫn của hình ảnh thỏa mãn: /content/drive/MyDrive/AI FINAL/test/PNEUMONIA/person741_virus_1364.jpeg\n",
            "Đường dẫn của hình ảnh thỏa mãn: /content/drive/MyDrive/AI FINAL/test/PNEUMONIA/person390_bacteria_1781.jpeg\n",
            "Đường dẫn của hình ảnh thỏa mãn: /content/drive/MyDrive/AI FINAL/test/PNEUMONIA/person1685_bacteria_4465.jpeg\n",
            "Đường dẫn của hình ảnh thỏa mãn: /content/drive/MyDrive/AI FINAL/test/PNEUMONIA/person130_bacteria_626.jpeg\n",
            "Đường dẫn của hình ảnh thỏa mãn: /content/drive/MyDrive/AI FINAL/test/PNEUMONIA/person614_bacteria_2483.jpeg\n",
            "Đường dẫn của hình ảnh thỏa mãn: /content/drive/MyDrive/AI FINAL/test/PNEUMONIA/person1818_bacteria_4676.jpeg\n",
            "Đường dẫn của hình ảnh thỏa mãn: /content/drive/MyDrive/AI FINAL/test/PNEUMONIA/person410_bacteria_1825.jpeg\n",
            "Đường dẫn của hình ảnh thỏa mãn: /content/drive/MyDrive/AI FINAL/test/PNEUMONIA/person40_bacteria_205.jpeg\n",
            "Đường dẫn của hình ảnh thỏa mãn: /content/drive/MyDrive/AI FINAL/test/PNEUMONIA/person1057_bacteria_2991.jpeg\n",
            "Đường dẫn của hình ảnh thỏa mãn: /content/drive/MyDrive/AI FINAL/test/PNEUMONIA/person1509_bacteria_3951.jpeg\n",
            "Đường dẫn của hình ảnh thỏa mãn: /content/drive/MyDrive/AI FINAL/test/PNEUMONIA/person765_virus_1393.jpeg\n",
            "Đường dẫn của hình ảnh thỏa mãn: /content/drive/MyDrive/AI FINAL/test/PNEUMONIA/person437_bacteria_1887.jpeg\n",
            "Đường dẫn của hình ảnh thỏa mãn: /content/drive/MyDrive/AI FINAL/test/PNEUMONIA/person409_virus_816.jpeg\n",
            "Đường dẫn của hình ảnh thỏa mãn: /content/drive/MyDrive/AI FINAL/test/PNEUMONIA/person92_bacteria_450.jpeg\n",
            "Đường dẫn của hình ảnh thỏa mãn: /content/drive/MyDrive/AI FINAL/test/PNEUMONIA/person520_bacteria_2205.jpeg\n",
            "Đường dẫn của hình ảnh thỏa mãn: /content/drive/MyDrive/AI FINAL/test/PNEUMONIA/person1466_virus_2541.jpeg\n",
            "Đường dẫn của hình ảnh thỏa mãn: /content/drive/MyDrive/AI FINAL/test/PNEUMONIA/person72_bacteria_352.jpeg\n",
            "Đường dẫn của hình ảnh thỏa mãn: /content/drive/MyDrive/AI FINAL/test/PNEUMONIA/person372_virus_755.jpeg\n",
            "Đường dẫn của hình ảnh thỏa mãn: /content/drive/MyDrive/AI FINAL/test/PNEUMONIA/person302_virus_623.jpeg\n",
            "Đường dẫn của hình ảnh thỏa mãn: /content/drive/MyDrive/AI FINAL/test/PNEUMONIA/person257_bacteria_1197.jpeg\n",
            "Đường dẫn của hình ảnh thỏa mãn: /content/drive/MyDrive/AI FINAL/test/PNEUMONIA/person873_bacteria_2796.jpeg\n",
            "Đường dẫn của hình ảnh thỏa mãn: /content/drive/MyDrive/AI FINAL/test/PNEUMONIA/person1661_virus_2872.jpeg\n",
            "Đường dẫn của hình ảnh thỏa mãn: /content/drive/MyDrive/AI FINAL/test/PNEUMONIA/person527_bacteria_2225.jpeg\n",
            "Đường dẫn của hình ảnh thỏa mãn: /content/drive/MyDrive/AI FINAL/test/PNEUMONIA/person1706_bacteria_4516.jpeg\n",
            "Đường dẫn của hình ảnh thỏa mãn: /content/drive/MyDrive/AI FINAL/test/PNEUMONIA/person85_bacteria_424.jpeg\n",
            "Đường dẫn của hình ảnh thỏa mãn: /content/drive/MyDrive/AI FINAL/test/PNEUMONIA/person265_bacteria_1235.jpeg\n",
            "Đường dẫn của hình ảnh thỏa mãn: /content/drive/MyDrive/AI FINAL/test/PNEUMONIA/person1358_virus_2339.jpeg\n",
            "Đường dẫn của hình ảnh thỏa mãn: /content/drive/MyDrive/AI FINAL/test/PNEUMONIA/person1657_virus_2864.jpeg\n",
            "Đường dẫn của hình ảnh thỏa mãn: /content/drive/MyDrive/AI FINAL/test/PNEUMONIA/person904_bacteria_2829.jpeg\n",
            "Đường dẫn của hình ảnh thỏa mãn: /content/drive/MyDrive/AI FINAL/test/PNEUMONIA/person271_virus_556.jpeg\n",
            "Đường dẫn của hình ảnh thỏa mãn: /content/drive/MyDrive/AI FINAL/test/PNEUMONIA/person835_virus_1472.jpeg\n",
            "Đường dẫn của hình ảnh thỏa mãn: /content/drive/MyDrive/AI FINAL/test/PNEUMONIA/person382_bacteria_1746.jpeg\n",
            "Đường dẫn của hình ảnh thỏa mãn: /content/drive/MyDrive/AI FINAL/test/PNEUMONIA/person500_bacteria_2106.jpeg\n",
            "Đường dẫn của hình ảnh thỏa mãn: /content/drive/MyDrive/AI FINAL/test/PNEUMONIA/person457_bacteria_1949.jpeg\n",
            "Đường dẫn của hình ảnh thỏa mãn: /content/drive/MyDrive/AI FINAL/test/PNEUMONIA/person264_bacteria_1231.jpeg\n",
            "Đường dẫn của hình ảnh thỏa mãn: /content/drive/MyDrive/AI FINAL/test/PNEUMONIA/person527_bacteria_2226.jpeg\n",
            "Đường dẫn của hình ảnh thỏa mãn: /content/drive/MyDrive/AI FINAL/test/PNEUMONIA/person625_bacteria_2500.jpeg\n",
            "Đường dẫn của hình ảnh thỏa mãn: /content/drive/MyDrive/AI FINAL/test/PNEUMONIA/person480_virus_982.jpeg\n",
            "Đường dẫn của hình ảnh thỏa mãn: /content/drive/MyDrive/AI FINAL/test/PNEUMONIA/person1598_bacteria_4195.jpeg\n",
            "Đường dẫn của hình ảnh thỏa mãn: /content/drive/MyDrive/AI FINAL/test/PNEUMONIA/person1186_bacteria_3135.jpeg\n",
            "Đường dẫn của hình ảnh thỏa mãn: /content/drive/MyDrive/AI FINAL/test/PNEUMONIA/person1405_bacteria_3571.jpeg\n",
            "Đường dẫn của hình ảnh thỏa mãn: /content/drive/MyDrive/AI FINAL/test/PNEUMONIA/person712_virus_1310.jpeg\n",
            "Đường dẫn của hình ảnh thỏa mãn: /content/drive/MyDrive/AI FINAL/test/PNEUMONIA/person1346_virus_2322.jpeg\n",
            "Đường dẫn của hình ảnh thỏa mãn: /content/drive/MyDrive/AI FINAL/test/PNEUMONIA/person119_virus_225.jpeg\n",
            "Đường dẫn của hình ảnh thỏa mãn: /content/drive/MyDrive/AI FINAL/test/PNEUMONIA/person1339_bacteria_3402.jpeg\n",
            "Đường dẫn của hình ảnh thỏa mãn: /content/drive/MyDrive/AI FINAL/test/PNEUMONIA/person52_bacteria_251.jpeg\n",
            "Đường dẫn của hình ảnh thỏa mãn: /content/drive/MyDrive/AI FINAL/test/PNEUMONIA/person581_bacteria_2390.jpeg\n",
            "Đường dẫn của hình ảnh thỏa mãn: /content/drive/MyDrive/AI FINAL/test/PNEUMONIA/person628_bacteria_2505.jpeg\n",
            "Đường dẫn của hình ảnh thỏa mãn: /content/drive/MyDrive/AI FINAL/test/PNEUMONIA/person1636_bacteria_4337.jpeg\n",
            "Đường dẫn của hình ảnh thỏa mãn: /content/drive/MyDrive/AI FINAL/test/PNEUMONIA/person754_virus_1379.jpeg\n",
            "Đường dẫn của hình ảnh thỏa mãn: /content/drive/MyDrive/AI FINAL/test/PNEUMONIA/person1935_bacteria_4849.jpeg\n",
            "Đường dẫn của hình ảnh thỏa mãn: /content/drive/MyDrive/AI FINAL/test/PNEUMONIA/person1866_bacteria_4740.jpeg\n",
            "Đường dẫn của hình ảnh thỏa mãn: /content/drive/MyDrive/AI FINAL/test/PNEUMONIA/person1089_bacteria_3029.jpeg\n",
            "Đường dẫn của hình ảnh thỏa mãn: /content/drive/MyDrive/AI FINAL/test/PNEUMONIA/person599_virus_1155.jpeg\n",
            "Đường dẫn của hình ảnh thỏa mãn: /content/drive/MyDrive/AI FINAL/test/PNEUMONIA/person776_bacteria_2680.jpeg\n",
            "Đường dẫn của hình ảnh thỏa mãn: /content/drive/MyDrive/AI FINAL/test/PNEUMONIA/person78_bacteria_386.jpeg\n",
            "Đường dẫn của hình ảnh thỏa mãn: /content/drive/MyDrive/AI FINAL/test/PNEUMONIA/person100_bacteria_481.jpeg\n",
            "Đường dẫn của hình ảnh thỏa mãn: /content/drive/MyDrive/AI FINAL/test/PNEUMONIA/person1239_bacteria_3195.jpeg\n",
            "Đường dẫn của hình ảnh thỏa mãn: /content/drive/MyDrive/AI FINAL/test/PNEUMONIA/person973_virus_1647.jpeg\n",
            "Đường dẫn của hình ảnh thỏa mãn: /content/drive/MyDrive/AI FINAL/test/PNEUMONIA/person847_virus_1492.jpeg\n",
            "Đường dẫn của hình ảnh thỏa mãn: /content/drive/MyDrive/AI FINAL/test/PNEUMONIA/person769_bacteria_2673.jpeg\n",
            "Đường dẫn của hình ảnh thỏa mãn: /content/drive/MyDrive/AI FINAL/test/PNEUMONIA/person1469_bacteria_3827.jpeg\n",
            "Đường dẫn của hình ảnh thỏa mãn: /content/drive/MyDrive/AI FINAL/test/PNEUMONIA/person1042_virus_1737.jpeg\n",
            "Đường dẫn của hình ảnh thỏa mãn: /content/drive/MyDrive/AI FINAL/test/PNEUMONIA/person61_bacteria_293.jpeg\n",
            "Đường dẫn của hình ảnh thỏa mãn: /content/drive/MyDrive/AI FINAL/test/PNEUMONIA/person1263_bacteria_3221.jpeg\n",
            "Đường dẫn của hình ảnh thỏa mãn: /content/drive/MyDrive/AI FINAL/test/PNEUMONIA/person38_virus_83.jpeg\n",
            "Đường dẫn của hình ảnh thỏa mãn: /content/drive/MyDrive/AI FINAL/test/PNEUMONIA/person60_bacteria_286.jpeg\n",
            "Đường dẫn của hình ảnh thỏa mãn: /content/drive/MyDrive/AI FINAL/test/PNEUMONIA/person1549_virus_2690.jpeg\n",
            "Đường dẫn của hình ảnh thỏa mãn: /content/drive/MyDrive/AI FINAL/test/PNEUMONIA/person1116_virus_1841.jpeg\n",
            "Đường dẫn của hình ảnh thỏa mãn: /content/drive/MyDrive/AI FINAL/test/PNEUMONIA/person559_virus_1099.jpeg\n",
            "Đường dẫn của hình ảnh thỏa mãn: /content/drive/MyDrive/AI FINAL/test/PNEUMONIA/person520_bacteria_2204.jpeg\n",
            "Đường dẫn của hình ảnh thỏa mãn: /content/drive/MyDrive/AI FINAL/test/PNEUMONIA/person1306_bacteria_3272.jpeg\n",
            "Đường dẫn của hình ảnh thỏa mãn: /content/drive/MyDrive/AI FINAL/test/PNEUMONIA/person40_bacteria_202.jpeg\n",
            "Đường dẫn của hình ảnh thỏa mãn: /content/drive/MyDrive/AI FINAL/test/PNEUMONIA/person331_bacteria_1529.jpeg\n",
            "Đường dẫn của hình ảnh thỏa mãn: /content/drive/MyDrive/AI FINAL/test/PNEUMONIA/person1184_virus_2019.jpeg\n",
            "Đường dẫn của hình ảnh thỏa mãn: /content/drive/MyDrive/AI FINAL/test/PNEUMONIA/person1406_bacteria_3574.jpeg\n",
            "Đường dẫn của hình ảnh thỏa mãn: /content/drive/MyDrive/AI FINAL/test/PNEUMONIA/person1680_virus_2897.jpeg\n",
            "Đường dẫn của hình ảnh thỏa mãn: /content/drive/MyDrive/AI FINAL/test/PNEUMONIA/person25_virus_59.jpeg\n",
            "Đường dẫn của hình ảnh thỏa mãn: /content/drive/MyDrive/AI FINAL/test/PNEUMONIA/person174_bacteria_832.jpeg\n",
            "Đường dẫn của hình ảnh thỏa mãn: /content/drive/MyDrive/AI FINAL/test/PNEUMONIA/person1679_bacteria_4449.jpeg\n",
            "Đường dẫn của hình ảnh thỏa mãn: /content/drive/MyDrive/AI FINAL/test/PNEUMONIA/person44_bacteria_219.jpeg\n",
            "Đường dẫn của hình ảnh thỏa mãn: /content/drive/MyDrive/AI FINAL/test/PNEUMONIA/person73_bacteria_355.jpeg\n",
            "Đường dẫn của hình ảnh thỏa mãn: /content/drive/MyDrive/AI FINAL/test/PNEUMONIA/person308_bacteria_1443.jpeg\n",
            "Đường dẫn của hình ảnh thỏa mãn: /content/drive/MyDrive/AI FINAL/test/PNEUMONIA/person1574_bacteria_4118.jpeg\n",
            "Đường dẫn của hình ảnh thỏa mãn: /content/drive/MyDrive/AI FINAL/test/PNEUMONIA/person23_bacteria_100.jpeg\n",
            "Đường dẫn của hình ảnh thỏa mãn: /content/drive/MyDrive/AI FINAL/test/PNEUMONIA/person1424_bacteria_3651.jpeg\n",
            "Đường dẫn của hình ảnh thỏa mãn: /content/drive/MyDrive/AI FINAL/test/PNEUMONIA/person408_virus_815.jpeg\n",
            "Đường dẫn của hình ảnh thỏa mãn: /content/drive/MyDrive/AI FINAL/test/PNEUMONIA/person475_bacteria_2022.jpeg\n",
            "Đường dẫn của hình ảnh thỏa mãn: /content/drive/MyDrive/AI FINAL/test/PNEUMONIA/person1318_bacteria_3335.jpeg\n",
            "Đường dẫn của hình ảnh thỏa mãn: /content/drive/MyDrive/AI FINAL/test/PNEUMONIA/person1231_virus_2088.jpeg\n",
            "Đường dẫn của hình ảnh thỏa mãn: /content/drive/MyDrive/AI FINAL/test/PNEUMONIA/person348_virus_719.jpeg\n",
            "Đường dẫn của hình ảnh thỏa mãn: /content/drive/MyDrive/AI FINAL/test/PNEUMONIA/person26_bacteria_132.jpeg\n",
            "Đường dẫn của hình ảnh thỏa mãn: /content/drive/MyDrive/AI FINAL/test/PNEUMONIA/person817_bacteria_2728.jpeg\n",
            "Đường dẫn của hình ảnh thỏa mãn: /content/drive/MyDrive/AI FINAL/test/PNEUMONIA/person389_bacteria_1780.jpeg\n",
            "Đường dẫn của hình ảnh thỏa mãn: /content/drive/MyDrive/AI FINAL/test/PNEUMONIA/person600_bacteria_2458.jpeg\n",
            "Đường dẫn của hình ảnh thỏa mãn: /content/drive/MyDrive/AI FINAL/test/PNEUMONIA/person1122_virus_1847.jpeg\n",
            "Đường dẫn của hình ảnh thỏa mãn: /content/drive/MyDrive/AI FINAL/test/PNEUMONIA/person673_bacteria_2566.jpeg\n",
            "Đường dẫn của hình ảnh thỏa mãn: /content/drive/MyDrive/AI FINAL/test/PNEUMONIA/person1499_virus_2609.jpeg\n",
            "Đường dẫn của hình ảnh thỏa mãn: /content/drive/MyDrive/AI FINAL/test/PNEUMONIA/person1500_bacteria_3916.jpeg\n",
            "Đường dẫn của hình ảnh thỏa mãn: /content/drive/MyDrive/AI FINAL/test/PNEUMONIA/person1028_bacteria_2959.jpeg\n",
            "Đường dẫn của hình ảnh thỏa mãn: /content/drive/MyDrive/AI FINAL/test/PNEUMONIA/person444_virus_911.jpeg\n",
            "Đường dẫn của hình ảnh thỏa mãn: /content/drive/MyDrive/AI FINAL/test/PNEUMONIA/person42_virus_89.jpeg\n",
            "Đường dẫn của hình ảnh thỏa mãn: /content/drive/MyDrive/AI FINAL/test/PNEUMONIA/person1310_bacteria_3295.jpeg\n",
            "Đường dẫn của hình ảnh thỏa mãn: /content/drive/MyDrive/AI FINAL/test/PNEUMONIA/person523_virus_1043.jpeg\n",
            "Đường dẫn của hình ảnh thỏa mãn: /content/drive/MyDrive/AI FINAL/test/PNEUMONIA/person1650_virus_2854.jpeg\n",
            "Đường dẫn của hình ảnh thỏa mãn: /content/drive/MyDrive/AI FINAL/test/PNEUMONIA/person1217_bacteria_3169.jpeg\n",
            "Đường dẫn của hình ảnh thỏa mãn: /content/drive/MyDrive/AI FINAL/test/PNEUMONIA/person1023_virus_1714.jpeg\n",
            "Đường dẫn của hình ảnh thỏa mãn: /content/drive/MyDrive/AI FINAL/test/PNEUMONIA/person1454_virus_2486.jpeg\n",
            "Đường dẫn của hình ảnh thỏa mãn: /content/drive/MyDrive/AI FINAL/test/PNEUMONIA/person1626_virus_2818.jpeg\n",
            "Đường dẫn của hình ảnh thỏa mãn: /content/drive/MyDrive/AI FINAL/test/PNEUMONIA/person65_bacteria_322.jpeg\n",
            "Đường dẫn của hình ảnh thỏa mãn: /content/drive/MyDrive/AI FINAL/test/PNEUMONIA/person1156_virus_1936.jpeg\n",
            "Đường dẫn của hình ảnh thỏa mãn: /content/drive/MyDrive/AI FINAL/test/PNEUMONIA/person1024_virus_1716.jpeg\n",
            "Đường dẫn của hình ảnh thỏa mãn: /content/drive/MyDrive/AI FINAL/test/PNEUMONIA/person1424_virus_2437.jpeg\n",
            "Đường dẫn của hình ảnh thỏa mãn: /content/drive/MyDrive/AI FINAL/test/PNEUMONIA/person346_virus_709.jpeg\n",
            "Đường dẫn của hình ảnh thỏa mãn: /content/drive/MyDrive/AI FINAL/test/PNEUMONIA/person399_bacteria_1805.jpeg\n",
            "Đường dẫn của hình ảnh thỏa mãn: /content/drive/MyDrive/AI FINAL/test/PNEUMONIA/person1765_bacteria_4608.jpeg\n",
            "Đường dẫn của hình ảnh thỏa mãn: /content/drive/MyDrive/AI FINAL/test/PNEUMONIA/person298_virus_618.jpeg\n",
            "Đường dẫn của hình ảnh thỏa mãn: /content/drive/MyDrive/AI FINAL/test/PNEUMONIA/person1115_bacteria_3056.jpeg\n",
            "Đường dẫn của hình ảnh thỏa mãn: /content/drive/MyDrive/AI FINAL/test/PNEUMONIA/person1411_bacteria_3599.jpeg\n",
            "Đường dẫn của hình ảnh thỏa mãn: /content/drive/MyDrive/AI FINAL/test/PNEUMONIA/person1420_virus_2431.jpeg\n",
            "Đường dẫn của hình ảnh thỏa mãn: /content/drive/MyDrive/AI FINAL/test/PNEUMONIA/person953_bacteria_2878.jpeg\n",
            "Đường dẫn của hình ảnh thỏa mãn: /content/drive/MyDrive/AI FINAL/test/PNEUMONIA/person1930_bacteria_4841.jpeg\n",
            "Đường dẫn của hình ảnh thỏa mãn: /content/drive/MyDrive/AI FINAL/test/PNEUMONIA/person420_bacteria_1849.jpeg\n",
            "Đường dẫn của hình ảnh thỏa mãn: /content/drive/MyDrive/AI FINAL/test/PNEUMONIA/person881_virus_1531.jpeg\n",
            "Đường dẫn của hình ảnh thỏa mãn: /content/drive/MyDrive/AI FINAL/test/PNEUMONIA/person1176_virus_1997.jpeg\n",
            "Đường dẫn của hình ảnh thỏa mãn: /content/drive/MyDrive/AI FINAL/test/PNEUMONIA/person1349_bacteria_3434.jpeg\n",
            "Đường dẫn của hình ảnh thỏa mãn: /content/drive/MyDrive/AI FINAL/test/PNEUMONIA/person293_virus_604.jpeg\n",
            "Đường dẫn của hình ảnh thỏa mãn: /content/drive/MyDrive/AI FINAL/test/PNEUMONIA/person982_bacteria_2909.jpeg\n",
            "Đường dẫn của hình ảnh thỏa mãn: /content/drive/MyDrive/AI FINAL/test/PNEUMONIA/person1075_bacteria_3015.jpeg\n",
            "Đường dẫn của hình ảnh thỏa mãn: /content/drive/MyDrive/AI FINAL/test/PNEUMONIA/person1647_bacteria_4372.jpeg\n",
            "Đường dẫn của hình ảnh thỏa mãn: /content/drive/MyDrive/AI FINAL/test/PNEUMONIA/person1438_virus_2452.jpeg\n",
            "Đường dẫn của hình ảnh thỏa mãn: /content/drive/MyDrive/AI FINAL/test/PNEUMONIA/person1044_virus_1740.jpeg\n",
            "Đường dẫn của hình ảnh thỏa mãn: /content/drive/MyDrive/AI FINAL/test/PNEUMONIA/person669_bacteria_2562.jpeg\n",
            "Đường dẫn của hình ảnh thỏa mãn: /content/drive/MyDrive/AI FINAL/test/PNEUMONIA/person414_bacteria_1835.jpeg\n",
            "Đường dẫn của hình ảnh thỏa mãn: /content/drive/MyDrive/AI FINAL/test/PNEUMONIA/person1381_bacteria_3516.jpeg\n",
            "Đường dẫn của hình ảnh thỏa mãn: /content/drive/MyDrive/AI FINAL/test/PNEUMONIA/person43_bacteria_213.jpeg\n",
            "Đường dẫn của hình ảnh thỏa mãn: /content/drive/MyDrive/AI FINAL/test/PNEUMONIA/person1389_bacteria_3531.jpeg\n",
            "Đường dẫn của hình ảnh thỏa mãn: /content/drive/MyDrive/AI FINAL/test/PNEUMONIA/person276_virus_569.jpeg\n",
            "Đường dẫn của hình ảnh thỏa mãn: /content/drive/MyDrive/AI FINAL/test/PNEUMONIA/person83_bacteria_410.jpeg\n",
            "Đường dẫn của hình ảnh thỏa mãn: /content/drive/MyDrive/AI FINAL/test/PNEUMONIA/person558_virus_1098.jpeg\n",
            "Đường dẫn của hình ảnh thỏa mãn: /content/drive/MyDrive/AI FINAL/test/PNEUMONIA/person70_bacteria_345.jpeg\n",
            "Đường dẫn của hình ảnh thỏa mãn: /content/drive/MyDrive/AI FINAL/test/PNEUMONIA/person1810_bacteria_4664.jpeg\n",
            "Đường dẫn của hình ảnh thỏa mãn: /content/drive/MyDrive/AI FINAL/test/PNEUMONIA/person81_virus_153.jpeg\n",
            "Đường dẫn của hình ảnh thỏa mãn: /content/drive/MyDrive/AI FINAL/test/PNEUMONIA/person121_bacteria_578.jpeg\n",
            "Đường dẫn của hình ảnh thỏa mãn: /content/drive/MyDrive/AI FINAL/test/PNEUMONIA/person359_bacteria_1642.jpeg\n",
            "Đường dẫn của hình ảnh thỏa mãn: /content/drive/MyDrive/AI FINAL/test/PNEUMONIA/person124_virus_251.jpeg\n",
            "Đường dẫn của hình ảnh thỏa mãn: /content/drive/MyDrive/AI FINAL/test/PNEUMONIA/person540_bacteria_2273.jpeg\n",
            "Đường dẫn của hình ảnh thỏa mãn: /content/drive/MyDrive/AI FINAL/test/PNEUMONIA/person562_bacteria_2332.jpeg\n",
            "Đường dẫn của hình ảnh thỏa mãn: /content/drive/MyDrive/AI FINAL/test/PNEUMONIA/person1667_virus_2881.jpeg\n",
            "Đường dẫn của hình ảnh thỏa mãn: /content/drive/MyDrive/AI FINAL/test/PNEUMONIA/person1708_bacteria_4521.jpeg\n",
            "Đường dẫn của hình ảnh thỏa mãn: /content/drive/MyDrive/AI FINAL/test/PNEUMONIA/person511_virus_1027.jpeg\n",
            "Đường dẫn của hình ảnh thỏa mãn: /content/drive/MyDrive/AI FINAL/test/PNEUMONIA/person119_bacteria_567.jpeg\n",
            "Đường dẫn của hình ảnh thỏa mãn: /content/drive/MyDrive/AI FINAL/test/PNEUMONIA/person423_bacteria_1855.jpeg\n",
            "Đường dẫn của hình ảnh thỏa mãn: /content/drive/MyDrive/AI FINAL/test/PNEUMONIA/person20_bacteria_66.jpeg\n",
            "Đường dẫn của hình ảnh thỏa mãn: /content/drive/MyDrive/AI FINAL/test/PNEUMONIA/person881_bacteria_2805.jpeg\n",
            "Đường dẫn của hình ảnh thỏa mãn: /content/drive/MyDrive/AI FINAL/test/PNEUMONIA/person616_bacteria_2487.jpeg\n",
            "Đường dẫn của hình ảnh thỏa mãn: /content/drive/MyDrive/AI FINAL/test/PNEUMONIA/person870_virus_1516.jpeg\n",
            "Đường dẫn của hình ảnh thỏa mãn: /content/drive/MyDrive/AI FINAL/test/PNEUMONIA/person808_bacteria_2716.jpeg\n",
            "Đường dẫn của hình ảnh thỏa mãn: /content/drive/MyDrive/AI FINAL/test/PNEUMONIA/person1470_bacteria_3830.jpeg\n",
            "Đường dẫn của hình ảnh thỏa mãn: /content/drive/MyDrive/AI FINAL/test/PNEUMONIA/person351_bacteria_1619.jpeg\n",
            "Đường dẫn của hình ảnh thỏa mãn: /content/drive/MyDrive/AI FINAL/test/PNEUMONIA/person1150_bacteria_3095.jpeg\n",
            "Đường dẫn của hình ảnh thỏa mãn: /content/drive/MyDrive/AI FINAL/test/PNEUMONIA/person1176_virus_1996.jpeg\n",
            "Đường dẫn của hình ảnh thỏa mãn: /content/drive/MyDrive/AI FINAL/test/PNEUMONIA/person596_bacteria_2446.jpeg\n",
            "Đường dẫn của hình ảnh thỏa mãn: /content/drive/MyDrive/AI FINAL/test/PNEUMONIA/person1619_bacteria_4262.jpeg\n",
            "Đường dẫn của hình ảnh thỏa mãn: /content/drive/MyDrive/AI FINAL/test/PNEUMONIA/person24_bacteria_110.jpeg\n",
            "Đường dẫn của hình ảnh thỏa mãn: /content/drive/MyDrive/AI FINAL/test/PNEUMONIA/person321_bacteria_1483.jpeg\n",
            "Đường dẫn của hình ảnh thỏa mãn: /content/drive/MyDrive/AI FINAL/test/PNEUMONIA/person895_bacteria_2820.jpeg\n",
            "Đường dẫn của hình ảnh thỏa mãn: /content/drive/MyDrive/AI FINAL/test/PNEUMONIA/person594_virus_1145.jpeg\n",
            "Đường dẫn của hình ảnh thỏa mãn: /content/drive/MyDrive/AI FINAL/test/PNEUMONIA/person1451_virus_2479.jpeg\n",
            "Đường dẫn của hình ảnh thỏa mãn: /content/drive/MyDrive/AI FINAL/test/PNEUMONIA/person337_bacteria_1562.jpeg\n",
            "Đường dẫn của hình ảnh thỏa mãn: /content/drive/MyDrive/AI FINAL/test/PNEUMONIA/person478_virus_975.jpeg\n",
            "Đường dẫn của hình ảnh thỏa mãn: /content/drive/MyDrive/AI FINAL/test/PNEUMONIA/person264_bacteria_1233.jpeg\n",
            "Đường dẫn của hình ảnh thỏa mãn: /content/drive/MyDrive/AI FINAL/test/PNEUMONIA/person830_virus_1466.jpeg\n",
            "Đường dẫn của hình ảnh thỏa mãn: /content/drive/MyDrive/AI FINAL/test/PNEUMONIA/person396_bacteria_1796.jpeg\n",
            "Đường dẫn của hình ảnh thỏa mãn: /content/drive/MyDrive/AI FINAL/test/PNEUMONIA/person1520_bacteria_3971.jpeg\n",
            "Đường dẫn của hình ảnh thỏa mãn: /content/drive/MyDrive/AI FINAL/test/PNEUMONIA/person1476_bacteria_3843.jpeg\n",
            "Đường dẫn của hình ảnh thỏa mãn: /content/drive/MyDrive/AI FINAL/test/PNEUMONIA/person949_bacteria_2874.jpeg\n",
            "Đường dẫn của hình ảnh thỏa mãn: /content/drive/MyDrive/AI FINAL/test/PNEUMONIA/person710_bacteria_2611.jpeg\n",
            "Đường dẫn của hình ảnh thỏa mãn: /content/drive/MyDrive/AI FINAL/test/PNEUMONIA/person1950_bacteria_4881.jpeg\n",
            "Đường dẫn của hình ảnh thỏa mãn: /content/drive/MyDrive/AI FINAL/test/PNEUMONIA/person639_virus_1220.jpeg\n",
            "Đường dẫn của hình ảnh thỏa mãn: /content/drive/MyDrive/AI FINAL/test/PNEUMONIA/person23_bacteria_81.jpeg\n",
            "Đường dẫn của hình ảnh thỏa mãn: /content/drive/MyDrive/AI FINAL/test/PNEUMONIA/person1482_virus_2572.jpeg\n",
            "Đường dẫn của hình ảnh thỏa mãn: /content/drive/MyDrive/AI FINAL/test/PNEUMONIA/person617_virus_1187.jpeg\n",
            "Đường dẫn của hình ảnh thỏa mãn: /content/drive/MyDrive/AI FINAL/test/PNEUMONIA/person439_bacteria_1895.jpeg\n",
            "Đường dẫn của hình ảnh thỏa mãn: /content/drive/MyDrive/AI FINAL/test/PNEUMONIA/person1177_virus_2001.jpeg\n",
            "Đường dẫn của hình ảnh thỏa mãn: /content/drive/MyDrive/AI FINAL/test/PNEUMONIA/person736_virus_1358.jpeg\n",
            "Đường dẫn của hình ảnh thỏa mãn: /content/drive/MyDrive/AI FINAL/test/PNEUMONIA/person902_bacteria_2827.jpeg\n",
            "Đường dẫn của hình ảnh thỏa mãn: /content/drive/MyDrive/AI FINAL/test/PNEUMONIA/person1385_virus_2380.jpeg\n",
            "Đường dẫn của hình ảnh thỏa mãn: /content/drive/MyDrive/AI FINAL/test/PNEUMONIA/person1316_virus_2271.jpeg\n",
            "Đường dẫn của hình ảnh thỏa mãn: /content/drive/MyDrive/AI FINAL/test/PNEUMONIA/person277_bacteria_1302.jpeg\n",
            "Đường dẫn của hình ảnh thỏa mãn: /content/drive/MyDrive/AI FINAL/test/PNEUMONIA/person1007_virus_1690.jpeg\n",
            "Đường dẫn của hình ảnh thỏa mãn: /content/drive/MyDrive/AI FINAL/test/PNEUMONIA/person124_bacteria_589.jpeg\n",
            "Đường dẫn của hình ảnh thỏa mãn: /content/drive/MyDrive/AI FINAL/test/PNEUMONIA/person108_virus_200.jpeg\n",
            "Đường dẫn của hình ảnh thỏa mãn: /content/drive/MyDrive/AI FINAL/test/PNEUMONIA/person307_bacteria_1442.jpeg\n",
            "Đường dẫn của hình ảnh thỏa mãn: /content/drive/MyDrive/AI FINAL/test/PNEUMONIA/person490_bacteria_2069.jpeg\n",
            "Đường dẫn của hình ảnh thỏa mãn: /content/drive/MyDrive/AI FINAL/test/PNEUMONIA/person1103_bacteria_3044.jpeg\n",
            "Đường dẫn của hình ảnh thỏa mãn: /content/drive/MyDrive/AI FINAL/test/PNEUMONIA/person853_bacteria_2774.jpeg\n",
            "Đường dẫn của hình ảnh thỏa mãn: /content/drive/MyDrive/AI FINAL/test/PNEUMONIA/person560_bacteria_2330.jpeg\n",
            "Đường dẫn của hình ảnh thỏa mãn: /content/drive/MyDrive/AI FINAL/test/PNEUMONIA/person143_bacteria_687.jpeg\n",
            "Đường dẫn của hình ảnh thỏa mãn: /content/drive/MyDrive/AI FINAL/test/PNEUMONIA/person647_virus_1228.jpeg\n",
            "Đường dẫn của hình ảnh thỏa mãn: /content/drive/MyDrive/AI FINAL/test/PNEUMONIA/person531_bacteria_2242.jpeg\n",
            "Đường dẫn của hình ảnh thỏa mãn: /content/drive/MyDrive/AI FINAL/test/PNEUMONIA/person1162_virus_1949.jpeg\n",
            "Đường dẫn của hình ảnh thỏa mãn: /content/drive/MyDrive/AI FINAL/test/PNEUMONIA/person911_virus_1567.jpeg\n",
            "Đường dẫn của hình ảnh thỏa mãn: /content/drive/MyDrive/AI FINAL/test/PNEUMONIA/person20_bacteria_70.jpeg\n",
            "Đường dẫn của hình ảnh thỏa mãn: /content/drive/MyDrive/AI FINAL/test/PNEUMONIA/person955_virus_1627.jpeg\n",
            "Đường dẫn của hình ảnh thỏa mãn: /content/drive/MyDrive/AI FINAL/test/PNEUMONIA/person351_virus_726.jpeg\n",
            "Đường dẫn của hình ảnh thỏa mãn: /content/drive/MyDrive/AI FINAL/test/PNEUMONIA/person57_virus_113.jpeg\n",
            "Đường dẫn của hình ảnh thỏa mãn: /content/drive/MyDrive/AI FINAL/test/PNEUMONIA/person101_virus_187.jpeg\n",
            "Đường dẫn của hình ảnh thỏa mãn: /content/drive/MyDrive/AI FINAL/test/PNEUMONIA/person1496_bacteria_3908.jpeg\n",
            "Đường dẫn của hình ảnh thỏa mãn: /content/drive/MyDrive/AI FINAL/test/PNEUMONIA/person1702_bacteria_4509.jpeg\n",
            "Đường dẫn của hình ảnh thỏa mãn: /content/drive/MyDrive/AI FINAL/test/PNEUMONIA/person310_bacteria_1450.jpeg\n",
            "Đường dẫn của hình ảnh thỏa mãn: /content/drive/MyDrive/AI FINAL/test/PNEUMONIA/person349_bacteria_1606.jpeg\n",
            "Đường dẫn của hình ảnh thỏa mãn: /content/drive/MyDrive/AI FINAL/test/PNEUMONIA/person1118_bacteria_3059.jpeg\n",
            "Đường dẫn của hình ảnh thỏa mãn: /content/drive/MyDrive/AI FINAL/test/PNEUMONIA/person596_bacteria_2447.jpeg\n",
            "Đường dẫn của hình ảnh thỏa mãn: /content/drive/MyDrive/AI FINAL/test/PNEUMONIA/person1544_bacteria_4033.jpeg\n",
            "Đường dẫn của hình ảnh thỏa mãn: /content/drive/MyDrive/AI FINAL/test/PNEUMONIA/person333_bacteria_1540.jpeg\n",
            "Đường dẫn của hình ảnh thỏa mãn: /content/drive/MyDrive/AI FINAL/test/PNEUMONIA/person506_virus_1018.jpeg\n",
            "Đường dẫn của hình ảnh thỏa mãn: /content/drive/MyDrive/AI FINAL/test/PNEUMONIA/person598_bacteria_2454.jpeg\n",
            "Đường dẫn của hình ảnh thỏa mãn: /content/drive/MyDrive/AI FINAL/test/PNEUMONIA/person1924_bacteria_4833.jpeg\n",
            "Đường dẫn của hình ảnh thỏa mãn: /content/drive/MyDrive/AI FINAL/test/PNEUMONIA/person465_bacteria_1981.jpeg\n",
            "Đường dẫn của hình ảnh thỏa mãn: /content/drive/MyDrive/AI FINAL/test/PNEUMONIA/person1626_bacteria_4291.jpeg\n",
            "Đường dẫn của hình ảnh thỏa mãn: /content/drive/MyDrive/AI FINAL/test/PNEUMONIA/person935_virus_1597.jpeg\n",
            "Đường dẫn của hình ảnh thỏa mãn: /content/drive/MyDrive/AI FINAL/test/PNEUMONIA/person535_virus_1062.jpeg\n",
            "Đường dẫn của hình ảnh thỏa mãn: /content/drive/MyDrive/AI FINAL/test/NORMAL/NORMAL2-IM-0117-0001.jpeg\n",
            "Đường dẫn của hình ảnh thỏa mãn: /content/drive/MyDrive/AI FINAL/test/NORMAL/NORMAL2-IM-0331-0001.jpeg\n",
            "Đường dẫn của hình ảnh thỏa mãn: /content/drive/MyDrive/AI FINAL/test/NORMAL/IM-0075-0001.jpeg\n",
            "Đường dẫn của hình ảnh thỏa mãn: /content/drive/MyDrive/AI FINAL/test/NORMAL/NORMAL2-IM-0962-0001.jpeg\n",
            "Đường dẫn của hình ảnh thỏa mãn: /content/drive/MyDrive/AI FINAL/test/NORMAL/NORMAL2-IM-0232-0001.jpeg\n",
            "Đường dẫn của hình ảnh thỏa mãn: /content/drive/MyDrive/AI FINAL/test/NORMAL/IM-0687-0001.jpeg\n",
            "Đường dẫn của hình ảnh thỏa mãn: /content/drive/MyDrive/AI FINAL/test/NORMAL/NORMAL2-IM-1005-0001.jpeg\n",
            "Đường dẫn của hình ảnh thỏa mãn: /content/drive/MyDrive/AI FINAL/test/NORMAL/IM-0265-0001.jpeg\n",
            "Đường dẫn của hình ảnh thỏa mãn: /content/drive/MyDrive/AI FINAL/test/NORMAL/NORMAL2-IM-0659-0001.jpeg\n",
            "Đường dẫn của hình ảnh thỏa mãn: /content/drive/MyDrive/AI FINAL/test/NORMAL/NORMAL2-IM-0718-0001.jpeg\n",
            "Đường dẫn của hình ảnh thỏa mãn: /content/drive/MyDrive/AI FINAL/test/NORMAL/NORMAL2-IM-1400-0001.jpeg\n",
            "Đường dẫn của hình ảnh thỏa mãn: /content/drive/MyDrive/AI FINAL/test/NORMAL/IM-0520-0001.jpeg\n",
            "Đường dẫn của hình ảnh thỏa mãn: /content/drive/MyDrive/AI FINAL/test/NORMAL/IM-0071-0001.jpeg\n",
            "Đường dẫn của hình ảnh thỏa mãn: /content/drive/MyDrive/AI FINAL/test/NORMAL/IM-0555-0001-0002.jpeg\n",
            "Đường dẫn của hình ảnh thỏa mãn: /content/drive/MyDrive/AI FINAL/test/NORMAL/NORMAL2-IM-1147-0001.jpeg\n",
            "Đường dẫn của hình ảnh thỏa mãn: /content/drive/MyDrive/AI FINAL/test/NORMAL/NORMAL2-IM-0347-0001.jpeg\n",
            "Đường dẫn của hình ảnh thỏa mãn: /content/drive/MyDrive/AI FINAL/test/NORMAL/NORMAL2-IM-0856-0001.jpeg\n",
            "Đường dẫn của hình ảnh thỏa mãn: /content/drive/MyDrive/AI FINAL/test/NORMAL/NORMAL2-IM-0872-0001.jpeg\n",
            "Đường dẫn của hình ảnh thỏa mãn: /content/drive/MyDrive/AI FINAL/test/NORMAL/NORMAL2-IM-0322-0001.jpeg\n",
            "Đường dẫn của hình ảnh thỏa mãn: /content/drive/MyDrive/AI FINAL/test/NORMAL/NORMAL2-IM-0336-0001.jpeg\n"
          ]
        }
      ]
    },
    {
      "cell_type": "code",
      "source": [],
      "metadata": {
        "id": "GT7khIsLdgh5"
      },
      "execution_count": null,
      "outputs": []
    }
  ],
  "metadata": {
    "colab": {
      "provenance": [],
      "include_colab_link": true
    },
    "kernelspec": {
      "display_name": "Python 3",
      "name": "python3"
    },
    "language_info": {
      "name": "python"
    }
  },
  "nbformat": 4,
  "nbformat_minor": 0
}