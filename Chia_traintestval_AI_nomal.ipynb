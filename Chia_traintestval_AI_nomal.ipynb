{
  "nbformat": 4,
  "nbformat_minor": 0,
  "metadata": {
    "colab": {
      "provenance": [],
      "gpuType": "T4",
      "authorship_tag": "ABX9TyNzOpgj4HGPTMMDnsnLRkUi",
      "include_colab_link": true
    },
    "kernelspec": {
      "name": "python3",
      "display_name": "Python 3"
    },
    "language_info": {
      "name": "python"
    },
    "accelerator": "GPU"
  },
  "cells": [
    {
      "cell_type": "markdown",
      "metadata": {
        "id": "view-in-github",
        "colab_type": "text"
      },
      "source": [
        "<a href=\"https://colab.research.google.com/github/andoanminhkhanh/trituenhantao/blob/main/Chia_traintestval_AI_nomal.ipynb\" target=\"_parent\"><img src=\"https://colab.research.google.com/assets/colab-badge.svg\" alt=\"Open In Colab\"/></a>"
      ]
    },
    {
      "cell_type": "code",
      "execution_count": 1,
      "metadata": {
        "id": "MCxcvtIzfFfn",
        "colab": {
          "base_uri": "https://localhost:8080/"
        },
        "outputId": "2c7ec179-944e-4f82-c2d1-82e390a580a4"
      },
      "outputs": [
        {
          "output_type": "stream",
          "name": "stdout",
          "text": [
            "Requirement already satisfied: scikit-learn in /usr/local/lib/python3.10/dist-packages (1.2.2)\n",
            "Requirement already satisfied: numpy>=1.17.3 in /usr/local/lib/python3.10/dist-packages (from scikit-learn) (1.25.2)\n",
            "Requirement already satisfied: scipy>=1.3.2 in /usr/local/lib/python3.10/dist-packages (from scikit-learn) (1.11.4)\n",
            "Requirement already satisfied: joblib>=1.1.1 in /usr/local/lib/python3.10/dist-packages (from scikit-learn) (1.4.2)\n",
            "Requirement already satisfied: threadpoolctl>=2.0.0 in /usr/local/lib/python3.10/dist-packages (from scikit-learn) (3.5.0)\n"
          ]
        }
      ],
      "source": [
        "!pip install scikit-learn"
      ]
    },
    {
      "cell_type": "code",
      "source": [
        "from google.colab import drive\n",
        "drive.mount('/content/drive')"
      ],
      "metadata": {
        "colab": {
          "base_uri": "https://localhost:8080/"
        },
        "id": "vfPRbes0gHLa",
        "outputId": "d0223df4-16da-48f5-be36-4b0340809a3a"
      },
      "execution_count": 2,
      "outputs": [
        {
          "output_type": "stream",
          "name": "stdout",
          "text": [
            "Mounted at /content/drive\n"
          ]
        }
      ]
    },
    {
      "cell_type": "code",
      "source": [
        "from imutils import paths\n",
        "\n",
        "img1 = list(paths.list_images(\"/content/drive/MyDrive/AI/NORMAL\"))\n",
        "print(f\"Number of training images 1: {len(img1)}\")"
      ],
      "metadata": {
        "id": "_Sgwh_tDe8kW",
        "outputId": "99e77003-9176-4ede-d0ce-7d73d0ced7dd",
        "colab": {
          "base_uri": "https://localhost:8080/"
        }
      },
      "execution_count": 4,
      "outputs": [
        {
          "output_type": "stream",
          "name": "stdout",
          "text": [
            "Number of training images 1: 1623\n"
          ]
        }
      ]
    },
    {
      "cell_type": "code",
      "source": [
        "import os\n",
        "import shutil\n",
        "from sklearn.model_selection import train_test_split\n",
        "\n",
        "# Đường dẫn đến thư mục chứa tập dữ liệu hình ảnh trên Google Drive\n",
        "data_dir = \"/content/drive/MyDrive/AI/NORMAL\"\n",
        "\n",
        "# Danh sách các đuôi file hình ảnh\n",
        "image_extensions = [\".jpeg\", \".jpg\", \".png\"]\n",
        "\n",
        "# Danh sách tất cả các file hình ảnh trong thư mục data_dir\n",
        "image_files = [os.path.join(data_dir, f) for f in os.listdir(data_dir) if f.endswith(tuple(image_extensions))]\n",
        "\n",
        "# Chia tập dữ liệu thành train, test và validation với tỉ lệ 70%, 15%, 15%\n",
        "train_images, test_val_images = train_test_split(image_files, test_size=0.3, random_state=42)\n",
        "test_images, val_images = train_test_split(test_val_images, test_size=0.5, random_state=42)\n",
        "\n",
        "# Đường dẫn đến thư mục mới cho các tập train, test và validation\n",
        "new_data_dir = \"/content/drive/MyDrive/AI/NORMAL_chia\"\n",
        "new_train_dir = os.path.join(new_data_dir, \"train\")\n",
        "new_test_dir = os.path.join(new_data_dir, \"test\")\n",
        "new_val_dir = os.path.join(new_data_dir, \"val\")\n",
        "for dir_path in [new_train_dir, new_test_dir, new_val_dir]:\n",
        "    if not os.path.exists(dir_path):\n",
        "        os.makedirs(dir_path)\n",
        "\n",
        "# Sao chép các tệp từ các tập train, test và validation vào các thư mục mới\n",
        "def copy_to_new_directory(images, destination_dir):\n",
        "    for img in images:\n",
        "        shutil.copy(img, destination_dir)  # Sao chép tệp vào thư mục đích\n",
        "\n",
        "copy_to_new_directory(train_images, new_train_dir)\n",
        "copy_to_new_directory(test_images, new_test_dir)\n",
        "copy_to_new_directory(val_images, new_val_dir)\n",
        "\n",
        "print(\"Đã sao chép thành công các tệp train, test và validation vào thư mục mới trên Google Drive.\")\n"
      ],
      "metadata": {
        "colab": {
          "base_uri": "https://localhost:8080/"
        },
        "id": "pFB6eRBuyU5k",
        "outputId": "cfb5be6b-3d04-4b62-a5f1-ee1414343134"
      },
      "execution_count": 5,
      "outputs": [
        {
          "output_type": "stream",
          "name": "stdout",
          "text": [
            "Đã sao chép thành công các tệp train, test và validation vào thư mục mới trên Google Drive.\n"
          ]
        }
      ]
    },
    {
      "cell_type": "code",
      "source": [
        "img2 = list(paths.list_images(\"/content/drive/MyDrive/AI/NORMAL_chia/train\"))\n",
        "print(f\"Number of training images 1: {len(img2)}\")"
      ],
      "metadata": {
        "id": "4j-zZmt-f27S",
        "outputId": "e042e488-3ce8-44ed-8ff9-288f1f853b7d",
        "colab": {
          "base_uri": "https://localhost:8080/"
        }
      },
      "execution_count": 13,
      "outputs": [
        {
          "output_type": "stream",
          "name": "stdout",
          "text": [
            "Number of training images 1: 1136\n"
          ]
        }
      ]
    },
    {
      "cell_type": "code",
      "source": [
        "img3 = list(paths.list_images(\"/content/drive/MyDrive/AI/NORMAL_chia/test\"))\n",
        "print(f\"Number of training images 1: {len(img3)}\")"
      ],
      "metadata": {
        "id": "WDmDMsNzf3IU",
        "outputId": "fecbdc68-b3d6-41c5-8770-8b64defcc216",
        "colab": {
          "base_uri": "https://localhost:8080/"
        }
      },
      "execution_count": 14,
      "outputs": [
        {
          "output_type": "stream",
          "name": "stdout",
          "text": [
            "Number of training images 1: 243\n"
          ]
        }
      ]
    },
    {
      "cell_type": "code",
      "source": [
        "img4 = list(paths.list_images(\"/content/drive/MyDrive/AI/NORMAL_chia/val\"))\n",
        "print(f\"Number of training images 1: {len(img4)}\")"
      ],
      "metadata": {
        "id": "YPsPnIVAf4ku",
        "outputId": "431069d0-6560-47a8-9051-24220581b768",
        "colab": {
          "base_uri": "https://localhost:8080/"
        }
      },
      "execution_count": 15,
      "outputs": [
        {
          "output_type": "stream",
          "name": "stdout",
          "text": [
            "Number of training images 1: 244\n"
          ]
        }
      ]
    }
  ]
}