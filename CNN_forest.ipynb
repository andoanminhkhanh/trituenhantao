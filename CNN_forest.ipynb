{
  "cells": [
    {
      "cell_type": "markdown",
      "metadata": {
        "id": "view-in-github",
        "colab_type": "text"
      },
      "source": [
        "<a href=\"https://colab.research.google.com/github/andoanminhkhanh/trituenhantao/blob/main/CNN_forest.ipynb\" target=\"_parent\"><img src=\"https://colab.research.google.com/assets/colab-badge.svg\" alt=\"Open In Colab\"/></a>"
      ]
    },
    {
      "cell_type": "markdown",
      "metadata": {
        "id": "d47GLlfFlctr"
      },
      "source": [
        "**Khai báo thư viện**"
      ]
    },
    {
      "cell_type": "code",
      "source": [
        "from google.colab import drive\n",
        "drive.mount('/content/drive')"
      ],
      "metadata": {
        "colab": {
          "base_uri": "https://localhost:8080/"
        },
        "id": "pS8tCXLxarRu",
        "outputId": "0a4e211e-0220-4d7c-dc48-c4df8c717891"
      },
      "execution_count": 1,
      "outputs": [
        {
          "output_type": "stream",
          "name": "stdout",
          "text": [
            "Mounted at /content/drive\n"
          ]
        }
      ]
    },
    {
      "cell_type": "code",
      "execution_count": 2,
      "metadata": {
        "id": "M8qb9s3Fk9O7"
      },
      "outputs": [],
      "source": [
        "from keras.preprocessing.image import ImageDataGenerator\n",
        "from tensorflow.keras.layers import AveragePooling2D\n",
        "from keras.applications import ResNet50\n",
        "from tensorflow.keras.layers import Flatten,Dense,Dropout\n",
        "from keras.layers import Input\n",
        "from keras.models import Model\n",
        "from keras.optimizers import SGD\n",
        "from sklearn.preprocessing import LabelBinarizer\n",
        "from sklearn.model_selection import train_test_split\n",
        "from sklearn.metrics import classification_report\n",
        "from imutils import paths\n",
        "import matplotlib.pyplot as plt\n",
        "import numpy as np\n",
        "import argparse\n",
        "import pickle\n",
        "import cv2\n",
        "import os"
      ]
    },
    {
      "cell_type": "markdown",
      "source": [
        "##**Tiền xử lý dữ liệu**"
      ],
      "metadata": {
        "id": "MWHgeSh_whwJ"
      }
    },
    {
      "cell_type": "code",
      "source": [
        "from imutils import paths\n",
        "imgTrain = list(paths.list_images(\"/content/drive/MyDrive/Năm 3/AI/train\"))\n",
        "imgTest = list(paths.list_images(\"/content/drive/MyDrive/Năm 3/AI/test\"))"
      ],
      "metadata": {
        "id": "7pVzT8Utwr1i"
      },
      "execution_count": 3,
      "outputs": []
    },
    {
      "cell_type": "code",
      "source": [
        "X_train = []\n",
        "y_train = []"
      ],
      "metadata": {
        "id": "i9WSn0b85VPD"
      },
      "execution_count": 4,
      "outputs": []
    },
    {
      "cell_type": "code",
      "source": [
        "print(f\"Number of training images: {len(imgTrain)}\")\n",
        "print(f\"Number of testing images: {len(imgTest)}\")"
      ],
      "metadata": {
        "id": "gJdTgMSpCZ5i",
        "outputId": "af8e0b79-3da9-45d0-d177-a4df9e7b1f5f",
        "colab": {
          "base_uri": "https://localhost:8080/"
        }
      },
      "execution_count": 5,
      "outputs": [
        {
          "output_type": "stream",
          "name": "stdout",
          "text": [
            "Number of training images: 5232\n",
            "Number of testing images: 624\n"
          ]
        }
      ]
    },
    {
      "cell_type": "code",
      "source": [
        "for path_train in imgTrain:\n",
        "\n",
        "\tY_train = path_train.split(os.path.sep)[-2]\n",
        "\n",
        "\t# Xu ly anh\n",
        "\timg = cv2.imread(path_train)\n",
        "\timg = cv2.cvtColor(img, cv2.COLOR_BGR2RGB)\n",
        "\timg = cv2.resize(img, (150, 150))\n",
        "\n",
        "\t# Them vao du lieu data va label\n",
        "\tX_train.append(img)\n",
        "\ty_train.append(Y_train)"
      ],
      "metadata": {
        "id": "kb4rzKiuxKaj"
      },
      "execution_count": 6,
      "outputs": []
    },
    {
      "cell_type": "code",
      "source": [
        "from sklearn.preprocessing import LabelBinarizer\n",
        "\n",
        "X_train = np.array(X_train)\n",
        "y_train = np.array(y_train)\n",
        "lb = LabelBinarizer()\n",
        "if y_train.size > 0:\n",
        "    y_train = lb.fit_transform(y_train)\n",
        "else:\n",
        "    print(\"y_train is empty. Check your data loading process.\")\n",
        "#y_train = lb.fit_transform(y_train)\n",
        "#X_train = X_train.astype('float32') / 255"
      ],
      "metadata": {
        "id": "idOSMrLE7838"
      },
      "execution_count": 7,
      "outputs": []
    },
    {
      "cell_type": "code",
      "source": [
        "y_train = lb.fit_transform(y_train)\n",
        "X_train = X_train.astype('float32') / 255"
      ],
      "metadata": {
        "id": "RELR6ADnD82s"
      },
      "execution_count": 8,
      "outputs": []
    },
    {
      "cell_type": "markdown",
      "source": [
        "**TEST**"
      ],
      "metadata": {
        "id": "SekGmkCQ-9M0"
      }
    },
    {
      "cell_type": "code",
      "source": [
        "X_test = []\n",
        "y_test = []"
      ],
      "metadata": {
        "id": "HTPqqzie5Wr4"
      },
      "execution_count": 9,
      "outputs": []
    },
    {
      "cell_type": "code",
      "source": [
        "for path_test in imgTest:\n",
        "\n",
        "\tY_test = path_test.split(os.path.sep)[-2]\n",
        "\n",
        "\t# Xu ly anh\n",
        "\timg1 = cv2.imread(path_test)\n",
        "\timg1 = cv2.cvtColor(img1, cv2.COLOR_BGR2RGB)\n",
        "\timg1 = cv2.resize(img1, (150, 150))\n",
        "\n",
        "\t# Them vao du lieu data va label\n",
        "\tX_test.append(img1)\n",
        "\ty_test.append(Y_test)"
      ],
      "metadata": {
        "id": "Q3nmwFbl5VqY"
      },
      "execution_count": 10,
      "outputs": []
    },
    {
      "cell_type": "code",
      "source": [
        "X_test = np.array(X_test)\n",
        "y_test = np.array(y_test)"
      ],
      "metadata": {
        "id": "PXHSWhwa8Tf4"
      },
      "execution_count": 11,
      "outputs": []
    },
    {
      "cell_type": "code",
      "source": [
        "lb = LabelBinarizer()\n",
        "if y_test.size > 0:\n",
        "    y_test = lb.fit_transform(y_train)\n",
        "else:\n",
        "    print(\"y_test is empty. Check your data loading process.\")\n",
        "#y_test = lb.fit_transform(y_test)\n",
        "#X_test = X_test.astype('float32') / 255"
      ],
      "metadata": {
        "id": "zcvNPdVZUPuW"
      },
      "execution_count": 12,
      "outputs": []
    },
    {
      "cell_type": "markdown",
      "metadata": {
        "id": "R3-mQy2fypYk"
      },
      "source": [
        "##**XÂY DỰNG MÔ HÌNH**"
      ]
    },
    {
      "cell_type": "code",
      "source": [
        "import tensorflow as tf"
      ],
      "metadata": {
        "id": "pXIV8-kLU8j2"
      },
      "execution_count": 13,
      "outputs": []
    },
    {
      "cell_type": "code",
      "source": [
        "model = tf.keras.Sequential([\n",
        "    tf.keras.layers.Conv2D(32, (3, 3), activation = 'relu', input_shape = (150, 150, 3)), # Lớp tích chập 2D, 32 bộ lọc kích thước 3 x 3, hàm kích hoạt là ReLU\n",
        "                                                                                          # kích thước ảnh đầu vào 150x150 với 3 kênh màu\n",
        "    tf.keras.layers.MaxPooling2D(2,2), # Lớp MaxPooling 2D kích thước 2x2 dùng để giảm kích thước và số lượng đặc trưng thông qua lấy giá trị lớn nhất trong mỗi vùng pool.\n",
        "    tf.keras.layers.Conv2D(32, (3, 3), activation = 'relu'), # Lớp tích chập với 32 filter kích thước 3x3 và 32 bộ lọc\n",
        "    tf.keras.layers.MaxPooling2D(2,2), # Lớp MaxPooling 2D\n",
        "    tf.keras.layers.Flatten(), # chuyển đổi đầu ra từ tensor nhiều chiều thành một vector 1D.\n",
        "    tf.keras.layers.Dense(128, activation = tf.nn.relu), # Lớp kết nối đầy đủ với 128 đơn vị và hàm kích hoạt là ReLU\n",
        "    tf.keras.layers.Dense(2, activation = tf.nn.softmax) # phân loại đối tượng vào 2 lớp khác nhau, hàm softmax để tạo phân phối xác suất trên các lớp\n",
        "])"
      ],
      "metadata": {
        "id": "3Nx0EYEV9XNp"
      },
      "execution_count": 14,
      "outputs": []
    },
    {
      "cell_type": "code",
      "source": [
        "model.compile(optimizer = 'adam', # phương pháp tối ưu hóa Adam\n",
        "                     loss = 'sparse_categorical_crossentropy', # hàm mất mát đo sự khác biệt giữa đầu ra dự đoán và nhãn thực tế;\n",
        "                     # sparse categorical cross-entropy thích hợp khi nhãn đầu vào không được mã hóa theo one-hot encoding, mà là các giá trị số nguyên\n",
        "                     metrics = ['accuracy']) # các độ đo để đánh giá hiệu suất của mô hình. Độ chính xác ('accuracy') là tỷ lệ giữa số dự đoán đúng và tổng số mẫu"
      ],
      "metadata": {
        "id": "xPfYvZB5b2wr"
      },
      "execution_count": 15,
      "outputs": []
    },
    {
      "cell_type": "code",
      "execution_count": 16,
      "metadata": {
        "id": "-_fga1K51GLa",
        "colab": {
          "base_uri": "https://localhost:8080/"
        },
        "outputId": "e43de6df-26f7-43a5-95c8-29e37eafc16f"
      },
      "outputs": [
        {
          "output_type": "stream",
          "name": "stdout",
          "text": [
            "Model: \"sequential\"\n",
            "_________________________________________________________________\n",
            " Layer (type)                Output Shape              Param #   \n",
            "=================================================================\n",
            " conv2d (Conv2D)             (None, 148, 148, 32)      896       \n",
            "                                                                 \n",
            " max_pooling2d (MaxPooling2  (None, 74, 74, 32)        0         \n",
            " D)                                                              \n",
            "                                                                 \n",
            " conv2d_1 (Conv2D)           (None, 72, 72, 32)        9248      \n",
            "                                                                 \n",
            " max_pooling2d_1 (MaxPoolin  (None, 36, 36, 32)        0         \n",
            " g2D)                                                            \n",
            "                                                                 \n",
            " flatten (Flatten)           (None, 41472)             0         \n",
            "                                                                 \n",
            " dense (Dense)               (None, 128)               5308544   \n",
            "                                                                 \n",
            " dense_1 (Dense)             (None, 2)                 258       \n",
            "                                                                 \n",
            "=================================================================\n",
            "Total params: 5318946 (20.29 MB)\n",
            "Trainable params: 5318946 (20.29 MB)\n",
            "Non-trainable params: 0 (0.00 Byte)\n",
            "_________________________________________________________________\n"
          ]
        }
      ],
      "source": [
        "# Kiến trúc mô hình\n",
        "model.summary()"
      ]
    },
    {
      "cell_type": "code",
      "execution_count": 19,
      "metadata": {
        "id": "vTog03lf1KKQ"
      },
      "outputs": [],
      "source": [
        "# Huấn luyện mô hình\n",
        "#epochs3 = 15\n",
        "#history3 = model.fit(\n",
        "  #X_train, y_train,\n",
        "  #validation_data = (X_test, y_test),\n",
        "  #epochs = epochs3,\n",
        "  #batch_size = 32)"
      ]
    },
    {
      "cell_type": "code",
      "execution_count": null,
      "metadata": {
        "id": "DAcuvBBh1lCA"
      },
      "outputs": [],
      "source": [
        "# Đồ thị hàm mất mát\n",
        "loss3 = history3.history['loss']\n",
        "val_loss3 = history3.history['val_loss']\n",
        "epochs = range(1, len(loss3)+1)\n",
        "plt.plot(epochs, loss3, 'b', label = 'Độ mất mát trên tập huấn luyện')\n",
        "plt.plot(epochs, val_loss3, 'r', label = 'Độ mất mát trên tập kiểm thử')\n",
        "plt.title('Đồ thị độ mất mát - Mô hình ResNet')\n",
        "plt.xlabel('Vòng huấn luyện')\n",
        "plt.ylabel('Độ mất mát')\n",
        "plt.legend()\n",
        "plt.show()"
      ]
    },
    {
      "cell_type": "code",
      "execution_count": null,
      "metadata": {
        "id": "fTAMD0sX28MJ"
      },
      "outputs": [],
      "source": [
        "# Đồ thị độ chính xác của mô hình\n",
        "acc3 = history3.history['accuracy']\n",
        "val_acc3 = history3.history['val_accuracy']\n",
        "plt.plot(epochs, acc3, 'b', label = 'Độ chính xác tập huấn luyện')\n",
        "plt.plot(epochs, val_acc3, 'r', label = 'Độ chính xác trên tập kiểm thử')\n",
        "plt.title('Đồ thị độ chính xác - Mô hình ResNet')\n",
        "plt.xlabel('Vòng huấn luyện')\n",
        "plt.ylabel('Độ chính xác')\n",
        "plt.legend()\n",
        "plt.show()"
      ]
    },
    {
      "cell_type": "markdown",
      "source": [
        "**ẢNH XÁM**"
      ],
      "metadata": {
        "id": "yymGRl1GsqeZ"
      }
    },
    {
      "cell_type": "code",
      "source": [
        "X_train_gray = []\n",
        "y_train_gray = []"
      ],
      "metadata": {
        "id": "ImhFb0zZswyR"
      },
      "execution_count": null,
      "outputs": []
    },
    {
      "cell_type": "code",
      "source": [
        "for path_train in imgTrain:\n",
        "\n",
        "\tY_train_gray = path_train.split(os.path.sep)[-2]\n",
        "\n",
        "\t# Xu ly anh\n",
        "\timg_gray = cv2.imread(path_train)\n",
        "\timg_gray = cv2.cvtColor(img_gray, cv2.COLOR_BGR2GRAY)\n",
        "\timg_gray = cv2.resize(img_gray, (150, 150))\n",
        "\n",
        "\t# Them vao du lieu data va label\n",
        "\tX_train_gray.append(img_gray)\n",
        "\ty_train_gray.append(Y_train_gray)"
      ],
      "metadata": {
        "id": "bL3WUMIcs1jv"
      },
      "execution_count": null,
      "outputs": []
    },
    {
      "cell_type": "code",
      "source": [
        "from sklearn.preprocessing import LabelBinarizer\n",
        "lb = LabelBinarizer()\n",
        "\n",
        "X_train_gray = np.array(X_train_gray)\n",
        "y_train_gray = np.array(y_train_gray)\n",
        "\n",
        "y_train_gray = lb.fit_transform(y_train_gray)\n",
        "X_train_gray = X_train_gray.astype('float32') / 255"
      ],
      "metadata": {
        "id": "cjXI82bhvkIY"
      },
      "execution_count": null,
      "outputs": []
    },
    {
      "cell_type": "code",
      "source": [
        "X_test_gray = []\n",
        "y_test_gray = []"
      ],
      "metadata": {
        "id": "mqNRryQvv4vM"
      },
      "execution_count": null,
      "outputs": []
    },
    {
      "cell_type": "code",
      "source": [
        "for path_test in imgTest:\n",
        "\n",
        "\tY_test_gray = path_test.split(os.path.sep)[-2]\n",
        "\n",
        "\t# Xu ly anh\n",
        "\timg1_gray = cv2.imread(path_test)\n",
        "\timg1_gray = cv2.cvtColor(img1_gray, cv2.COLOR_BGR2GRAY)\n",
        "\timg1_gray = cv2.resize(img1_gray, (150, 150))\n",
        "\n",
        "\t# Them vao du lieu data va label\n",
        "\tX_test_gray.append(img1_gray)\n",
        "\ty_test_gray.append(Y_test_gray)"
      ],
      "metadata": {
        "id": "YNKBFofSv8mM"
      },
      "execution_count": null,
      "outputs": []
    },
    {
      "cell_type": "code",
      "source": [
        "X_test_gray = np.array(X_test_gray)\n",
        "y_test_gray = np.array(y_test_gray)\n",
        "y_test_gray = lb.fit_transform(y_test_gray)\n",
        "X_test_gray = X_test_gray.astype('float32') / 255"
      ],
      "metadata": {
        "id": "eg__ZDLExPd1"
      },
      "execution_count": null,
      "outputs": []
    },
    {
      "cell_type": "code",
      "source": [
        "import tensorflow as tf"
      ],
      "metadata": {
        "id": "r51fA_wpgM_i"
      },
      "execution_count": null,
      "outputs": []
    },
    {
      "cell_type": "code",
      "source": [
        "model = tf.keras.Sequential([\n",
        "    tf.keras.layers.Conv2D(32, (3, 3), activation = 'relu', input_shape = (150, 150, 1)), # Lớp tích chập 2D, 32 bộ lọc kích thước 3 x 3, hàm kích hoạt là ReLU\n",
        "                                                                                          # kích thước ảnh đầu vào 150x150 với 3 kênh màu\n",
        "    tf.keras.layers.MaxPooling2D(2,2), # Lớp MaxPooling 2D kích thước 2x2 dùng để giảm kích thước và số lượng đặc trưng thông qua lấy giá trị lớn nhất trong mỗi vùng pool.\n",
        "    tf.keras.layers.Conv2D(32, (3, 3), activation = 'relu'), # Lớp tích chập với 32 filter kích thước 3x3 và 32 bộ lọc\n",
        "    tf.keras.layers.MaxPooling2D(2,2), # Lớp MaxPooling 2D\n",
        "    tf.keras.layers.Flatten(), # chuyển đổi đầu ra từ tensor nhiều chiều thành một vector 1D.\n",
        "    tf.keras.layers.Dense(128, activation = tf.nn.relu), # Lớp kết nối đầy đủ với 128 đơn vị và hàm kích hoạt là ReLU\n",
        "    tf.keras.layers.Dense(2, activation = tf.nn.softmax) # phân loại đối tượng vào 2 lớp khác nhau, hàm softmax để tạo phân phối xác suất trên các lớp\n",
        "])"
      ],
      "metadata": {
        "id": "fgF7TeDswkYY"
      },
      "execution_count": null,
      "outputs": []
    },
    {
      "cell_type": "code",
      "source": [
        "model.compile(optimizer = 'adam', # phương pháp tối ưu hóa Adam\n",
        "                     loss = 'sparse_categorical_crossentropy', # hàm mất mát đo sự khác biệt giữa đầu ra dự đoán và nhãn thực tế;\n",
        "                     # sparse categorical cross-entropy thích hợp khi nhãn đầu vào không được mã hóa theo one-hot encoding, mà là các giá trị số nguyên\n",
        "                     metrics = ['accuracy']) # các độ đo để đánh giá hiệu suất của mô hình. Độ chính xác ('accuracy') là tỷ lệ giữa số dự đoán đúng và tổng số mẫu"
      ],
      "metadata": {
        "id": "PStyy4h_wpnN"
      },
      "execution_count": null,
      "outputs": []
    },
    {
      "cell_type": "code",
      "source": [
        "# Huấn luyện mô hình\n",
        "epochs3 = 15\n",
        "history3 = model.fit(\n",
        "  X_train_gray, y_train_gray,\n",
        "  validation_data = (X_test_gray, y_test_gray),\n",
        "  epochs = epochs3,\n",
        "  batch_size = 32)"
      ],
      "metadata": {
        "id": "y9jdUk74wcXN"
      },
      "execution_count": null,
      "outputs": []
    },
    {
      "cell_type": "code",
      "source": [
        "# Đồ thị hàm mất mát\n",
        "loss3 = history3.history['loss']\n",
        "val_loss3 = history3.history['val_loss']\n",
        "epochs = range(1, len(loss3)+1)\n",
        "plt.plot(epochs, loss3, 'b', label = 'Độ mất mát trên tập huấn luyện')\n",
        "plt.plot(epochs, val_loss3, 'r', label = 'Độ mất mát trên tập kiểm thử')\n",
        "plt.title('Đồ thị độ mất mát - Mô hình ResNet')\n",
        "plt.xlabel('Vòng huấn luyện')\n",
        "plt.ylabel('Độ mất mát')\n",
        "plt.legend()\n",
        "plt.show()"
      ],
      "metadata": {
        "id": "-ElFxJLj5LCP"
      },
      "execution_count": null,
      "outputs": []
    },
    {
      "cell_type": "code",
      "source": [
        "# Đồ thị độ chính xác của mô hình\n",
        "acc3 = history3.history['accuracy']\n",
        "val_acc3 = history3.history['val_accuracy']\n",
        "plt.plot(epochs, acc3, 'b', label = 'Độ chính xác tập huấn luyện')\n",
        "plt.plot(epochs, val_acc3, 'r', label = 'Độ chính xác trên tập kiểm thử')\n",
        "plt.title('Đồ thị độ chính xác - Mô hình ResNet')\n",
        "plt.xlabel('Vòng huấn luyện')\n",
        "plt.ylabel('Độ chính xác')\n",
        "plt.legend()\n",
        "plt.show()"
      ],
      "metadata": {
        "id": "SViUEEy35OQq"
      },
      "execution_count": null,
      "outputs": []
    },
    {
      "cell_type": "code",
      "source": [
        "model.save('/content/drive/MyDrive/NCKH/mô hình/CNN_GRAY.h5')"
      ],
      "metadata": {
        "id": "78wSMAiQmQbg"
      },
      "execution_count": null,
      "outputs": []
    }
  ],
  "metadata": {
    "colab": {
      "provenance": [],
      "include_colab_link": true
    },
    "kernelspec": {
      "display_name": "Python 3",
      "name": "python3"
    },
    "language_info": {
      "name": "python"
    }
  },
  "nbformat": 4,
  "nbformat_minor": 0
}