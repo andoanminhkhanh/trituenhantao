{
  "nbformat": 4,
  "nbformat_minor": 0,
  "metadata": {
    "colab": {
      "provenance": [],
      "authorship_tag": "ABX9TyOh8dMAfLsmDLMY6cWWWzNx",
      "include_colab_link": true
    },
    "kernelspec": {
      "name": "python3",
      "display_name": "Python 3"
    },
    "language_info": {
      "name": "python"
    }
  },
  "cells": [
    {
      "cell_type": "markdown",
      "metadata": {
        "id": "view-in-github",
        "colab_type": "text"
      },
      "source": [
        "<a href=\"https://colab.research.google.com/github/andoanminhkhanh/trituenhantao/blob/main/AI_mobilenet_1.ipynb\" target=\"_parent\"><img src=\"https://colab.research.google.com/assets/colab-badge.svg\" alt=\"Open In Colab\"/></a>"
      ]
    },
    {
      "cell_type": "code",
      "execution_count": 3,
      "metadata": {
        "id": "6O3q28exG61W",
        "colab": {
          "base_uri": "https://localhost:8080/"
        },
        "outputId": "925acd51-e10b-484d-96d8-238d31790cb1"
      },
      "outputs": [
        {
          "output_type": "stream",
          "name": "stdout",
          "text": [
            "Mounted at /content/drive\n"
          ]
        }
      ],
      "source": [
        "from google.colab import drive\n",
        "drive.mount('/content/drive')"
      ]
    },
    {
      "cell_type": "code",
      "source": [
        "from keras.preprocessing.image import ImageDataGenerator\n",
        "from tensorflow.keras.layers import AveragePooling2D\n",
        "from keras.applications import MobileNet\n",
        "from tensorflow.keras.layers import Flatten,Dense,Dropout\n",
        "from keras.layers import Input\n",
        "from keras.models import Model\n",
        "from keras.optimizers import SGD\n",
        "from sklearn.preprocessing import LabelBinarizer\n",
        "from sklearn.model_selection import train_test_split\n",
        "from sklearn.metrics import classification_report\n",
        "from imutils import paths\n",
        "import matplotlib.pyplot as plt\n",
        "import numpy as np\n",
        "import argparse\n",
        "import pickle\n",
        "import cv2\n",
        "import os"
      ],
      "metadata": {
        "id": "-CBL3mlpHvyP"
      },
      "execution_count": 4,
      "outputs": []
    },
    {
      "cell_type": "markdown",
      "source": [
        "Xác định kích thước đầu vào"
      ],
      "metadata": {
        "id": "H_w9E2HhIUpd"
      }
    },
    {
      "cell_type": "code",
      "source": [
        "batch_size = 32 # sử dụng 32 mẫu trong mỗi lần huấn luyện\n",
        "img_height = 150 # chiều cao ảnh\n",
        "img_width = 150 # chiều rộng ảnh"
      ],
      "metadata": {
        "id": "qbRbAUcEISfO"
      },
      "execution_count": 5,
      "outputs": []
    },
    {
      "cell_type": "markdown",
      "source": [
        "Tiền xử lý dữ liệu"
      ],
      "metadata": {
        "id": "7eeuSQ8BIybS"
      }
    },
    {
      "cell_type": "code",
      "source": [
        "from imutils import paths\n",
        "imgTrain = list(paths.list_images(\"/content/drive/MyDrive/AI/data/train\"))\n",
        "imgVal = list(paths.list_images(\"/content/drive/MyDrive/AI/data/val\"))"
      ],
      "metadata": {
        "id": "fboA-xZ3I0on"
      },
      "execution_count": 13,
      "outputs": []
    },
    {
      "cell_type": "code",
      "source": [
        "X_train = []\n",
        "y_train = []"
      ],
      "metadata": {
        "id": "ttI7CY6MJHpl"
      },
      "execution_count": 14,
      "outputs": []
    },
    {
      "cell_type": "code",
      "source": [
        "for path_train in imgTrain:\n",
        "\n",
        "\tY_train = path_train.split(os.path.sep)[-2]\n",
        "\n",
        "\t# Xu ly anh\n",
        "\timg = cv2.imread(path_train)\n",
        "\timg = cv2.cvtColor(img, cv2.COLOR_BGR2RGB)\n",
        "\timg = cv2.resize(img, (150, 150))\n",
        "\n",
        "\t# Them vao du lieu data va label\n",
        "\tX_train.append(img)\n",
        "\ty_train.append(Y_train)"
      ],
      "metadata": {
        "id": "sBAUWn6iJJEc"
      },
      "execution_count": 15,
      "outputs": []
    },
    {
      "cell_type": "code",
      "source": [
        "# Check if any labels were extracted\n",
        "print(\"Number of labels:\", len(y_train))\n",
        "if len(y_train) == 0:\n",
        "    print(\"Warning: No labels were extracted. Check your image paths and label extraction logic.\")"
      ],
      "metadata": {
        "colab": {
          "base_uri": "https://localhost:8080/"
        },
        "id": "EWKhzOR4Ap2q",
        "outputId": "bfeadf8a-01eb-477a-9ec3-e393660351eb"
      },
      "execution_count": 16,
      "outputs": [
        {
          "output_type": "stream",
          "name": "stdout",
          "text": [
            "Number of labels: 2066\n"
          ]
        }
      ]
    },
    {
      "cell_type": "code",
      "source": [
        "from sklearn.preprocessing import LabelBinarizer\n",
        "\n",
        "X_train = np.array(X_train)\n",
        "y_train = np.array(y_train)\n",
        "lb = LabelBinarizer()\n",
        "y_train = lb.fit_transform(y_train)\n",
        "X_train = X_train.astype('float32') / 255"
      ],
      "metadata": {
        "id": "gplFIq7tJMxA"
      },
      "execution_count": 17,
      "outputs": []
    },
    {
      "cell_type": "markdown",
      "source": [
        "TEST"
      ],
      "metadata": {
        "id": "JCGhOb0kJSor"
      }
    },
    {
      "cell_type": "code",
      "source": [
        "X_val = []\n",
        "y_val = []"
      ],
      "metadata": {
        "id": "hYhitgWpJQJj"
      },
      "execution_count": 18,
      "outputs": []
    },
    {
      "cell_type": "code",
      "source": [
        "for path_test in imgVal:\n",
        "\n",
        "\tY_test = path_test.split(os.path.sep)[-2]\n",
        "\n",
        "\t# Xu ly anh\n",
        "\timg1 = cv2.imread(path_test)\n",
        "\timg1 = cv2.cvtColor(img1, cv2.COLOR_BGR2RGB)\n",
        "\timg1 = cv2.resize(img1, (150, 150))\n",
        "\n",
        "\t# Them vao du lieu data va label\n",
        "\tX_val.append(img1)\n",
        "\ty_val.append(Y_test)"
      ],
      "metadata": {
        "id": "6Jh8wL9CJXKH"
      },
      "execution_count": 19,
      "outputs": []
    },
    {
      "cell_type": "code",
      "source": [
        "X_val = np.array(X_val)\n",
        "y_val = np.array(y_val)\n",
        "y_val = lb.fit_transform(y_val)\n",
        "X_val = X_val.astype('float32') / 255"
      ],
      "metadata": {
        "id": "0q8S8w9MJZt6"
      },
      "execution_count": 20,
      "outputs": []
    },
    {
      "cell_type": "markdown",
      "source": [
        "Xây dựng mô hình"
      ],
      "metadata": {
        "id": "4jmnXIVsJrOn"
      }
    },
    {
      "cell_type": "code",
      "source": [
        "baseModel = MobileNet(weights=\"imagenet\", include_top=False, input_tensor=Input(shape=(150, 150, 3)))\n",
        "headModel = baseModel.output\n",
        "headModel = AveragePooling2D(pool_size=(2, 2))(headModel)\n",
        "headModel = Flatten(name=\"flatten\")(headModel)\n",
        "headModel = Dense(512, activation=\"relu\")(headModel)\n",
        "headModel = Dropout(0.5)(headModel)\n",
        "headModel = Dense(len(lb.classes_), activation=\"softmax\")(headModel)\n",
        "model = Model(inputs=baseModel.input, outputs=headModel)"
      ],
      "metadata": {
        "colab": {
          "base_uri": "https://localhost:8080/"
        },
        "id": "GBlbNfVwJc66",
        "outputId": "ed014a19-3551-40bd-b528-9debeb8adb8e"
      },
      "execution_count": 21,
      "outputs": [
        {
          "output_type": "stream",
          "name": "stderr",
          "text": [
            "WARNING:tensorflow:`input_shape` is undefined or non-square, or `rows` is not in [128, 160, 192, 224]. Weights for input shape (224, 224) will be loaded as the default.\n"
          ]
        },
        {
          "output_type": "stream",
          "name": "stdout",
          "text": [
            "Downloading data from https://storage.googleapis.com/tensorflow/keras-applications/mobilenet/mobilenet_1_0_224_tf_no_top.h5\n",
            "17225924/17225924 [==============================] - 0s 0us/step\n"
          ]
        }
      ]
    },
    {
      "cell_type": "code",
      "source": [
        "for layer in baseModel.layers:\n",
        "\tlayer.trainable = False"
      ],
      "metadata": {
        "id": "ZFlefSJvJwXj"
      },
      "execution_count": 22,
      "outputs": []
    },
    {
      "cell_type": "code",
      "source": [
        "model.compile(optimizer = 'adam', # phương pháp tối ưu hóa Adam\n",
        "                     loss = 'sparse_categorical_crossentropy', # hàm mất mát đo sự khác biệt giữa đầu ra dự đoán và nhãn thực tế;\n",
        "                     # sparse categorical cross-entropy thích hợp khi nhãn đầu vào không được mã hóa theo one-hot encoding, mà là các giá trị số nguyên\n",
        "                     metrics = ['accuracy']) # các độ đo để đánh giá hiệu suất của mô hình. Độ chính xác ('accuracy') là tỷ lệ giữa số dự đoán đúng và tổng số mẫu"
      ],
      "metadata": {
        "id": "EkV0UCkOJy9X"
      },
      "execution_count": 23,
      "outputs": []
    },
    {
      "cell_type": "code",
      "source": [
        "# Kiến trúc mô hình\n",
        "model.summary()"
      ],
      "metadata": {
        "colab": {
          "base_uri": "https://localhost:8080/"
        },
        "id": "fmpxseooJ2x7",
        "outputId": "9b9d9c94-8a85-4138-ae73-877dee4852cd"
      },
      "execution_count": 24,
      "outputs": [
        {
          "output_type": "stream",
          "name": "stdout",
          "text": [
            "Model: \"model\"\n",
            "_________________________________________________________________\n",
            " Layer (type)                Output Shape              Param #   \n",
            "=================================================================\n",
            " input_1 (InputLayer)        [(None, 150, 150, 3)]     0         \n",
            "                                                                 \n",
            " conv1 (Conv2D)              (None, 75, 75, 32)        864       \n",
            "                                                                 \n",
            " conv1_bn (BatchNormalizati  (None, 75, 75, 32)        128       \n",
            " on)                                                             \n",
            "                                                                 \n",
            " conv1_relu (ReLU)           (None, 75, 75, 32)        0         \n",
            "                                                                 \n",
            " conv_dw_1 (DepthwiseConv2D  (None, 75, 75, 32)        288       \n",
            " )                                                               \n",
            "                                                                 \n",
            " conv_dw_1_bn (BatchNormali  (None, 75, 75, 32)        128       \n",
            " zation)                                                         \n",
            "                                                                 \n",
            " conv_dw_1_relu (ReLU)       (None, 75, 75, 32)        0         \n",
            "                                                                 \n",
            " conv_pw_1 (Conv2D)          (None, 75, 75, 64)        2048      \n",
            "                                                                 \n",
            " conv_pw_1_bn (BatchNormali  (None, 75, 75, 64)        256       \n",
            " zation)                                                         \n",
            "                                                                 \n",
            " conv_pw_1_relu (ReLU)       (None, 75, 75, 64)        0         \n",
            "                                                                 \n",
            " conv_pad_2 (ZeroPadding2D)  (None, 76, 76, 64)        0         \n",
            "                                                                 \n",
            " conv_dw_2 (DepthwiseConv2D  (None, 37, 37, 64)        576       \n",
            " )                                                               \n",
            "                                                                 \n",
            " conv_dw_2_bn (BatchNormali  (None, 37, 37, 64)        256       \n",
            " zation)                                                         \n",
            "                                                                 \n",
            " conv_dw_2_relu (ReLU)       (None, 37, 37, 64)        0         \n",
            "                                                                 \n",
            " conv_pw_2 (Conv2D)          (None, 37, 37, 128)       8192      \n",
            "                                                                 \n",
            " conv_pw_2_bn (BatchNormali  (None, 37, 37, 128)       512       \n",
            " zation)                                                         \n",
            "                                                                 \n",
            " conv_pw_2_relu (ReLU)       (None, 37, 37, 128)       0         \n",
            "                                                                 \n",
            " conv_dw_3 (DepthwiseConv2D  (None, 37, 37, 128)       1152      \n",
            " )                                                               \n",
            "                                                                 \n",
            " conv_dw_3_bn (BatchNormali  (None, 37, 37, 128)       512       \n",
            " zation)                                                         \n",
            "                                                                 \n",
            " conv_dw_3_relu (ReLU)       (None, 37, 37, 128)       0         \n",
            "                                                                 \n",
            " conv_pw_3 (Conv2D)          (None, 37, 37, 128)       16384     \n",
            "                                                                 \n",
            " conv_pw_3_bn (BatchNormali  (None, 37, 37, 128)       512       \n",
            " zation)                                                         \n",
            "                                                                 \n",
            " conv_pw_3_relu (ReLU)       (None, 37, 37, 128)       0         \n",
            "                                                                 \n",
            " conv_pad_4 (ZeroPadding2D)  (None, 38, 38, 128)       0         \n",
            "                                                                 \n",
            " conv_dw_4 (DepthwiseConv2D  (None, 18, 18, 128)       1152      \n",
            " )                                                               \n",
            "                                                                 \n",
            " conv_dw_4_bn (BatchNormali  (None, 18, 18, 128)       512       \n",
            " zation)                                                         \n",
            "                                                                 \n",
            " conv_dw_4_relu (ReLU)       (None, 18, 18, 128)       0         \n",
            "                                                                 \n",
            " conv_pw_4 (Conv2D)          (None, 18, 18, 256)       32768     \n",
            "                                                                 \n",
            " conv_pw_4_bn (BatchNormali  (None, 18, 18, 256)       1024      \n",
            " zation)                                                         \n",
            "                                                                 \n",
            " conv_pw_4_relu (ReLU)       (None, 18, 18, 256)       0         \n",
            "                                                                 \n",
            " conv_dw_5 (DepthwiseConv2D  (None, 18, 18, 256)       2304      \n",
            " )                                                               \n",
            "                                                                 \n",
            " conv_dw_5_bn (BatchNormali  (None, 18, 18, 256)       1024      \n",
            " zation)                                                         \n",
            "                                                                 \n",
            " conv_dw_5_relu (ReLU)       (None, 18, 18, 256)       0         \n",
            "                                                                 \n",
            " conv_pw_5 (Conv2D)          (None, 18, 18, 256)       65536     \n",
            "                                                                 \n",
            " conv_pw_5_bn (BatchNormali  (None, 18, 18, 256)       1024      \n",
            " zation)                                                         \n",
            "                                                                 \n",
            " conv_pw_5_relu (ReLU)       (None, 18, 18, 256)       0         \n",
            "                                                                 \n",
            " conv_pad_6 (ZeroPadding2D)  (None, 19, 19, 256)       0         \n",
            "                                                                 \n",
            " conv_dw_6 (DepthwiseConv2D  (None, 9, 9, 256)         2304      \n",
            " )                                                               \n",
            "                                                                 \n",
            " conv_dw_6_bn (BatchNormali  (None, 9, 9, 256)         1024      \n",
            " zation)                                                         \n",
            "                                                                 \n",
            " conv_dw_6_relu (ReLU)       (None, 9, 9, 256)         0         \n",
            "                                                                 \n",
            " conv_pw_6 (Conv2D)          (None, 9, 9, 512)         131072    \n",
            "                                                                 \n",
            " conv_pw_6_bn (BatchNormali  (None, 9, 9, 512)         2048      \n",
            " zation)                                                         \n",
            "                                                                 \n",
            " conv_pw_6_relu (ReLU)       (None, 9, 9, 512)         0         \n",
            "                                                                 \n",
            " conv_dw_7 (DepthwiseConv2D  (None, 9, 9, 512)         4608      \n",
            " )                                                               \n",
            "                                                                 \n",
            " conv_dw_7_bn (BatchNormali  (None, 9, 9, 512)         2048      \n",
            " zation)                                                         \n",
            "                                                                 \n",
            " conv_dw_7_relu (ReLU)       (None, 9, 9, 512)         0         \n",
            "                                                                 \n",
            " conv_pw_7 (Conv2D)          (None, 9, 9, 512)         262144    \n",
            "                                                                 \n",
            " conv_pw_7_bn (BatchNormali  (None, 9, 9, 512)         2048      \n",
            " zation)                                                         \n",
            "                                                                 \n",
            " conv_pw_7_relu (ReLU)       (None, 9, 9, 512)         0         \n",
            "                                                                 \n",
            " conv_dw_8 (DepthwiseConv2D  (None, 9, 9, 512)         4608      \n",
            " )                                                               \n",
            "                                                                 \n",
            " conv_dw_8_bn (BatchNormali  (None, 9, 9, 512)         2048      \n",
            " zation)                                                         \n",
            "                                                                 \n",
            " conv_dw_8_relu (ReLU)       (None, 9, 9, 512)         0         \n",
            "                                                                 \n",
            " conv_pw_8 (Conv2D)          (None, 9, 9, 512)         262144    \n",
            "                                                                 \n",
            " conv_pw_8_bn (BatchNormali  (None, 9, 9, 512)         2048      \n",
            " zation)                                                         \n",
            "                                                                 \n",
            " conv_pw_8_relu (ReLU)       (None, 9, 9, 512)         0         \n",
            "                                                                 \n",
            " conv_dw_9 (DepthwiseConv2D  (None, 9, 9, 512)         4608      \n",
            " )                                                               \n",
            "                                                                 \n",
            " conv_dw_9_bn (BatchNormali  (None, 9, 9, 512)         2048      \n",
            " zation)                                                         \n",
            "                                                                 \n",
            " conv_dw_9_relu (ReLU)       (None, 9, 9, 512)         0         \n",
            "                                                                 \n",
            " conv_pw_9 (Conv2D)          (None, 9, 9, 512)         262144    \n",
            "                                                                 \n",
            " conv_pw_9_bn (BatchNormali  (None, 9, 9, 512)         2048      \n",
            " zation)                                                         \n",
            "                                                                 \n",
            " conv_pw_9_relu (ReLU)       (None, 9, 9, 512)         0         \n",
            "                                                                 \n",
            " conv_dw_10 (DepthwiseConv2  (None, 9, 9, 512)         4608      \n",
            " D)                                                              \n",
            "                                                                 \n",
            " conv_dw_10_bn (BatchNormal  (None, 9, 9, 512)         2048      \n",
            " ization)                                                        \n",
            "                                                                 \n",
            " conv_dw_10_relu (ReLU)      (None, 9, 9, 512)         0         \n",
            "                                                                 \n",
            " conv_pw_10 (Conv2D)         (None, 9, 9, 512)         262144    \n",
            "                                                                 \n",
            " conv_pw_10_bn (BatchNormal  (None, 9, 9, 512)         2048      \n",
            " ization)                                                        \n",
            "                                                                 \n",
            " conv_pw_10_relu (ReLU)      (None, 9, 9, 512)         0         \n",
            "                                                                 \n",
            " conv_dw_11 (DepthwiseConv2  (None, 9, 9, 512)         4608      \n",
            " D)                                                              \n",
            "                                                                 \n",
            " conv_dw_11_bn (BatchNormal  (None, 9, 9, 512)         2048      \n",
            " ization)                                                        \n",
            "                                                                 \n",
            " conv_dw_11_relu (ReLU)      (None, 9, 9, 512)         0         \n",
            "                                                                 \n",
            " conv_pw_11 (Conv2D)         (None, 9, 9, 512)         262144    \n",
            "                                                                 \n",
            " conv_pw_11_bn (BatchNormal  (None, 9, 9, 512)         2048      \n",
            " ization)                                                        \n",
            "                                                                 \n",
            " conv_pw_11_relu (ReLU)      (None, 9, 9, 512)         0         \n",
            "                                                                 \n",
            " conv_pad_12 (ZeroPadding2D  (None, 10, 10, 512)       0         \n",
            " )                                                               \n",
            "                                                                 \n",
            " conv_dw_12 (DepthwiseConv2  (None, 4, 4, 512)         4608      \n",
            " D)                                                              \n",
            "                                                                 \n",
            " conv_dw_12_bn (BatchNormal  (None, 4, 4, 512)         2048      \n",
            " ization)                                                        \n",
            "                                                                 \n",
            " conv_dw_12_relu (ReLU)      (None, 4, 4, 512)         0         \n",
            "                                                                 \n",
            " conv_pw_12 (Conv2D)         (None, 4, 4, 1024)        524288    \n",
            "                                                                 \n",
            " conv_pw_12_bn (BatchNormal  (None, 4, 4, 1024)        4096      \n",
            " ization)                                                        \n",
            "                                                                 \n",
            " conv_pw_12_relu (ReLU)      (None, 4, 4, 1024)        0         \n",
            "                                                                 \n",
            " conv_dw_13 (DepthwiseConv2  (None, 4, 4, 1024)        9216      \n",
            " D)                                                              \n",
            "                                                                 \n",
            " conv_dw_13_bn (BatchNormal  (None, 4, 4, 1024)        4096      \n",
            " ization)                                                        \n",
            "                                                                 \n",
            " conv_dw_13_relu (ReLU)      (None, 4, 4, 1024)        0         \n",
            "                                                                 \n",
            " conv_pw_13 (Conv2D)         (None, 4, 4, 1024)        1048576   \n",
            "                                                                 \n",
            " conv_pw_13_bn (BatchNormal  (None, 4, 4, 1024)        4096      \n",
            " ization)                                                        \n",
            "                                                                 \n",
            " conv_pw_13_relu (ReLU)      (None, 4, 4, 1024)        0         \n",
            "                                                                 \n",
            " average_pooling2d (Average  (None, 2, 2, 1024)        0         \n",
            " Pooling2D)                                                      \n",
            "                                                                 \n",
            " flatten (Flatten)           (None, 4096)              0         \n",
            "                                                                 \n",
            " dense (Dense)               (None, 512)               2097664   \n",
            "                                                                 \n",
            " dropout (Dropout)           (None, 512)               0         \n",
            "                                                                 \n",
            " dense_1 (Dense)             (None, 2)                 1026      \n",
            "                                                                 \n",
            "=================================================================\n",
            "Total params: 5327554 (20.32 MB)\n",
            "Trainable params: 2098690 (8.01 MB)\n",
            "Non-trainable params: 3228864 (12.32 MB)\n",
            "_________________________________________________________________\n"
          ]
        }
      ]
    },
    {
      "cell_type": "code",
      "source": [
        "# Huấn luyện mô hình\n",
        "epochs3 = 15\n",
        "history3 = model.fit(\n",
        "  X_train, y_train,\n",
        "  validation_data = (X_val, y_val),\n",
        "  epochs = epochs3,\n",
        "  batch_size = 32)"
      ],
      "metadata": {
        "colab": {
          "base_uri": "https://localhost:8080/"
        },
        "id": "K7WPg5LTJ8P3",
        "outputId": "e9abd63a-7b85-4a2e-9107-59ea24473629"
      },
      "execution_count": 25,
      "outputs": [
        {
          "output_type": "stream",
          "name": "stdout",
          "text": [
            "Epoch 1/15\n",
            "65/65 [==============================] - 54s 789ms/step - loss: 1.0277 - accuracy: 0.8717 - val_loss: 0.1728 - val_accuracy: 0.9524\n",
            "Epoch 2/15\n",
            "65/65 [==============================] - 51s 782ms/step - loss: 0.2126 - accuracy: 0.9201 - val_loss: 0.1279 - val_accuracy: 0.9542\n",
            "Epoch 3/15\n",
            "65/65 [==============================] - 49s 765ms/step - loss: 0.1362 - accuracy: 0.9439 - val_loss: 0.1653 - val_accuracy: 0.9414\n",
            "Epoch 4/15\n",
            "65/65 [==============================] - 49s 764ms/step - loss: 0.1353 - accuracy: 0.9463 - val_loss: 0.1397 - val_accuracy: 0.9542\n",
            "Epoch 5/15\n",
            "65/65 [==============================] - 47s 727ms/step - loss: 0.1009 - accuracy: 0.9661 - val_loss: 0.1258 - val_accuracy: 0.9579\n",
            "Epoch 6/15\n",
            "65/65 [==============================] - 48s 749ms/step - loss: 0.0942 - accuracy: 0.9627 - val_loss: 0.1305 - val_accuracy: 0.9615\n",
            "Epoch 7/15\n",
            "65/65 [==============================] - 46s 712ms/step - loss: 0.0733 - accuracy: 0.9714 - val_loss: 0.1254 - val_accuracy: 0.9542\n",
            "Epoch 8/15\n",
            "65/65 [==============================] - 54s 839ms/step - loss: 0.0755 - accuracy: 0.9734 - val_loss: 0.1273 - val_accuracy: 0.9542\n",
            "Epoch 9/15\n",
            "65/65 [==============================] - 60s 925ms/step - loss: 0.0623 - accuracy: 0.9777 - val_loss: 0.2558 - val_accuracy: 0.9377\n",
            "Epoch 10/15\n",
            "65/65 [==============================] - 47s 724ms/step - loss: 0.0945 - accuracy: 0.9627 - val_loss: 0.2612 - val_accuracy: 0.9304\n",
            "Epoch 11/15\n",
            "65/65 [==============================] - 52s 796ms/step - loss: 0.0764 - accuracy: 0.9705 - val_loss: 0.1419 - val_accuracy: 0.9615\n",
            "Epoch 12/15\n",
            "65/65 [==============================] - 50s 766ms/step - loss: 0.0656 - accuracy: 0.9734 - val_loss: 0.1408 - val_accuracy: 0.9579\n",
            "Epoch 13/15\n",
            "65/65 [==============================] - 49s 752ms/step - loss: 0.0589 - accuracy: 0.9763 - val_loss: 0.1527 - val_accuracy: 0.9634\n",
            "Epoch 14/15\n",
            "65/65 [==============================] - 48s 734ms/step - loss: 0.0509 - accuracy: 0.9811 - val_loss: 0.1864 - val_accuracy: 0.9505\n",
            "Epoch 15/15\n",
            "65/65 [==============================] - 48s 744ms/step - loss: 0.0704 - accuracy: 0.9748 - val_loss: 0.1980 - val_accuracy: 0.9359\n"
          ]
        }
      ]
    },
    {
      "cell_type": "code",
      "source": [
        "# Đồ thị hàm mất mát\n",
        "loss3 = history3.history['loss']\n",
        "val_loss3 = history3.history['val_loss']\n",
        "epochs = range(1, len(loss3)+1)\n",
        "plt.plot(epochs, loss3, 'b', label = 'Độ mất mát trên tập huấn luyện')\n",
        "plt.plot(epochs, val_loss3, 'r', label = 'Độ mất mát trên tập kiểm thử')\n",
        "plt.title('Đồ thị độ mất mát - Mô hình MobileNet')\n",
        "plt.xlabel('Vòng huấn luyện')\n",
        "plt.ylabel('Độ mất mát')\n",
        "plt.legend()\n",
        "plt.show()"
      ],
      "metadata": {
        "colab": {
          "base_uri": "https://localhost:8080/",
          "height": 473
        },
        "id": "Vm508OzrJ_UW",
        "outputId": "ba1c1494-b56b-4d4a-b74c-496a57023287"
      },
      "execution_count": 26,
      "outputs": [
        {
          "output_type": "display_data",
          "data": {
            "text/plain": [
              "<Figure size 640x480 with 1 Axes>"
            ],
            "image/png": "[encoded data removed]"
          },
          "metadata": {}
        }
      ]
    },
    {
      "cell_type": "code",
      "source": [
        "# Đồ thị độ chính xác của mô hình\n",
        "acc3 = history3.history['accuracy']\n",
        "val_acc3 = history3.history['val_accuracy']\n",
        "plt.plot(epochs, acc3, 'b', label = 'Độ chính xác tập huấn luyện')\n",
        "plt.plot(epochs, val_acc3, 'r', label = 'Độ chính xác trên tập kiểm thử')\n",
        "plt.title('Đồ thị độ chính xác - Mô hình MobileNet')\n",
        "plt.xlabel('Vòng huấn luyện')\n",
        "plt.ylabel('Độ chính xác')\n",
        "plt.legend()\n",
        "plt.show()"
      ],
      "metadata": {
        "colab": {
          "base_uri": "https://localhost:8080/",
          "height": 473
        },
        "id": "jfhKkfKBKAFf",
        "outputId": "b059151e-3b16-42eb-ca99-166e0a2510fb"
      },
      "execution_count": 27,
      "outputs": [
        {
          "output_type": "display_data",
          "data": {
            "text/plain": [
              "<Figure size 640x480 with 1 Axes>"
            ],
            "image/png": "[encoded data removed]"
          },
          "metadata": {}
        }
      ]
    },
    {
      "cell_type": "code",
      "source": [
        "model.save('/content/drive/MyDrive/AI/Mô hình/Moblienet 1')"
      ],
      "metadata": {
        "id": "-QcATwu7KFgQ"
      },
      "execution_count": 28,
      "outputs": []
    }
  ]
}